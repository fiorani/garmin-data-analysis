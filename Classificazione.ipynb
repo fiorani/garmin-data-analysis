{
 "cells": [
  {
   "cell_type": "code",
   "execution_count": null,
   "metadata": {},
   "outputs": [],
   "source": [
    "# setup e test librerie\n",
    "%pip install numpy\n",
    "%pip install pandas\n",
    "%pip install matplotlib\n",
    "%pip install scikit-learn\n",
    "%matplotlib inline\n",
    "import numpy as np\n",
    "import pandas as pd\n",
    "import matplotlib.pyplot as plt\n",
    "import sklearn"
   ]
  },
  {
   "cell_type": "markdown",
   "metadata": {},
   "source": [
    "# Loading Datasets"
   ]
  },
  {
   "cell_type": "code",
   "execution_count": null,
   "metadata": {},
   "outputs": [],
   "source": [
    "dailyCalories = pd.read_csv(\"Fitabase Data 4.12.16-5.12.16/dailyCalories_merged.csv\")\n",
    "dailyIntensities = pd.read_csv(\"Fitabase Data 4.12.16-5.12.16/dailyIntensities_merged.csv\")\n",
    "dailySteps = pd.read_csv(\"Fitabase Data 4.12.16-5.12.16/dailySteps_merged.csv\")\n",
    "dailyDistances = pd.read_csv(\"Fitabase Data 4.12.16-5.12.16/dailyDistances_merged.csv\")\n",
    "dailySleep = pd.read_csv(\"Fitabase Data 4.12.16-5.12.16/sleepDay_merged.csv\")\n",
    "heartrateSeconds = pd.read_csv(\"Fitabase Data 4.12.16-5.12.16/heartrate_seconds_merged.csv\")\n",
    "weightLog = pd.read_csv(\"Fitabase Data 4.12.16-5.12.16/weightLogInfo_merged.csv\")"
   ]
  },
  {
   "cell_type": "code",
   "execution_count": null,
   "metadata": {},
   "outputs": [],
   "source": [
    "from functools import reduce \n",
    "\n",
    "# merge dei dataset\n",
    "dfs = [dailyCalories, dailyIntensities, dailySteps, dailyDistances, dailySleep, weightLog]\n",
    "dfs = [df.assign(Day=pd.to_datetime(df['Day'])) for df in dfs]\n",
    "\n",
    "dailyActivities = reduce(lambda left,right: pd.merge(left,right,on=['Id', 'Day'], how='outer'), dfs)\n",
    "\n",
    "# raffinamento dei dati\n",
    "dailyActivities.set_index(['Id'], inplace=True)\n",
    "dailyActivities['Day'] = pd.to_datetime(dailyActivities['Day'])\n",
    "dailyActivities.fillna(dailyActivities.groupby('Id').transform(lambda x: x.mean()), inplace=True)\n",
    "dailyActivities.head(5)"
   ]
  },
  {
   "cell_type": "markdown",
   "metadata": {},
   "source": [
    "## Data Visualization"
   ]
  },
  {
   "cell_type": "code",
   "execution_count": null,
   "metadata": {},
   "outputs": [],
   "source": [
    "dailyActivities.plot.scatter(x='StepTotal', y='Calories')"
   ]
  },
  {
   "cell_type": "code",
   "execution_count": null,
   "metadata": {},
   "outputs": [],
   "source": [
    "dailySleep.plot.scatter(x='Day', y='TotalMinutesAsleep')"
   ]
  },
  {
   "cell_type": "code",
   "execution_count": null,
   "metadata": {},
   "outputs": [],
   "source": [
    "dailySleep.plot.scatter(x='TotalTimeInBed', y='TotalMinutesAsleep')"
   ]
  },
  {
   "cell_type": "markdown",
   "metadata": {},
   "source": [
    "# Sleep Analysis\n"
   ]
  },
  {
   "cell_type": "code",
   "execution_count": null,
   "metadata": {},
   "outputs": [],
   "source": [
    "dailySleep[\"SleepClassification\"] = \"Buono\"  # Imposta il valore predefinito a \"Buono\"\n",
    "# Applica la regola per classificare il sonno come \"cattivo\" se TotalMinutesAsleep è inferiore al 50% di TotalTimeInBed\n",
    "dailySleep.loc[dailySleep[\"TotalMinutesAsleep\"] <  0.8* dailySleep[\"TotalTimeInBed\"], \"SleepClassification\"] = \"Cattivo\""
   ]
  },
  {
   "cell_type": "code",
   "execution_count": null,
   "metadata": {},
   "outputs": [],
   "source": [
    "from sklearn.model_selection import train_test_split\n",
    "# Seleziona le colonne di input e l'etichetta di classe\n",
    "#X = daily_data[[\"TotalSleepRecords\", \"TotalMinutesAsleep\", \"TotalTimeInBed\"]]\n",
    "X = dailySleep[[\"TotalMinutesAsleep\", \"TotalTimeInBed\"]]\n",
    "y = dailySleep['SleepClassification']\n",
    "# Dividi il dataset in training set e test set\n",
    "X_train, X_test, y_train, y_test = train_test_split(X, y, test_size=1/3, random_state=42)\n"
   ]
  },
  {
   "cell_type": "code",
   "execution_count": null,
   "metadata": {},
   "outputs": [],
   "source": [
    "diagnosis_color_map = {\"Buono\": \"blue\", \"Cattivo\": \"red\"}\n",
    "X_train.plot.scatter(\"TotalMinutesAsleep\", \"TotalTimeInBed\", c=y_train.map(diagnosis_color_map), figsize=(8, 6));"
   ]
  },
  {
   "cell_type": "code",
   "execution_count": null,
   "metadata": {},
   "outputs": [],
   "source": [
    "from sklearn.preprocessing import StandardScaler\n",
    "scaler = StandardScaler()\n",
    "X2dn_train = scaler.fit_transform(X_train)\n",
    "X2dn_val = scaler.transform(X_test)"
   ]
  },
  {
   "cell_type": "code",
   "execution_count": null,
   "metadata": {},
   "outputs": [],
   "source": [
    "from sklearn.linear_model import LogisticRegression\n",
    "model = LogisticRegression(solver=\"saga\", random_state=42)\n",
    "model.fit(X2dn_train, y_train)\n",
    "mx1, mx2 = np.meshgrid(np.linspace(-3.5, 4.5, 100), np.linspace(-3.5, 4.5, 100))\n",
    "my = model.predict_proba(np.c_[mx1.ravel(), mx2.ravel()])[:, 1].reshape(mx1.shape)\n",
    "plt.figure(figsize=(9, 6))\n",
    "plt.contourf(mx1, mx2, my, cmap=\"summer\")\n",
    "plt.scatter(*X2dn_train.T, c=y_train.map(diagnosis_color_map))\n",
    "plt.colorbar();"
   ]
  },
  {
   "cell_type": "code",
   "execution_count": null,
   "metadata": {},
   "outputs": [],
   "source": [
    "model.score(X2dn_val, y_test)"
   ]
  },
  {
   "cell_type": "code",
   "execution_count": null,
   "metadata": {},
   "outputs": [],
   "source": []
  }
 ],
 "metadata": {
  "kernelspec": {
   "display_name": "Python 3 (ipykernel)",
   "language": "python",
   "name": "python3"
  },
  "language_info": {
   "codemirror_mode": {
    "name": "ipython",
    "version": 3
   },
   "file_extension": ".py",
   "mimetype": "text/x-python",
   "name": "python",
   "nbconvert_exporter": "python",
   "pygments_lexer": "ipython3",
   "version": "3.10.9"
  }
 },
 "nbformat": 4,
 "nbformat_minor": 2
}
