{
 "cells": [
  {
   "cell_type": "code",
   "execution_count": null,
   "metadata": {},
   "outputs": [],
   "source": [
    "# setup e test librerie\n",
    "%pip install numpy\n",
    "%pip install pandas\n",
    "%pip install matplotlib\n",
    "%pip install scikit-learn\n",
    "%matplotlib inline\n",
    "import numpy as np\n",
    "import pandas as pd\n",
    "import matplotlib.pyplot as plt\n",
    "import sklearn"
   ]
  },
  {
   "cell_type": "markdown",
   "metadata": {},
   "source": [
    "# Loading Datasets"
   ]
  },
  {
   "cell_type": "code",
   "execution_count": null,
   "metadata": {},
   "outputs": [],
   "source": [
    "dailyCalories = pd.read_csv(\"Fitabase Data 4.12.16-5.12.16/dailyCalories_merged.csv\")\n",
    "dailyIntensities = pd.read_csv(\"Fitabase Data 4.12.16-5.12.16/dailyIntensities_merged.csv\")\n",
    "dailySteps = pd.read_csv(\"Fitabase Data 4.12.16-5.12.16/dailySteps_merged.csv\")\n",
    "dailyDistances = pd.read_csv(\"Fitabase Data 4.12.16-5.12.16/dailyDistances_merged.csv\")\n",
    "dailySleep = pd.read_csv(\"Fitabase Data 4.12.16-5.12.16/sleepDay_merged.csv\")\n",
    "heartrateSeconds = pd.read_csv(\"Fitabase Data 4.12.16-5.12.16/heartrate_seconds_merged.csv\")\n",
    "weightLog = pd.read_csv(\"Fitabase Data 4.12.16-5.12.16/weightLogInfo_merged.csv\")"
   ]
  },
  {
   "cell_type": "code",
   "execution_count": null,
   "metadata": {},
   "outputs": [],
   "source": [
    "from functools import reduce \n",
    "\n",
    "# merge dei dataset\n",
    "activity_dfs = [dailyCalories, dailyIntensities, dailySteps, dailyDistances]\n",
    "activity_dfs = [df.assign(Day=pd.to_datetime(df['Day'])) for df in activity_dfs]\n",
    "\n",
    "dailyActivities = reduce(lambda left,right: pd.merge(left,right,on=['Id', 'Day'], how='outer'), activity_dfs)\n",
    "\n",
    "# raffinamento dei dati\n",
    "dailyActivities.set_index(['Id'], inplace=True)\n",
    "dailyActivities['Day'] = pd.to_datetime(dailyActivities['Day'])\n",
    "dailyActivities.head(5)"
   ]
  },
  {
   "cell_type": "markdown",
   "metadata": {},
   "source": [
    "## Data Visualization"
   ]
  },
  {
   "cell_type": "code",
   "execution_count": null,
   "metadata": {},
   "outputs": [],
   "source": [
    "dailyActivities.plot.scatter(x='StepTotal', y='Calories')"
   ]
  },
  {
   "cell_type": "code",
   "execution_count": null,
   "metadata": {},
   "outputs": [],
   "source": [
    "dailySleep.plot.scatter(x='Day', y='TotalMinutesAsleep')"
   ]
  },
  {
   "cell_type": "code",
   "execution_count": null,
   "metadata": {},
   "outputs": [],
   "source": [
    "dailySleep.plot.scatter(x='TotalTimeInBed', y='TotalMinutesAsleep')"
   ]
  },
  {
   "cell_type": "markdown",
   "metadata": {},
   "source": [
    "### Kcal comsumption prediction"
   ]
  },
  {
   "cell_type": "code",
   "execution_count": null,
   "metadata": {},
   "outputs": [],
   "source": [
    "# MSE e R^2 sono incluse in scikit-learn\n",
    "from sklearn.metrics import mean_squared_error, r2_score\n",
    "\n",
    "# definisco l'errore relativo\n",
    "def relative_error(y_true, y_pred):\n",
    "    return np.mean(np.abs((y_true - y_pred) / y_true))\n",
    "\n",
    "def print_eval(X, y, model):\n",
    "    preds = model.predict(X)\n",
    "    mse = mean_squared_error(y, preds)\n",
    "    re = relative_error(y, preds)\n",
    "    r2 = r2_score(y, preds)\n",
    "    print(f\"   Mean squared error: {mse:.5}\")\n",
    "    print(f\"       Relative error: {re:.5%}\")\n",
    "    print(f\"R-squared coefficient: {r2:.5}\")"
   ]
  },
  {
   "cell_type": "code",
   "execution_count": null,
   "metadata": {},
   "outputs": [],
   "source": [
    "from sklearn.linear_model import LinearRegression\n",
    "from sklearn.preprocessing import PolynomialFeatures, StandardScaler\n",
    "from sklearn.pipeline import Pipeline\n",
    "from sklearn.model_selection import train_test_split\n",
    "\n",
    "X = dailyActivities.drop([\"Day\", \"Calories\", \"TrackerDistance\", \"LoggedActivitiesDistance\"], axis=1)\n",
    "y = dailyActivities[\"Calories\"]\n",
    "\n",
    "X_train, X_val, y_train, y_val = train_test_split(X, y, test_size=0.2, random_state=42)\n",
    "\n",
    "model = LinearRegression()\n",
    "model.fit(X_train, y_train)\n",
    "print_eval(X_val, y_val, model)"
   ]
  },
  {
   "cell_type": "code",
   "execution_count": null,
   "metadata": {},
   "outputs": [],
   "source": [
    "model_b = Pipeline([\n",
    "    (\"poly\",   PolynomialFeatures(degree=1, include_bias=False)),\n",
    "    (\"linreg\", LinearRegression())\n",
    "])\n",
    "model_b.fit(X_train, y_train)\n",
    "print_eval(X_val, y_val, model_b)"
   ]
  },
  {
   "cell_type": "code",
   "execution_count": null,
   "metadata": {
    "scrolled": true
   },
   "outputs": [],
   "source": [
    "model_c = Pipeline([\n",
    "    (\"poly\",   PolynomialFeatures(degree=1, include_bias=False)),\n",
    "    (\"scale\",  StandardScaler()),\n",
    "    (\"linreg\", LinearRegression())\n",
    "])\n",
    "model_c.fit(X_train, y_train)\n",
    "print_eval(X_val, y_val, model_c)"
   ]
  },
  {
   "cell_type": "code",
   "execution_count": null,
   "metadata": {
    "scrolled": true
   },
   "outputs": [],
   "source": [
    "rrm = Pipeline([\n",
    "    (\"poly\", PolynomialFeatures(degree=1, include_bias=False)),\n",
    "    (\"scale\", StandardScaler()),\n",
    "    (\"ridge\", Ridge(alpha=0.1))\n",
    "])\n",
    "rrm.fit(X_train, y_train)\n",
    "print_eval(X_val, y_val, rrm)"
   ]
  },
  {
   "cell_type": "code",
   "execution_count": null,
   "metadata": {},
   "outputs": [],
   "source": [
    "def test_regression(degree, alpha):\n",
    "    rrm = Pipeline([\n",
    "        (\"poly\", PolynomialFeatures(degree=degree, include_bias=False)),\n",
    "        (\"scale\", StandardScaler()),\n",
    "        (\"ridge\", Ridge(alpha=alpha))\n",
    "    ])\n",
    "    rrm.fit(X_train, y_train)\n",
    "    return rrm.score(X_val, y_val)"
   ]
  },
  {
   "cell_type": "code",
   "execution_count": null,
   "metadata": {},
   "outputs": [],
   "source": [
    "res_degree = np.arange(1, 10)\n",
    "res_low_reg = np.array([test_regression(d, 0.01) for d in res_degree])"
   ]
  },
  {
   "cell_type": "code",
   "execution_count": null,
   "metadata": {},
   "outputs": [],
   "source": [
    "res_high_reg = np.array([test_regression(d, 10) for d in res_degree])"
   ]
  },
  {
   "cell_type": "code",
   "execution_count": null,
   "metadata": {
    "scrolled": true
   },
   "outputs": [],
   "source": [
    "plt.figure(figsize=(10, 6))\n",
    "plt.plot(res_degree, res_low_reg, \"ro-\")\n",
    "plt.plot(res_degree, res_high_reg, \"bo-\")\n",
    "plt.grid()\n",
    "plt.xlabel(\"Grado regr. polinomiale\")\n",
    "plt.ylabel(\"Score R²\")\n",
    "# aggiungiamo una legenda al grafico\n",
    "plt.legend([\"α = 0.01\", \"α = 10\"], loc=\"lower right\");"
   ]
  },
  {
   "cell_type": "code",
   "execution_count": null,
   "metadata": {
    "scrolled": true
   },
   "outputs": [],
   "source": [
    "scaled = Pipeline([\n",
    "    (\"scale\", StandardScaler()),\n",
    "    (\"lr\", LinearRegression())\n",
    "])\n",
    "scaled.fit(X_train, y_train)\n",
    "\n",
    "simple = LinearRegression()\n",
    "simple.fit(X_train, y_train)\n",
    "\n",
    "ridge = Pipeline([\n",
    "    (\"scale\", StandardScaler()),\n",
    "    (\"ridge\", Ridge(alpha=0.1))\n",
    "])\n",
    "ridge.fit(X_train, y_train)\n",
    "\n",
    "pd.DataFrame({\n",
    "    \"linear\": simple.coef_,\n",
    "    \"ridge\": ridge.named_steps[\"ridge\"].coef_,\n",
    "    \"scaled\": scaled.named_steps[\"lr\"].coef_\n",
    "}, index=X_train.columns)"
   ]
  },
  {
   "cell_type": "code",
   "execution_count": null,
   "metadata": {
    "scrolled": false
   },
   "outputs": [],
   "source": [
    "lasso = Pipeline([\n",
    "    (\"scale\", StandardScaler()),\n",
    "    (\"regr\", Lasso(alpha=1))\n",
    "])\n",
    "lasso.fit(X_train, y_train)\n",
    "print_eval(X_val, y_val, lasso)\n",
    "pd.Series(lasso.named_steps[\"regr\"].coef_, X_train.columns)"
   ]
  },
  {
   "cell_type": "code",
   "execution_count": null,
   "metadata": {
    "scrolled": true
   },
   "outputs": [],
   "source": [
    "lasso2 = Pipeline([\n",
    "    (\"scale\", StandardScaler()),\n",
    "    (\"regr\", Lasso(alpha=0.2))\n",
    "])\n",
    "lasso2.fit(X_train, y_train)\n",
    "print_eval(X_val, y_val, lasso2)\n",
    "pd.Series(lasso2.named_steps[\"regr\"].coef_, X_train.columns)"
   ]
  },
  {
   "cell_type": "code",
   "execution_count": null,
   "metadata": {},
   "outputs": [],
   "source": [
    "elasticNet = Pipeline([\n",
    "    (\"scale\",  StandardScaler()),\n",
    "    (\"regr\", ElasticNet(alpha=0.2, l1_ratio=0.1))\n",
    "])\n",
    "elasticNet.fit(X_train, y_train)\n",
    "print_eval(X_val, y_val, elasticNet)"
   ]
  },
  {
   "cell_type": "code",
   "execution_count": null,
   "metadata": {},
   "outputs": [],
   "source": [
    "def elastic_net_with_alphas(alpha_l2, alpha_l1):\n",
    "    alpha = alpha_l1 + alpha_l2\n",
    "    l1_ratio = alpha_l1 / alpha\n",
    "    return ElasticNet(alpha=alpha, l1_ratio=l1_ratio)"
   ]
  },
  {
   "cell_type": "code",
   "execution_count": null,
   "metadata": {},
   "outputs": [],
   "source": [
    "elasticNetAlphas = Pipeline([\n",
    "    (\"scale\", StandardScaler()),\n",
    "    (\"regr\", elastic_net_with_alphas(1, 0.1))\n",
    "])\n",
    "elasticNetAlphas.fit(X_train, y_train)\n",
    "print_eval(X_val, y_val, elasticNetAlphas)"
   ]
  },
  {
   "cell_type": "code",
   "execution_count": null,
   "metadata": {},
   "outputs": [],
   "source": [
    "def multivariate_scaled_elasticnet(degree):\n",
    "    return Pipeline([\n",
    "        (\"poly\", PolynomialFeatures(degree, include_bias=False)),\n",
    "        (\"scale\", StandardScaler()),\n",
    "        (\"regr\", ElasticNet(alpha=0.5, l1_ratio=0.2))\n",
    "    ])"
   ]
  },
  {
   "cell_type": "code",
   "execution_count": null,
   "metadata": {},
   "outputs": [],
   "source": [
    "mven = multivariate_elastic_net(2)\n",
    "mven.fit(X_train, y_train)\n",
    "print_eval(X_val, y_val, mven)"
   ]
  },
  {
   "cell_type": "code",
   "execution_count": null,
   "metadata": {},
   "outputs": [],
   "source": [
    "mven = multivariate_elastic_net(4)\n",
    "mven.fit(X_train, y_train)\n",
    "print_eval(X_val, y_val, mven)"
   ]
  },
  {
   "cell_type": "code",
   "execution_count": null,
   "metadata": {},
   "outputs": [],
   "source": [
    "mven = multivariate_elastic_net(8)\n",
    "mven.fit(X_train, y_train)\n",
    "print_eval(X_val, y_val, mven)"
   ]
  },
  {
   "cell_type": "code",
   "execution_count": null,
   "metadata": {},
   "outputs": [],
   "source": [
    "from sklearn.kernel_ridge import KernelRidge\n",
    "model = Pipeline([\n",
    "    (\"scale\", StandardScaler()),\n",
    "    (\"regr\",  KernelRidge(alpha=20, kernel=\"poly\", degree=5))\n",
    "])\n",
    "%time model.fit(X_train, y_train)\n",
    "print_eval(X_val, y_val, model)"
   ]
  },
  {
   "cell_type": "code",
   "execution_count": null,
   "metadata": {},
   "outputs": [],
   "source": [
    "rbf_kernel = Pipeline([\n",
    "    (\"scale\", StandardScaler()),\n",
    "    (\"regr\",  KernelRidge(alpha=20, kernel=\"rbf\", gamma=0.01))\n",
    "])\n",
    "%time model.fit(X_train, y_train)\n",
    "print_eval(X_val, y_val, model)"
   ]
  },
  {
   "cell_type": "code",
   "execution_count": null,
   "metadata": {},
   "outputs": [],
   "source": [
    "from sklearn.model_selection import cross_validate\n",
    "cv_result = cross_validate(rbf_kernel, X, y, cv=KFold(5, shuffle=True, random_state=42), return_train_score=True)"
   ]
  },
  {
   "cell_type": "code",
   "execution_count": null,
   "metadata": {},
   "outputs": [],
   "source": [
    "pd.DataFrame(cv_result).describe()"
   ]
  },
  {
   "cell_type": "markdown",
   "metadata": {},
   "source": [
    "# Sleep Analysis\n"
   ]
  },
  {
   "cell_type": "code",
   "execution_count": null,
   "metadata": {},
   "outputs": [],
   "source": [
    "dailySleep[\"SleepClassification\"] = \"Buono\"  # Imposta il valore predefinito a \"Buono\"\n",
    "# Applica la regola per classificare il sonno come \"cattivo\" se TotalMinutesAsleep è inferiore al 50% di TotalTimeInBed\n",
    "dailySleep.loc[dailySleep[\"TotalMinutesAsleep\"] <  0.8* dailySleep[\"TotalTimeInBed\"], \"SleepClassification\"] = \"Cattivo\""
   ]
  },
  {
   "cell_type": "code",
   "execution_count": null,
   "metadata": {},
   "outputs": [],
   "source": [
    "from sklearn.model_selection import train_test_split\n",
    "# Seleziona le colonne di input e l'etichetta di classe\n",
    "#X = daily_data[[\"TotalSleepRecords\", \"TotalMinutesAsleep\", \"TotalTimeInBed\"]]\n",
    "X = dailySleep[[\"TotalMinutesAsleep\", \"TotalTimeInBed\"]]\n",
    "y = dailySleep['SleepClassification']\n",
    "# Dividi il dataset in training set e test set\n",
    "X_train, X_test, y_train, y_test = train_test_split(X, y, test_size=1/3, random_state=42)\n"
   ]
  },
  {
   "cell_type": "code",
   "execution_count": null,
   "metadata": {},
   "outputs": [],
   "source": [
    "diagnosis_color_map = {\"Buono\": \"blue\", \"Cattivo\": \"red\"}\n",
    "X_train.plot.scatter(\"TotalMinutesAsleep\", \"TotalTimeInBed\", c=y_train.map(diagnosis_color_map), figsize=(8, 6));"
   ]
  },
  {
   "cell_type": "code",
   "execution_count": null,
   "metadata": {},
   "outputs": [],
   "source": [
    "from sklearn.preprocessing import StandardScaler\n",
    "scaler = StandardScaler()\n",
    "X2dn_train = scaler.fit_transform(X_train)\n",
    "X2dn_val = scaler.transform(X_test)"
   ]
  },
  {
   "cell_type": "code",
   "execution_count": null,
   "metadata": {},
   "outputs": [],
   "source": [
    "from sklearn.linear_model import LogisticRegression\n",
    "model = LogisticRegression(solver=\"saga\", random_state=42)\n",
    "model.fit(X2dn_train, y_train)\n",
    "mx1, mx2 = np.meshgrid(np.linspace(-3.5, 4.5, 100), np.linspace(-3.5, 4.5, 100))\n",
    "my = model.predict_proba(np.c_[mx1.ravel(), mx2.ravel()])[:, 1].reshape(mx1.shape)\n",
    "plt.figure(figsize=(9, 6))\n",
    "plt.contourf(mx1, mx2, my, cmap=\"summer\")\n",
    "plt.scatter(*X2dn_train.T, c=y_train.map(diagnosis_color_map))\n",
    "plt.colorbar();"
   ]
  },
  {
   "cell_type": "code",
   "execution_count": null,
   "metadata": {},
   "outputs": [],
   "source": [
    "model.score(X2dn_val, y_test)"
   ]
  },
  {
   "cell_type": "code",
   "execution_count": null,
   "metadata": {},
   "outputs": [],
   "source": []
  }
 ],
 "metadata": {
  "kernelspec": {
   "display_name": "Python 3 (ipykernel)",
   "language": "python",
   "name": "python3"
  },
  "language_info": {
   "codemirror_mode": {
    "name": "ipython",
    "version": 3
   },
   "file_extension": ".py",
   "mimetype": "text/x-python",
   "name": "python",
   "nbconvert_exporter": "python",
   "pygments_lexer": "ipython3",
   "version": "3.10.9"
  }
 },
 "nbformat": 4,
 "nbformat_minor": 2
}
