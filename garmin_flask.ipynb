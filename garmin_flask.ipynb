{
 "cells": [
  {
   "cell_type": "code",
   "execution_count": null,
   "metadata": {},
   "outputs": [],
   "source": [
    "# %pip install numpy\n",
    "# %pip install pandas\n",
    "# %pip install matplotlib\n",
    "# %pip install scikit-learn\n",
    "# %pip install lightgbm\n",
    "# %pip install xgboost\n",
    "# %pip install flask\n",
    "# %pip install xlrd\n",
    "import numpy as np\n",
    "import pandas as pd\n",
    "import matplotlib.pyplot as plt\n",
    "import sklearn as sk\n",
    "import pickle\n",
    "import os\n",
    "from sklearn.pipeline import Pipeline\n",
    "from sklearn.preprocessing import StandardScaler\n",
    "from sklearn.linear_model import Perceptron"
   ]
  },
  {
   "cell_type": "code",
   "execution_count": null,
   "metadata": {},
   "outputs": [],
   "source": [
    "if not os.path.isdir(\"templates\"):\n",
    "    os.mkdir(\"templates\")\n",
    "\n",
    "if not os.path.isdir(\"models\"):\n",
    "    os.mkdir(\"models\")"
   ]
  },
  {
   "cell_type": "code",
   "execution_count": null,
   "metadata": {},
   "outputs": [],
   "source": [
    "details = pd.read_csv(\"garmin_edge_820/4557226804_ACTIVITY_data.csv\", sep=\";\")\n",
    "X = details[[\"distance[m]\", \"altitude[m]\"]]\n",
    "y = details[\"heart_rate[bpm]\"]\n",
    "model = Pipeline([\n",
    "    (\"scaler\", StandardScaler()),\n",
    "    (\"model\",  Perceptron())\n",
    "])\n",
    "model.fit(X, y)\n",
    "with open(\"models/model.bin\", \"wb\") as f:\n",
    "    pickle.dump(model, f)"
   ]
  },
  {
   "cell_type": "code",
   "execution_count": null,
   "metadata": {},
   "outputs": [],
   "source": [
    "%%writefile flsk.py\n",
    "import os.path\n",
    "import pickle\n",
    "from flask import Flask, request, render_template"
   ]
  },
  {
   "cell_type": "code",
   "execution_count": null,
   "metadata": {},
   "outputs": [],
   "source": [
    "%%writefile -a flsk.py\n",
    "\n",
    "app = Flask(__name__)\n",
    "app.debug = True"
   ]
  },
  {
   "cell_type": "code",
   "execution_count": null,
   "metadata": {},
   "outputs": [],
   "source": [
    "%%writefile -a  flsk.py\n",
    "\n",
    "@app.route(\"/\")\n",
    "def home():\n",
    "    return render_template(\"index.html\")"
   ]
  },
  {
   "cell_type": "code",
   "execution_count": null,
   "metadata": {},
   "outputs": [],
   "source": [
    "%%writefile -a  flsk.py\n",
    "\n",
    "@app.route(\"/predict\")\n",
    "def predict():\n",
    "    inputs = [\n",
    "        float(request.args[\"LIMIT_BAL\"]),\n",
    "        int(request.args[\"PAY_6\"]),\n",
    "        int(request.args[\"EDUCATION\"])\n",
    "    ]\n",
    "    with app.open_resource(\"models/model.bin\", \"rb\") as f:\n",
    "        model = pickle.load(f)\n",
    "    response = model.predict([inputs])[0]\n",
    "    return render_template(\"predict.html\", resp=response)"
   ]
  },
  {
   "cell_type": "code",
   "execution_count": null,
   "metadata": {},
   "outputs": [],
   "source": [
    "%%writefile -a  flsk.py\n",
    "\n",
    "if __name__ == '__main__':\n",
    "  app.run()"
   ]
  },
  {
   "cell_type": "code",
   "execution_count": null,
   "metadata": {},
   "outputs": [],
   "source": [
    "%%writefile templates/index.html\n",
    "<!doctype html>\n",
    "<html lang=\"en\">\n",
    "\n",
    "<head>\n",
    "  <meta charset=\"utf-8\">\n",
    "  <meta name=\"viewport\" content=\"width=device-width, initial-scale=1\">\n",
    "  <title>Bootstrap demo</title>\n",
    "  <link href=\"https://cdn.jsdelivr.net/npm/bootstrap@5.3.0/dist/css/bootstrap.min.css\" rel=\"stylesheet\"\n",
    "    integrity=\"sha384-9ndCyUaIbzAi2FUVXJi0CjmCapSmO7SnpJef0486qhLnuZ2cdeRhO02iuK6FUUVM\" crossorigin=\"anonymous\">\n",
    "</head>\n",
    "\n",
    "<body class=\"d-flex flex-column vh-100\" data-bs-theme=\"dark\">\n",
    "  <div class=\"card m-auto\">\n",
    "    <div class=\"card-body\">\n",
    "      <h5 class=\"card-title\">Card title</h5>\n",
    "      <form method=\"GET\" action=\"{{ url_for(\"predict\") }}\">\n",
    "        <div class=\"mb-3\">\n",
    "          <label for=\"exampleInputEmail1\" class=\"form-label\">Email address</label>\n",
    "          <input name=\"LIMIT_BAL\" class=\"form-control\" id=\"exampleInputEmail1\" aria-describedby=\"emailHelp\">\n",
    "        </div>\n",
    "        <div class=\"mb-3\">\n",
    "          <label for=\"exampleInputPassword1\" class=\"form-label\">Password</label>\n",
    "          <input name=\"PAY_6\" class=\"form-control\" id=\"exampleInputPassword1\">\n",
    "        </div>\n",
    "        <div class=\"mb-3\">\n",
    "          <label for=\"exampleInputPassword1\" class=\"form-label\">Password</label>\n",
    "          <input name=\"EDUCATION\" class=\"form-control\" id=\"exampleInputPassword1\">\n",
    "        </div>\n",
    "        <button type=\"submit\" class=\"btn btn-primary\">Submit</button>\n",
    "      </form>\n",
    "    </div>\n",
    "  </div>\n",
    "\n",
    "</body>\n",
    "\n",
    "</html>"
   ]
  },
  {
   "cell_type": "code",
   "execution_count": null,
   "metadata": {},
   "outputs": [],
   "source": [
    "%%writefile templates/predict.html\n",
    "<!doctype html>\n",
    "<html lang=\"en\">\n",
    "  <head>\n",
    "    <meta charset=\"utf-8\">\n",
    "    <meta name=\"viewport\" content=\"width=device-width, initial-scale=1\">\n",
    "    <title>Bootstrap demo</title>\n",
    "    <link href=\"https://cdn.jsdelivr.net/npm/bootstrap@5.3.0/dist/css/bootstrap.min.css\" rel=\"stylesheet\" integrity=\"sha384-9ndCyUaIbzAi2FUVXJi0CjmCapSmO7SnpJef0486qhLnuZ2cdeRhO02iuK6FUUVM\" crossorigin=\"anonymous\">\n",
    "  </head>\n",
    "  <body class=\"d-flex flex-column vh-100\" data-bs-theme=\"dark\">\n",
    "  <div class=\"card m-auto\">\n",
    "    <div class=\"card-body\">\n",
    "      <h5 class=\"card-title\">Card title</h5>\n",
    "      <p>Predizione: <b>{{ resp }}</b></p>\n",
    "    </div>\n",
    "  </div>\n",
    "\n",
    "</body>\n",
    "\n",
    "</html>"
   ]
  }
 ],
 "metadata": {
  "kernelspec": {
   "display_name": "Python 3",
   "language": "python",
   "name": "python3"
  },
  "language_info": {
   "codemirror_mode": {
    "name": "ipython",
    "version": 3
   },
   "file_extension": ".py",
   "mimetype": "text/x-python",
   "name": "python",
   "nbconvert_exporter": "python",
   "pygments_lexer": "ipython3",
   "version": "3.11.4"
  },
  "orig_nbformat": 4
 },
 "nbformat": 4,
 "nbformat_minor": 2
}
