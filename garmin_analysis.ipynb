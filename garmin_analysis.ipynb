{
 "cells": [
  {
   "cell_type": "code",
   "execution_count": null,
   "metadata": {},
   "outputs": [],
   "source": [
    "import numpy as np\n",
    "import pandas as pd\n",
    "import matplotlib.pyplot as plt\n",
    "import sklearn"
   ]
  },
  {
   "cell_type": "code",
   "execution_count": null,
   "metadata": {},
   "outputs": [],
   "source": [
    "summary = pd.read_csv(\"garmin_edge_820/summary.csv\")   \n",
    "details = pd.read_csv(\"garmin_edge_820/4557226804_ACTIVITY_data.csv\", sep=\";\")"
   ]
  },
  {
   "cell_type": "code",
   "execution_count": null,
   "metadata": {},
   "outputs": [],
   "source": [
    "details.rename(columns=lambda x: x.replace('record.', ''), inplace=True)\n",
    "details['time'] = pd.to_datetime(details.pop('timestamp[s]'), unit='s').dt.time\n",
    "details.set_index(\"time\", inplace=True)"
   ]
  },
  {
   "cell_type": "code",
   "execution_count": null,
   "metadata": {},
   "outputs": [],
   "source": [
    "hr_zones = [(1, 128), (129, 146), (147, 156), (157, 165), (166, 174), (175, 179), (180, float('inf'))]\n",
    "power_zones = [(1, 157), (158, 186), (187, 200), (201, 218), (219, 247), (248, 287), (281, float('inf'))]\n",
    "# funzione che calcola le zone di frequenza cardiaca dato il battito in input\n",
    "\n",
    "def get_zone(hr, zones):\n",
    "    for zone, (lower, upper) in enumerate(zones, start=1):\n",
    "        if lower <= hr <= upper:\n",
    "            return zone"
   ]
  },
  {
   "cell_type": "code",
   "execution_count": null,
   "metadata": {},
   "outputs": [],
   "source": [
    "details['hr_zone'] = details['heart_rate[bpm]'].apply(get_zone, zones=hr_zones)\n",
    "details['pwr_zone'] = details['power[watts]'].apply(get_zone, zones=power_zones)"
   ]
  },
  {
   "cell_type": "code",
   "execution_count": null,
   "metadata": {},
   "outputs": [],
   "source": [
    "details['time_since_start'] = 1\n",
    "details['time_since_start'] = details['time_since_start'].cumsum().sub(1)"
   ]
  },
  {
   "cell_type": "code",
   "execution_count": null,
   "metadata": {},
   "outputs": [],
   "source": [
    "def remove_content_after_second_dot(string):\n",
    "    first_dot_index = string.find('.')  # Trova l'indice del primo punto\n",
    "    second_dot_index = string.find('.', first_dot_index + 1)  # Trova l'indice del secondo punto\n",
    "    if second_dot_index != -1:  # Verifica se è presente un secondo punto\n",
    "        return string[:second_dot_index]  # Restituisce la stringa fino al secondo punto\n",
    "    else:\n",
    "        return string  # Se non è presente un secondo punto, restituisce la stringa originale"
   ]
  },
  {
   "cell_type": "code",
   "execution_count": null,
   "metadata": {},
   "outputs": [],
   "source": [
    "details['altitude[m]'] = details['altitude[m]'].apply(remove_content_after_second_dot).astype(float)\n",
    "\n",
    "\n",
    "# Calcola la differenza di altitudine tra le righe adiacenti\n",
    "details['altitude_diff'] = details['altitude[m]'].shift(1) - details['altitude[m]'] \n",
    "\n",
    "# Calcola la percentuale di pendenza\n",
    "details['slope_percent'] = details['altitude_diff'] / details['distance[m]'] * 100\n"
   ]
  },
  {
   "cell_type": "code",
   "execution_count": null,
   "metadata": {},
   "outputs": [],
   "source": [
    "details.loc[details['time_since_start'] > 2000]"
   ]
  },
  {
   "cell_type": "code",
   "execution_count": null,
   "metadata": {},
   "outputs": [],
   "source": [
    "details.plot.scatter(x='time_since_start', y='altitude_diff')"
   ]
  },
  {
   "cell_type": "code",
   "execution_count": null,
   "metadata": {},
   "outputs": [],
   "source": [
    "# Calcola i secondi passati dall'inizio dell'allenamento\n",
    "start_time = details.index[0]\n",
    "details['time_since_start'] = (details.index - start_time).total_seconds()"
   ]
  },
  {
   "cell_type": "code",
   "execution_count": null,
   "metadata": {},
   "outputs": [],
   "source": [
    "details.describe()"
   ]
  },
  {
   "cell_type": "code",
   "execution_count": null,
   "metadata": {},
   "outputs": [],
   "source": [
    "details.isna().sum()"
   ]
  },
  {
   "attachments": {},
   "cell_type": "markdown",
   "metadata": {},
   "source": [
    "### Data Visualization"
   ]
  },
  {
   "cell_type": "code",
   "execution_count": null,
   "metadata": {},
   "outputs": [],
   "source": [
    "details.plot.scatter(y=\"cadence[rpm]\", x=\"heart_rate[bpm]\")"
   ]
  },
  {
   "cell_type": "code",
   "execution_count": null,
   "metadata": {},
   "outputs": [],
   "source": []
  }
 ],
 "metadata": {
  "kernelspec": {
   "display_name": "Python 3",
   "language": "python",
   "name": "python3"
  },
  "language_info": {
   "codemirror_mode": {
    "name": "ipython",
    "version": 3
   },
   "file_extension": ".py",
   "mimetype": "text/x-python",
   "name": "python",
   "nbconvert_exporter": "python",
   "pygments_lexer": "ipython3",
   "version": "3.7.9"
  },
  "orig_nbformat": 4
 },
 "nbformat": 4,
 "nbformat_minor": 2
}
