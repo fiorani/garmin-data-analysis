{
 "cells": [
  {
   "cell_type": "markdown",
   "metadata": {},
   "source": [
    "# Analisi dati di allenamento Garmin\n",
    "\n",
    "Disponendo di un ampio dataset con oltre 75.000 registrazioni provenienti da un dispositivo Garmin (Edge 820), relative ad allenamenti in bicicletta, l'obiettivo è sviluppare modelli predittivi basati su alcuni parametri (come la velocità, la pendenza, ecc.) per prevedere alcuni parametri di interesse.\n",
    "- *Regressione*:\n",
    "    - predire il battito cardiaco istantaneo (bpm)\n",
    "    - predire la potenza istantanea (W)\n",
    "- *Classificazione*:\n",
    "    - classificare la zona di frequenza cardiaca\n",
    "    - classificare la zona di potenza"
   ]
  },
  {
   "cell_type": "markdown",
   "metadata": {},
   "source": [
    "## Raccolta dei dati\n",
    "Poiché i dati non sono stati raccolti da siti noti come [UCI](https://archive.ics.uci.edu/), [Kaggle](https://www.kaggle.com/), ecc. bensì da allenamenti svolti personalmente da Riccardo Fiorani, è stato necessario estrarre i dati dai file *.fit* e *.tcx* messi a disposizione da Garmin e convertirli in *.csv* in modo da poterli analizzare con Python.\n",
    "Per fare questo si è utilizzato il tool [Fit File Repair Tool](https://www.fitfilerepairtool.info/), che permette di convertire i file *.fit* in *.csv*.\n",
    "Aggiungi ulteriore descrizione...."
   ]
  },
  {
   "cell_type": "markdown",
   "metadata": {},
   "source": [
    "## Descrizione dei dati\n",
    "Non essendo i dati provenienti da un dataset noto, è necessario descriverli in modo da poterli analizzare e comprendere meglio.\n",
    "I *CSV* e i formati originali sono visionabili nella cartella del progetto `garmin_edge_820/`.\n",
    "In particolare il dataset utilizzato è dato dall'unione di 4 allenamenti, ciascuno relativo a un allenamento.\n",
    "Ogni record rappresenta un istante di un dato allenamento, raccolto con cadenza di un secondo, e contiene le seguenti informazioni:\n",
    "- `timestamp`: data e ora dell'istante\n",
    "- `distance`: distanza percorsa dall'inizio dell'allenamento (m)\n",
    "- `accumulated_power`: potenza accumulata da inizio allenamento (W)\n",
    "- `altitude`: altitudine (m)\n",
    "- `speed`: velocità istantanea (m/s)\n",
    "- `power`: potenza istantanea (W)\n",
    "- `heart_rate`: frequenza cardiaca (bpm)\n",
    "- `cadence`: cadenza di pedalata (rpm)\n",
    "- `temperature`: temperatura (°C)\n",
    "- `left_right_balance`: bilanciamento destro/sinistro, corrisponde alla percentuale di potenza applicata dal piede destro in rapporto a quella applicata dal piede sinistro. \n",
    "- `left_pco`: parametro Garmin che indica la distribuzione della forza lungo la battuta del pedale durante la pedalata. In questo caso relativo al piede sinistro. Il PCO si misura in millimetri. Valori positivi (ad es. +6 mm) indicano una forza maggiore verso l'esterno del pedale, mentre valori negativi (ad es. -4 mm) indicano una maggiore forza verso l'interno del pedale. Si veda la seguente immagine per ulteriori informazioni\n",
    "<div align=\"center\"><img src=\"imgs/pco.png\" width=\"200\"></div>\n",
    "\n",
    "- `right_pco`: come sopra ma relativo al piede destro.\n",
    "- `left_power_phase`: I sensori di potenza Garmin rilevano il punto in cui la gamba genera una coppia positiva in una pedalata e dove si verifica la maggiore concentrazione di coppia positiva. Inoltre, rilevano l'angolo a cui queste forze iniziano e terminano e il punto in cui si produce la concentrazione di potenza.\n",
    "<div align=\"center\"><img src=\"imgs/pwrphase.png\" width=\"200\"></div>\n",
    "\n",
    "- `left_power_phase_peak`: picco massimo di power phase sinistra.\n",
    "- `right_power_phase`: power phase destro.\n",
    "- `right_power_phase_peak`: picco massimo di power phase destra.\n",
    "\n",
    "A questi parametri sono stati aggiunti altri parametri derivati, come:\n",
    "- `time_since_start`: tempo trascorso dall'inizio dell'allenamento (s). Volevamo verificare se vi è una correlazione fra tempo trascorso e frequenza cardiaca, potenza, ecc.\n",
    "- `hr_zone`: zona di frequenza cardiaca. Per calcolarla abbiamo usato i seguenti intervalli suggeriti da Garmin \n",
    "    - Zona 1: (0, 128)\n",
    "    - Zona 2: (129, 146)\n",
    "    - Zona 3: (147, 156)\n",
    "    - Zona 4: (157, 165)\n",
    "    - Zona 5: (166, 174)\n",
    "    - Zona 6: (175, 179)\n",
    "    - Zona 7: $\\geq$ 180\n",
    "- `pwr_zone`: zona di potenza. Per calcolarla abbiamo usato i seguenti intervalli suggeriti da Garmin \n",
    "    - Zona 1: (0, 157)\n",
    "    - Zona 2: (158, 186)\n",
    "    - Zona 3: (187, 200)\n",
    "    - Zona 4: (201, 218)\n",
    "    - Zona 5: (219, 247)\n",
    "    - Zona 6: (248, 287)\n",
    "    - Zona 7: $\\geq$ 288\n",
    "- `altitude_diff`: differenza di altitudine rispetto al secondo precedente (m)\n",
    "- `distance_diff`: differenza di distanza rispetto al secondo precedente (m)\n",
    "- `slope_percent`: pendenza istantanea (%), calcolata come \n",
    "$$\n",
    "\\frac{\\text{\\texttt{altitude\\_diff}}}{\\text{\\texttt{distance\\_diff}}}\n",
    "$$\n",
    "\n",
    "In totale il dataset è composto da 77.620 record."
   ]
  },
  {
   "attachments": {},
   "cell_type": "markdown",
   "metadata": {},
   "source": [
    "## Preparazione dei dati"
   ]
  },
  {
   "cell_type": "markdown",
   "metadata": {},
   "source": [
    "Di seguito sono riportate le operazioni di preparazione dei dati effettuate prima di procedere con l'analisi vera e propria."
   ]
  },
  {
   "cell_type": "code",
   "execution_count": null,
   "metadata": {},
   "outputs": [],
   "source": [
    "# %pip install numpy\n",
    "# %pip install pandas\n",
    "# %pip install matplotlib\n",
    "# %pip install scikit-learn\n",
    "# %pip install lightgbm\n",
    "# %pip install xgboost\n",
    "# %pip install flask\n",
    "import numpy as np\n",
    "import pandas as pd"
   ]
  },
  {
   "cell_type": "code",
   "execution_count": null,
   "metadata": {},
   "outputs": [],
   "source": [
    "file_list = [\"garmin_edge_820/3993730634_ACTIVITY_data.csv\",\n",
    "             \"garmin_edge_820/4557226804_ACTIVITY_data.csv\",\n",
    "             \"garmin_edge_820/4593452980_ACTIVITY_data.csv\",\n",
    "             \"garmin_edge_820/5191513011_ACTIVITY_data.csv\",\n",
    "]\n",
    "combined_df = pd.concat([pd.read_csv(file, sep=\";\") for file in file_list], ignore_index=True)"
   ]
  },
  {
   "cell_type": "code",
   "execution_count": null,
   "metadata": {},
   "outputs": [],
   "source": [
    "combined_df.info()"
   ]
  },
  {
   "cell_type": "markdown",
   "metadata": {},
   "source": [
    "Poiché alcuni modelli (LGBM Regressor) non supportano features aventi caratteri non unicode, abbiamo sostituito le parentesi quadre con delle tonde usando il metodo `convert_brackets`"
   ]
  },
  {
   "cell_type": "code",
   "execution_count": null,
   "metadata": {},
   "outputs": [],
   "source": [
    "def convert_brackets(string):\n",
    "    return string.replace('[', '(').replace(']', ')')\n",
    "\n",
    "combined_df.columns = [convert_brackets(col) for col in combined_df.columns]"
   ]
  },
  {
   "cell_type": "markdown",
   "metadata": {},
   "source": [
    "A questo punto abbiamo deciso di sostituire la colonna `timestamp(s)` in un formato più comodo da gestire, ovvero `datetime`. Per fare questo abbiamo usato il metodo Pandas `to_datetime`. A questo punto abbiamo reso la colonna risultante `time` l'indice del DataFrame."
   ]
  },
  {
   "cell_type": "code",
   "execution_count": null,
   "metadata": {},
   "outputs": [],
   "source": [
    "combined_df['timestamp(s)'] = combined_df['timestamp(s)'] + 631065600\n",
    "combined_df['time'] = pd.to_datetime(combined_df.pop('timestamp(s)'), unit='s')\n",
    "combined_df.set_index(\"time\", inplace=True)"
   ]
  },
  {
   "cell_type": "markdown",
   "metadata": {},
   "source": [
    "Per questioni di errore di misurazione, abbiamo visto che alcuni record presentano valori di `speed(m/s)` uguali a 0. Non essendo quei record rilevanti per l'analisi, abbiamo deciso di eliminarli. Inoltre, come mostrato nel `details.info()` superiore, esistono molti valori di `speed(m/s)` posti a `NaN`. Abbiamo deciso di eliminare anche questi record."
   ]
  },
  {
   "cell_type": "code",
   "execution_count": null,
   "metadata": {},
   "outputs": [],
   "source": [
    "combined_df = combined_df[combined_df['speed(m/s)'] != 0]\n",
    "combined_df = combined_df.dropna(subset=['speed(m/s)'])"
   ]
  },
  {
   "cell_type": "markdown",
   "metadata": {},
   "source": [
    "Come anticipato nella sezione precedente, abbiamo aggiunto una feature `time_since_start(s)` che indica il tempo trascorso dall'inizio dell'allenamento. "
   ]
  },
  {
   "cell_type": "code",
   "execution_count": null,
   "metadata": {},
   "outputs": [],
   "source": [
    "combined_df['time_since_start(s)'] = combined_df.groupby(pd.Grouper(freq='D')).cumcount() + 1"
   ]
  },
  {
   "cell_type": "markdown",
   "metadata": {},
   "source": [
    "Di seguito è invece implementata una funzione che genera le zone di frequenza cardiaca e di potenza."
   ]
  },
  {
   "cell_type": "code",
   "execution_count": null,
   "metadata": {},
   "outputs": [],
   "source": [
    "hr_zones = [(0, 128), (129, 146), (147, 156), (157, 165),(166, 174), (175, 179), (180, float('inf'))]\n",
    "power_zones = [(0, 157), (158, 186), (187, 200), (201, 218),(219, 247), (248, 287), (288, float('inf'))]\n",
    "\n",
    "def get_zone(rate, zones):\n",
    "    for zone, (lower, upper) in enumerate(zones, start=1):\n",
    "        if lower <= rate <= upper:\n",
    "            return zone\n",
    "        \n",
    "combined_df['hr_zone'] = combined_df['heart_rate(bpm)'].apply(get_zone, zones=hr_zones)\n",
    "combined_df['pwr_zone'] = combined_df['power(watts)'].apply(get_zone, zones=power_zones)"
   ]
  },
  {
   "cell_type": "markdown",
   "metadata": {},
   "source": [
    "A questo punto si calcolano le features relative alla differenza di altitudine e distanza dall'istante successivo. Successivamente vengono utilizzate per calcolare la pendenza istantanea."
   ]
  },
  {
   "cell_type": "code",
   "execution_count": null,
   "metadata": {},
   "outputs": [],
   "source": [
    "combined_df['altitude_diff(m)'] = combined_df['altitude(m)'] - combined_df['altitude(m)'].shift(1)\n",
    "combined_df['distance_diff(m)'] = combined_df['distance(m)'] - combined_df['distance(m)'].shift(1)\n",
    "combined_df[['altitude_diff(m)', 'distance_diff(m)']] = combined_df[['altitude_diff(m)', 'distance_diff(m)']].fillna(0)\n",
    "combined_df['slope_percent'] = np.where(combined_df['distance_diff(m)'] == 0, 0, combined_df['altitude_diff(m)'] / combined_df['distance_diff(m)'] * 100)"
   ]
  },
  {
   "cell_type": "markdown",
   "metadata": {},
   "source": [
    "Come mostra il grafico seguente il battito cardiaco è molto impreciso su valori bassi. Poiché è altamente iprobabile aver raggiunto 30 bpm durante un allenamento, abbiamo deciso di eliminare i record con frequenza cardiaca inferiore ad una soglia che, visionando il grafico, abbiamo deciso di porre a 80bpm.\n",
    "Infatti si può notare che nel secondo e terzo allenamento le frequenze vanno anche sotto gli 80bpm ma assumendo valori troppo bassi o non attendibili (linea piatta)."
   ]
  },
  {
   "cell_type": "code",
   "execution_count": null,
   "metadata": {},
   "outputs": [],
   "source": [
    "import matplotlib.pyplot as plt\n",
    "\n",
    "def plot_data_vs_time(col):\n",
    "    fig, ax = plt.subplots(nrows=4, sharex=True, figsize=(24, 9))\n",
    "    for i, (date, data) in enumerate(combined_df.groupby(combined_df.index.date)):\n",
    "        ax[i].plot(data[\"time_since_start(s)\"], data[col], label=str(date))\n",
    "\n",
    "    # Opzionale: Aggiungi legenda\n",
    "    fig.legend()\n",
    "\n",
    "    fig.text(0.5, 0.04, \"Time since Start\", ha=\"center\")\n",
    "    fig.text(0.04, 0.5, col, va=\"center\", rotation=\"vertical\")\n",
    "    plt.suptitle(f\"{col} vs Time since Start for Each Training Day\")\n",
    "\n",
    "    plt.show()"
   ]
  },
  {
   "cell_type": "code",
   "execution_count": null,
   "metadata": {},
   "outputs": [],
   "source": [
    "plot_data_vs_time('heart_rate(bpm)')"
   ]
  },
  {
   "cell_type": "code",
   "execution_count": null,
   "metadata": {},
   "outputs": [],
   "source": [
    "combined_df.drop(combined_df[combined_df['heart_rate(bpm)'] < 80].index, inplace=True)\n",
    "plot_data_vs_time('heart_rate(bpm)')"
   ]
  },
  {
   "cell_type": "markdown",
   "metadata": {},
   "source": [
    "Anche la potenza, come mostrato nel grafico seguente, presenta valori molto instabili. In particolare si notano\n",
    "- molti buchi, cioè linee rette nel grafico, che indicano che il sensore non ha rilevato la potenza\n",
    "- picchi molto alti susseguiti da picchi molto bassi. Questo è dovuto al fatto che il sensore di potenza è molto sensibile e rileva anche piccole variazioni di potenza.\n",
    "\n",
    "Per questo motivo abbiamo deciso di calcolare la media mobile con finestra di 3 secondi. Questo ci permette di avere una visione più chiara della potenza durante l'allenamento."
   ]
  },
  {
   "cell_type": "code",
   "execution_count": null,
   "metadata": {},
   "outputs": [],
   "source": [
    "plot_data_vs_time('power(watts)')"
   ]
  },
  {
   "cell_type": "code",
   "execution_count": null,
   "metadata": {},
   "outputs": [],
   "source": [
    "window_size = 3 \n",
    "combined_df['avg_power(watts)'] = combined_df['power(watts)'].rolling(window=int(window_size), center=True).mean()\n",
    "combined_df['avg_power(watts)'] = combined_df['avg_power(watts)'].dropna()"
   ]
  },
  {
   "cell_type": "markdown",
   "metadata": {},
   "source": [
    "Il parametro `left_right_balance` di Garmin va trattato per visualizzare l'effettiva potenza di spinta da gamba sinistra e destra. In particolare Garmin suggerisce di usare la seguente formula\n",
    "$$\n",
    "\\text{\\texttt{left\\_power}} = \\text{\\texttt{left\\_right\\_balance}} - 128 \\\\\n",
    "\\text{\\texttt{right\\_power}} = 100 - \\text{\\texttt{left\\_power}}\n",
    "$$\n"
   ]
  },
  {
   "cell_type": "code",
   "execution_count": null,
   "metadata": {},
   "outputs": [],
   "source": [
    "combined_df['power_left(watts)'] = combined_df['left_right_balance'] - 128\n",
    "combined_df['power_right(watts)'] = 100 - combined_df['power_left(watts)']"
   ]
  },
  {
   "cell_type": "markdown",
   "metadata": {},
   "source": [
    "Come ultima cosa vengono rimosse quelle feature inutilizzate per l'analisi.\n",
    "- `left_right_balance`: non è più necessaria poiché abbiamo calcolato `left_power` e `right_power`\n",
    "- `left_power_phase_peak`: non è necessario il picco se abbiamo il valore istantaneo\n",
    "- `right_power_phase_peak`: come sopra\n",
    "- `left_power_phase`: (***ANCORA DA CALCOLARE***)\n",
    "- `right_power_phase`: (***ANCORA DA CALCOLARE***)"
   ]
  },
  {
   "cell_type": "code",
   "execution_count": null,
   "metadata": {},
   "outputs": [],
   "source": [
    "combined_df = combined_df.drop(['left_power_phase(degrees)',\n",
    "                            'left_power_phase_peak(degrees)',\n",
    "                            'right_power_phase(degrees)',\n",
    "                            'right_power_phase_peak(degrees)',\n",
    "                            'left_right_balance'], axis=1)"
   ]
  },
  {
   "cell_type": "code",
   "execution_count": null,
   "metadata": {},
   "outputs": [],
   "source": [
    "combined_df.describe()"
   ]
  },
  {
   "cell_type": "code",
   "execution_count": null,
   "metadata": {},
   "outputs": [],
   "source": [
    "combined_df.info()"
   ]
  },
  {
   "cell_type": "markdown",
   "metadata": {},
   "source": [
    "Come mostra il `df.info()`, il dataset ripulito presenta 61398 record e 18 features. Resta ancora una cosa da fare: la potenza m"
   ]
  },
  {
   "cell_type": "code",
   "execution_count": null,
   "metadata": {},
   "outputs": [],
   "source": [
    "combined_df['avg_power(watts)'] = combined_df['avg_power(watts)'].fillna(combined_df['avg_power(watts)'].mean())"
   ]
  },
  {
   "attachments": {},
   "cell_type": "markdown",
   "metadata": {},
   "source": [
    "# Data Visualization"
   ]
  },
  {
   "cell_type": "code",
   "execution_count": null,
   "metadata": {},
   "outputs": [],
   "source": [
    "def plot_params_per_training(params):\n",
    "    fig, axs = plt.subplots(nrows=4, figsize=(21, 10), sharex=True)\n",
    "\n",
    "    for i, (date, data) in enumerate(combined_df.groupby(combined_df.index.date)):\n",
    "        axs[i].set_title(str(date))\n",
    "\n",
    "        for param in params:\n",
    "            axs[i].plot(data[\"time_since_start(s)\"], data[param], label=param)\n",
    "\n",
    "        axs[i].legend()\n",
    "        axs[i].grid(True)\n",
    "\n",
    "    plt.xlabel(\"time_since_start\")\n",
    "    plt.suptitle(\"Data vs Time since Start for Each Training Day\")\n",
    "    plt.show()"
   ]
  },
  {
   "cell_type": "code",
   "execution_count": null,
   "metadata": {},
   "outputs": [],
   "source": [
    "plot_params_per_training(['power(watts)', 'cadence(rpm)', 'speed(m/s)', 'heart_rate(bpm)', 'altitude(m)'])"
   ]
  },
  {
   "attachments": {},
   "cell_type": "markdown",
   "metadata": {},
   "source": [
    "# Previsioni"
   ]
  },
  {
   "cell_type": "code",
   "execution_count": null,
   "metadata": {},
   "outputs": [],
   "source": [
    "import sklearn as sk\n",
    "from sklearn.model_selection import train_test_split, KFold, cross_validate, GridSearchCV, RandomizedSearchCV\n",
    "from sklearn.linear_model import LinearRegression, Lasso, Ridge, ElasticNet\n",
    "from sklearn.preprocessing import PolynomialFeatures, StandardScaler\n",
    "from sklearn.pipeline import Pipeline\n",
    "from sklearn.kernel_ridge import KernelRidge\n",
    "from sklearn.tree import DecisionTreeRegressor, plot_tree, export_text,DecisionTreeClassifier\n",
    "from sklearn.ensemble import RandomForestRegressor\n",
    "from lightgbm import LGBMRegressor\n",
    "from xgboost import XGBRegressor"
   ]
  },
  {
   "cell_type": "code",
   "execution_count": null,
   "metadata": {},
   "outputs": [],
   "source": [
    "kf = KFold(n_splits=5, shuffle=True, random_state=42)"
   ]
  },
  {
   "attachments": {},
   "cell_type": "markdown",
   "metadata": {},
   "source": [
    "### Definizione dei modelli"
   ]
  },
  {
   "cell_type": "code",
   "execution_count": null,
   "metadata": {},
   "outputs": [],
   "source": [
    "def get_pipe_grid(type):\n",
    "    pipelines = {\n",
    "        \"linear\": {\n",
    "            \"pipe\": Pipeline([\n",
    "                (\"poly\", PolynomialFeatures(include_bias=False)),\n",
    "                (\"std\", None),\n",
    "                (\"regressor\", None)\n",
    "            ]),\n",
    "            \"grid_common\": {\n",
    "                \"poly__degree\": [3,4],\n",
    "                \"std\": [StandardScaler()],\n",
    "            },\n",
    "            \"grid_regressors\": [\n",
    "                {\n",
    "                    \"regressor\": [LinearRegression()],\n",
    "                },\n",
    "                {\n",
    "                    \"regressor\": [Lasso()],\n",
    "                    \"regressor__alpha\": [0.01,0.1],\n",
    "                },\n",
    "                {\n",
    "                    \"regressor\": [Ridge()],\n",
    "                    \"regressor__alpha\": [0.01,0.1],\n",
    "                },\n",
    "                {\n",
    "                    \"regressor\": [ElasticNet()],\n",
    "                    \"regressor__alpha\": [0.01,0.1],\n",
    "                    \"regressor__l1_ratio\": [0.1],\n",
    "                },\n",
    "            ]\n",
    "        },\n",
    "        \"kernel\": {\n",
    "            \"pipe\": Pipeline([\n",
    "                (\"std\", None),\n",
    "                (\"regressor\", None)\n",
    "            ]),\n",
    "            \"grid_common\": {\n",
    "                \"std\": [StandardScaler()],\n",
    "                \"regressor\": [KernelRidge()],\n",
    "                'regressor__alpha': [0.01,0.1],\n",
    "            },\n",
    "            \"grid_regressors\": [\n",
    "                {\n",
    "                    \"regressor__kernel\": [\"poly\"],\n",
    "                    'regressor__degree': [4,5],\n",
    "                },\n",
    "                {\n",
    "                    \"regressor__kernel\": [\"rbf\"],\n",
    "                    \"regressor__gamma\": [0.01,0.1],\n",
    "                }\n",
    "            ]\n",
    "        },\n",
    "        \"tree\": {\n",
    "            \"pipe\": Pipeline([\n",
    "                (\"std\", None),\n",
    "                (\"regressor\", None)\n",
    "            ]),\n",
    "            \"grid_common\": {\n",
    "                \"std\": [StandardScaler()],\n",
    "                \"regressor__max_depth\": [5,10],\n",
    "            },\n",
    "            \"grid_regressors\": [\n",
    "                {\n",
    "                    \"regressor\": [DecisionTreeRegressor()],\n",
    "                },\n",
    "                {\n",
    "                    \"regressor\": [RandomForestRegressor()],\n",
    "                    \"regressor__n_estimators\": [100,1000],\n",
    "                },\n",
    "                {\n",
    "                    \"regressor\": [LGBMRegressor()],\n",
    "                    \"regressor__n_estimators\": [100,1000],\n",
    "                    \"regressor__learning_rate\": [0.01,0.1],\n",
    "                },\n",
    "                {\n",
    "                    \"regressor\": [XGBRegressor()],\n",
    "                    \"regressor__n_estimators\": [100,1000],\n",
    "                    \"regressor__learning_rate\": [0.01,0.1],\n",
    "                }\n",
    "            ]\n",
    "        }\n",
    "    }\n",
    "    return pipelines[type][\"pipe\"], [dict(pipelines[type][\"grid_common\"], **params) for params in pipelines[type][\"grid_regressors\"]]"
   ]
  },
  {
   "cell_type": "code",
   "execution_count": null,
   "metadata": {},
   "outputs": [],
   "source": [
    "def get_trained_model(type, X_train, y_train, randomized=False):\n",
    "    pipe, grid = get_pipe_grid(type)\n",
    "    model = GridSearchCV(pipe, grid, cv=kf, scoring=\"r2\", n_jobs=-1) if not randomized else RandomizedSearchCV(pipe, grid, cv=kf, scoring=\"r2\", n_jobs=-1)\n",
    "    model.fit(X_train, y_train)\n",
    "    return model"
   ]
  },
  {
   "attachments": {},
   "cell_type": "markdown",
   "metadata": {},
   "source": [
    "## Previsione battito"
   ]
  },
  {
   "cell_type": "code",
   "execution_count": null,
   "metadata": {},
   "outputs": [],
   "source": [
    "X_hr = details.drop(['heart_rate(bpm)','distance(m)','altitude(m)','speed(m/s)','potenza_media','time_since_start','slope_percent','temperature(C)','hr_zone','pwr_zone','altitude_diff','distance_diff','left_pco(mm)','right_pco(mm)','power_left','power_right','accumulated_power(watts)'], axis=1)\n",
    "y_hr = details['heart_rate(bpm)']\n",
    "X_train, X_val, y_train, y_val = train_test_split(X_hr, y_hr, test_size=1/3, random_state=42)"
   ]
  },
  {
   "attachments": {},
   "cell_type": "markdown",
   "metadata": {},
   "source": [
    "### Regressione lineare"
   ]
  },
  {
   "cell_type": "code",
   "execution_count": null,
   "metadata": {},
   "outputs": [],
   "source": [
    "from sklearn.metrics import mean_squared_error, r2_score\n",
    "from utilities import print_eval"
   ]
  },
  {
   "cell_type": "code",
   "execution_count": null,
   "metadata": {},
   "outputs": [],
   "source": [
    "liner_models_gs = get_trained_model('linear', X_train, y_train)\n",
    "linear_models_gs_res = pd.DataFrame(liner_models_gs.cv_results_).sort_values(\"mean_test_score\", ascending=False)\n",
    "print_eval(X_val, y_val, liner_models_gs)\n",
    "linear_models_gs_res"
   ]
  },
  {
   "cell_type": "code",
   "execution_count": null,
   "metadata": {},
   "outputs": [],
   "source": [
    "\"\"\"\n",
    "linear_models_rs = get_trained_model('linear', X_train, y_train, randomized=True)\n",
    "linear_models_rs_res = pd.DataFrame(linear_models_rs.cv_results_).sort_values(\"mean_test_score\", ascending=False)\n",
    "print_eval(X_val, y_val, linear_models_rs)\n",
    "linear_models_rs_res\n",
    "\"\"\""
   ]
  },
  {
   "attachments": {},
   "cell_type": "markdown",
   "metadata": {},
   "source": [
    "### Regressione con funzioni kernel"
   ]
  },
  {
   "cell_type": "code",
   "execution_count": null,
   "metadata": {},
   "outputs": [],
   "source": [
    "krm_gs = get_trained_model('kernel', X_train, y_train)\n",
    "krm_gs_res = pd.DataFrame(krm_gs.cv_results_).sort_values(\"mean_test_score\", ascending=False)\n",
    "print_eval(X_val, y_val, krm_gs)\n",
    "krm_gs_res"
   ]
  },
  {
   "cell_type": "code",
   "execution_count": null,
   "metadata": {},
   "outputs": [],
   "source": [
    "\"\"\"\n",
    "krm_rs = get_trained_model('kernel', X_train, y_train, randomized=True)\n",
    "krm_rs_res = pd.DataFrame(krm_rs.cv_results_).sort_values(\"mean_test_score\", ascending=False)\n",
    "print_eval(X_val, y_val, krm_rs)\n",
    "krm_rs_res\n",
    "\"\"\""
   ]
  },
  {
   "attachments": {},
   "cell_type": "markdown",
   "metadata": {},
   "source": [
    "### Alberi di regressione"
   ]
  },
  {
   "cell_type": "code",
   "execution_count": null,
   "metadata": {},
   "outputs": [],
   "source": [
    "tree_gs = get_trained_model('tree', X_train, y_train)\n",
    "tree_gs_res = pd.DataFrame(tree_gs.cv_results_).sort_values(\"mean_test_score\", ascending=False)\n",
    "print_eval(X_val, y_val, tree_gs, tree=True)\n",
    "tree_gs_res"
   ]
  },
  {
   "cell_type": "code",
   "execution_count": null,
   "metadata": {},
   "outputs": [],
   "source": [
    "\"\"\"\n",
    "tree_rs = get_trained_model('tree', X_train, y_train, randomized=True)\n",
    "tree_rs_res = pd.DataFrame(tree_rs.cv_results_).sort_values(\"mean_test_score\", ascending=False)\n",
    "print_eval(X_val, y_val, tree_rs, tree=True)\n",
    "tree_rs_res\n",
    "\"\"\""
   ]
  },
  {
   "attachments": {},
   "cell_type": "markdown",
   "metadata": {},
   "source": [
    "### Confronto fra modelli"
   ]
  },
  {
   "cell_type": "code",
   "execution_count": null,
   "metadata": {},
   "outputs": [],
   "source": [
    "# Creazione del plot scatter\n",
    "fig, ax = plt.subplots(figsize=(24, 9))\n",
    "\n",
    "linear_models = pd.concat([linear_models_gs_res, linear_models_gs_res], axis=0)\n",
    "scatter_linear = ax.scatter(linear_models['mean_fit_time'], linear_models['mean_test_score'], color='blue', label='Modelli lineari e polinomiali')\n",
    "\n",
    "krm_models = pd.concat([krm_gs_res, krm_gs_res], axis=0)\n",
    "scatter_kernel = ax.scatter(krm_models['mean_fit_time'], krm_models['mean_test_score'], color='red', label='Modelli Kernel')\n",
    "\n",
    "tree_models = pd.concat([tree_gs_res, tree_gs_res], axis=0)\n",
    "scatter_tree = ax.scatter(tree_models['mean_fit_time'], tree_models['mean_test_score'], color='green', label='Modelli Albero')\n",
    "\n",
    "ax.set_xlabel('Tempo di addestramento (s)')\n",
    "ax.set_ylabel('Coefficiente R2')\n",
    "ax.set_title('Confronto tra i modelli')\n",
    "ax.legend()\n",
    "plt.ylim(0, 1.1)\n",
    "plt.show()\n"
   ]
  },
  {
   "attachments": {},
   "cell_type": "markdown",
   "metadata": {},
   "source": [
    "### test predizione"
   ]
  },
  {
   "cell_type": "code",
   "execution_count": null,
   "metadata": {},
   "outputs": [],
   "source": [
    "X_hr.info()"
   ]
  },
  {
   "cell_type": "code",
   "execution_count": null,
   "metadata": {},
   "outputs": [],
   "source": [
    "tree_gs.predict(np.array([280, 110]).reshape(1, -1))"
   ]
  },
  {
   "cell_type": "code",
   "execution_count": null,
   "metadata": {},
   "outputs": [],
   "source": [
    "pd.DataFrame({'Feature': X_hr.columns, 'Weight': tree_gs.best_estimator_.named_steps['regressor'].feature_importances_})"
   ]
  },
  {
   "attachments": {},
   "cell_type": "markdown",
   "metadata": {},
   "source": [
    "### Reti neurali"
   ]
  },
  {
   "cell_type": "code",
   "execution_count": null,
   "metadata": {},
   "outputs": [],
   "source": [
    "X_hr = details.drop(['heart_rate(bpm)','potenza_media','temperature(C)','hr_zone','pwr_zone','altitude_diff','distance_diff','left_pco(mm)','right_pco(mm)','power_left','power_right','accumulated_power(watts)'], axis=1)\n",
    "y_hr = details['heart_rate(bpm)']\n",
    "X_train, X_val, y_train, y_val = train_test_split(X_hr, y_hr, test_size=1/3, random_state=42)"
   ]
  },
  {
   "cell_type": "code",
   "execution_count": null,
   "metadata": {},
   "outputs": [],
   "source": [
    "from sklearn.neural_network import MLPRegressor\n",
    "\n",
    "pipe = Pipeline([\n",
    "    (\"std\", StandardScaler()),\n",
    "    (\"regressor\", MLPRegressor())\n",
    "])\n",
    "\n",
    "grid = {\n",
    "    \"regressor__hidden_layer_sizes\": [(256, 256)],\n",
    "    \"regressor__activation\": [\"relu\"],\n",
    "    \"regressor__max_iter\": [2000],\n",
    "    \"regressor__batch_size\": [128],\n",
    "    \"regressor__alpha\": [0.01]\n",
    "\n",
    "}\n",
    "\n",
    "model = GridSearchCV(pipe, grid, cv=kf, scoring=\"r2\", n_jobs=-1)\n",
    "model.fit(X_train, y_train)\n",
    "print_eval(X_val, y_val, model)"
   ]
  },
  {
   "cell_type": "code",
   "execution_count": null,
   "metadata": {},
   "outputs": [],
   "source": [
    "pd.DataFrame(model.cv_results_).sort_values(\"mean_test_score\", ascending=False)"
   ]
  },
  {
   "cell_type": "code",
   "execution_count": null,
   "metadata": {},
   "outputs": [],
   "source": [
    "pd.DataFrame({'Feature': X_hr.columns, 'Weight': model.best_estimator_.named_steps['regressor'].coefs_[0].mean(axis=1)})"
   ]
  },
  {
   "cell_type": "code",
   "execution_count": null,
   "metadata": {},
   "outputs": [],
   "source": [
    "import tensorflow as tf\n",
    "import keras_tuner as kt\n",
    "from sklearn.model_selection import train_test_split\n",
    "from tensorflow.keras import layers\n",
    "\n",
    "config = tf.compat.v1.ConfigProto( device_count = {'GPU': 1} )\n",
    "sess = tf.compat.v1.Session(config=config) \n",
    "tf.compat.v1.keras.backend.set_session(sess)"
   ]
  },
  {
   "cell_type": "code",
   "execution_count": null,
   "metadata": {},
   "outputs": [],
   "source": [
    "def model_builder(hp):\n",
    "    model = tf.keras.Sequential()\n",
    "    model.add(layers.Flatten(input_shape=X_train.shape[1:]))\n",
    "    num_layers = hp.Int('num_layers', min_value=1, max_value=5, step=1)\n",
    "    for i in range(num_layers):\n",
    "        hp_units = hp.Int(f'units_{i}', min_value=32, max_value=1024, step=32)\n",
    "        model.add(layers.Dense(units=hp_units, activation='relu'))\n",
    "    model.add(layers.Dense(1, activation='linear'))\n",
    "    hp_learning_rate = hp.Choice('learning_rate', values=[0.1,0.01,0.001])\n",
    "\n",
    "    model.compile(optimizer=tf.keras.optimizers.Adam(learning_rate=hp_learning_rate),loss='mean_absolute_error',metrics=['mean_absolute_error'])\n",
    "\n",
    "    return model\n",
    "\n",
    "\n",
    "tuner = kt.Hyperband(model_builder,\n",
    "                     objective='val_mean_absolute_error',\n",
    "                     max_epochs=100,\n",
    "                     factor=5,\n",
    "                     directory='tensorflow',\n",
    "                     project_name='garmin_analysis8')\n",
    "\n",
    "stop_early = tf.keras.callbacks.EarlyStopping(monitor='val_mean_absolute_error', patience=3)\n",
    "\n",
    "tuner.search(X_train, y_train, epochs=10,validation_split=1/3, callbacks=[stop_early])\n",
    "\n",
    "best_hps = tuner.get_best_hyperparameters(num_trials=1)[0]\n",
    "\n",
    "print(f\"\"\"The hyperparameter search is complete. The optimal number of units in the first densely-connectedlayer is {best_hps.get('num_layers')} \n",
    "and the optimal learning rate for the optimizer is {best_hps.get('learning_rate')}.\"\"\")\n",
    "\n",
    "model = tuner.hypermodel.build(best_hps)\n",
    "history = model.fit(X_train, y_train, epochs=10, validation_split=1/3)\n",
    "val_loss_per_epoch = history.history['val_loss']\n",
    "best_epoch = val_loss_per_epoch.index(min(val_loss_per_epoch)) + 1\n",
    "print('Best epoch: %d' % (best_epoch,))\n",
    "hypermodel = tuner.hypermodel.build(best_hps)\n",
    "hypermodel.fit(X_train, y_train, epochs=best_epoch, validation_split=1/3)\n",
    "eval_result = hypermodel.evaluate(X_val, y_val)\n",
    "print(\"[test loss, test mae]:\", eval_result)"
   ]
  },
  {
   "cell_type": "code",
   "execution_count": null,
   "metadata": {},
   "outputs": [],
   "source": [
    "hypermodel.summary()"
   ]
  },
  {
   "cell_type": "code",
   "execution_count": null,
   "metadata": {},
   "outputs": [],
   "source": [
    "hypermodel.predict(np.array([0,0,9,100,100,0,30]).reshape(1, -1))"
   ]
  },
  {
   "attachments": {},
   "cell_type": "markdown",
   "metadata": {},
   "source": [
    "## Previsione Potenza"
   ]
  },
  {
   "cell_type": "code",
   "execution_count": null,
   "metadata": {},
   "outputs": [],
   "source": [
    "def get_pipe_grid(type):\n",
    "    pipelines = {\n",
    "        \"linear\": {\n",
    "            \"pipe\": Pipeline([\n",
    "                (\"poly\", PolynomialFeatures(include_bias=False)),\n",
    "                (\"std\", None),\n",
    "                (\"regressor\", None)\n",
    "            ]),\n",
    "            \"grid_common\": {\n",
    "                \"poly__degree\": [4,5],\n",
    "                \"std\": [StandardScaler()],\n",
    "            },\n",
    "            \"grid_regressors\": [\n",
    "                {\n",
    "                    \"regressor\": [LinearRegression()],\n",
    "                },\n",
    "                {\n",
    "                    \"regressor\": [Lasso()],\n",
    "                    \"regressor__alpha\": [0.01,0.1],\n",
    "                },\n",
    "                {\n",
    "                    \"regressor\": [Ridge()],\n",
    "                    \"regressor__alpha\": [0.01,0.1],\n",
    "                },\n",
    "                {\n",
    "                    \"regressor\": [ElasticNet()],\n",
    "                    \"regressor__alpha\": [0.01,0.1],\n",
    "                    \"regressor__l1_ratio\": [0.1],\n",
    "                },\n",
    "            ]\n",
    "        },\n",
    "        \"kernel\": {\n",
    "            \"pipe\": Pipeline([\n",
    "                (\"std\", None),\n",
    "                (\"regressor\", None)\n",
    "            ]),\n",
    "            \"grid_common\": {\n",
    "                \"std\": [StandardScaler()],\n",
    "                \"regressor\": [KernelRidge()],\n",
    "                'regressor__alpha': [0.01,0.1],\n",
    "            },\n",
    "            \"grid_regressors\": [\n",
    "                {\n",
    "                    \"regressor__kernel\": [\"poly\"],\n",
    "                    'regressor__degree': [4,5],\n",
    "                },\n",
    "                {\n",
    "                    \"regressor__kernel\": [\"rbf\"],\n",
    "                    \"regressor__gamma\": [0.01,0.1],\n",
    "                }\n",
    "            ]\n",
    "        },\n",
    "        \"tree\": {\n",
    "            \"pipe\": Pipeline([\n",
    "                (\"std\", None),\n",
    "                (\"regressor\", None)\n",
    "            ]),\n",
    "            \"grid_common\": {\n",
    "                \"std\": [StandardScaler()],\n",
    "                \"regressor__max_depth\": [5,10],\n",
    "            },\n",
    "            \"grid_regressors\": [\n",
    "                {\n",
    "                    \"regressor\": [DecisionTreeRegressor()],\n",
    "                },\n",
    "                {\n",
    "                    \"regressor\": [RandomForestRegressor()],\n",
    "                    \"regressor__n_estimators\": [100,1000],\n",
    "                },\n",
    "                {\n",
    "                    \"regressor\": [LGBMRegressor()],\n",
    "                    \"regressor__n_estimators\": [100,1000],\n",
    "                    \"regressor__learning_rate\": [0.01,0.1],\n",
    "                },\n",
    "                {\n",
    "                    \"regressor\": [XGBRegressor()],\n",
    "                    \"regressor__n_estimators\": [100,1000],\n",
    "                    \"regressor__learning_rate\": [0.01,0.1],\n",
    "                }\n",
    "            ]\n",
    "        }\n",
    "    }\n",
    "    return pipelines[type][\"pipe\"], [dict(pipelines[type][\"grid_common\"], **params) for params in pipelines[type][\"grid_regressors\"]]"
   ]
  },
  {
   "cell_type": "code",
   "execution_count": null,
   "metadata": {},
   "outputs": [],
   "source": [
    "def get_trained_model(type, X_train, y_train, randomized=False):\n",
    "    pipe, grid = get_pipe_grid(type)\n",
    "    model = GridSearchCV(pipe, grid, cv=kf, scoring=\"r2\", n_jobs=-1) if not randomized else RandomizedSearchCV(pipe, grid, cv=kf, scoring=\"r2\", n_jobs=-1)\n",
    "    model.fit(X_train, y_train)\n",
    "    return model"
   ]
  },
  {
   "cell_type": "code",
   "execution_count": null,
   "metadata": {},
   "outputs": [],
   "source": [
    "X_watt = details.drop(['power(watts)','distance(m)','altitude(m)','speed(m/s)','potenza_media','time_since_start','slope_percent','temperature(C)','hr_zone','pwr_zone','altitude_diff','distance_diff','left_pco(mm)','right_pco(mm)','power_left','power_right','accumulated_power(watts)'], axis=1)\n",
    "y_watt = details['potenza_media']\n",
    "X_train, X_val, y_train, y_val = train_test_split(X_watt, y_watt, test_size=1/3, random_state=42)"
   ]
  },
  {
   "attachments": {},
   "cell_type": "markdown",
   "metadata": {},
   "source": [
    "### Regressione con modelli lineari e polinomiali"
   ]
  },
  {
   "cell_type": "code",
   "execution_count": null,
   "metadata": {},
   "outputs": [],
   "source": [
    "linear_gs = get_trained_model('linear', X_train, y_train)\n",
    "print_eval(X_val, y_val, linear_gs)\n",
    "linear_gs_res=pd.DataFrame(linear_gs.cv_results_).sort_values(\"mean_test_score\", ascending=False)\n",
    "linear_gs_res"
   ]
  },
  {
   "attachments": {},
   "cell_type": "markdown",
   "metadata": {},
   "source": [
    "### Regressione con funzioni kernel"
   ]
  },
  {
   "cell_type": "code",
   "execution_count": null,
   "metadata": {},
   "outputs": [],
   "source": [
    "kernel_gs = get_trained_model('kernel', X_train, y_train)\n",
    "print_eval(X_val, y_val, kernel_gs)\n",
    "kernel_gs_res=pd.DataFrame(kernel_gs.cv_results_).sort_values(\"mean_test_score\", ascending=False)\n",
    "kernel_gs_res"
   ]
  },
  {
   "attachments": {},
   "cell_type": "markdown",
   "metadata": {},
   "source": [
    "### Regressione con alberi"
   ]
  },
  {
   "cell_type": "code",
   "execution_count": null,
   "metadata": {},
   "outputs": [],
   "source": [
    "watt_tree_gs = get_trained_model('tree', X_train, y_train)\n",
    "print_eval(X_val, y_val, watt_tree_gs, tree=True)\n",
    "watt_tree_gs_res=pd.DataFrame(watt_tree_gs.cv_results_).sort_values(\"mean_test_score\", ascending=False)\n",
    "watt_tree_gs_res"
   ]
  },
  {
   "attachments": {},
   "cell_type": "markdown",
   "metadata": {},
   "source": [
    "### Confronto fra modelli"
   ]
  },
  {
   "cell_type": "code",
   "execution_count": null,
   "metadata": {},
   "outputs": [],
   "source": [
    "# Creazione del plot scatter\n",
    "fig, ax = plt.subplots(figsize=(24, 9))\n",
    "\n",
    "linear_models = pd.concat([linear_gs_res, linear_gs_res], axis=0)\n",
    "scatter_linear = ax.scatter(linear_models['mean_fit_time'], linear_models['mean_test_score'], color='blue', label='Modelli lineari e polinomiali')\n",
    "\n",
    "krm_models = pd.concat([kernel_gs_res, kernel_gs_res], axis=0)\n",
    "scatter_kernel = ax.scatter(krm_models['mean_fit_time'], krm_models['mean_test_score'], color='red', label='Modelli Kernel')\n",
    "\n",
    "tree_models = pd.concat([watt_tree_gs_res, watt_tree_gs_res], axis=0)\n",
    "scatter_tree = ax.scatter(tree_models['mean_fit_time'], tree_models['mean_test_score'], color='green', label='Modelli Albero')\n",
    "\n",
    "ax.set_xlabel('Tempo di addestramento (s)')\n",
    "ax.set_ylabel('Coefficiente R2')\n",
    "ax.set_title('Confronto tra i modelli')\n",
    "ax.legend()\n",
    "plt.ylim(0, 1.1)\n",
    "plt.show()\n"
   ]
  },
  {
   "attachments": {},
   "cell_type": "markdown",
   "metadata": {},
   "source": [
    "### test predizione"
   ]
  },
  {
   "cell_type": "code",
   "execution_count": null,
   "metadata": {},
   "outputs": [],
   "source": [
    "X_watt.info()"
   ]
  },
  {
   "cell_type": "code",
   "execution_count": null,
   "metadata": {},
   "outputs": [],
   "source": [
    "watt_tree_gs.predict(np.array([140,90]).reshape(1, -1))"
   ]
  },
  {
   "attachments": {},
   "cell_type": "markdown",
   "metadata": {},
   "source": [
    "### Reti neurali"
   ]
  },
  {
   "cell_type": "code",
   "execution_count": null,
   "metadata": {},
   "outputs": [],
   "source": [
    "X_hr = details.drop(['heart_rate(bpm)','potenza_media','temperature(C)','hr_zone','pwr_zone','altitude_diff','distance_diff','left_pco(mm)','right_pco(mm)','power_left','power_right','accumulated_power(watts)'], axis=1)\n",
    "y_hr = details['potenza_media']\n",
    "X_train, X_val, y_train, y_val = train_test_split(X_hr, y_hr, test_size=1/3, random_state=42)"
   ]
  },
  {
   "cell_type": "code",
   "execution_count": null,
   "metadata": {},
   "outputs": [],
   "source": [
    "from sklearn.neural_network import MLPRegressor\n",
    "\n",
    "pipe = Pipeline([\n",
    "    (\"std\", StandardScaler()),\n",
    "    (\"regressor\", MLPRegressor())\n",
    "])\n",
    "\n",
    "grid = {\n",
    "    \"regressor__hidden_layer_sizes\": [(256, 256)],\n",
    "    \"regressor__activation\": [\"relu\"],\n",
    "    \"regressor__max_iter\": [2000],\n",
    "    \"regressor__batch_size\": [128],\n",
    "    \"regressor__alpha\": [0.01]\n",
    "\n",
    "}\n",
    "\n",
    "model = GridSearchCV(pipe, grid, cv=kf, scoring=\"r2\", n_jobs=-1)\n",
    "model.fit(X_train, y_train)\n",
    "print_eval(X_val, y_val, model)"
   ]
  },
  {
   "cell_type": "code",
   "execution_count": null,
   "metadata": {},
   "outputs": [],
   "source": [
    "pd.DataFrame(model.cv_results_).sort_values(\"mean_test_score\", ascending=False)"
   ]
  },
  {
   "cell_type": "code",
   "execution_count": null,
   "metadata": {},
   "outputs": [],
   "source": [
    "pd.DataFrame({'Feature': X_watt.columns, 'Weight': model.best_estimator_.named_steps['regressor'].coefs_[0].mean(axis=1)})"
   ]
  },
  {
   "attachments": {},
   "cell_type": "markdown",
   "metadata": {},
   "source": [
    "# Classificazione"
   ]
  },
  {
   "attachments": {},
   "cell_type": "markdown",
   "metadata": {},
   "source": [
    "## Classificazione della potenza"
   ]
  },
  {
   "cell_type": "code",
   "execution_count": null,
   "metadata": {},
   "outputs": [],
   "source": [
    "X = details[[\"time_since_start\", \"power(watts)\"]]\n",
    "y = details['pwr_zone']\n",
    "\n",
    "X_train, X_test, y_train, y_test = train_test_split(X, y, test_size=1/3, random_state=42)\n",
    "\n",
    "diagnosis_color_map = {1: \"yellow\", 2: \"orange\", 3: \"red\", 4: \"purple\", 5: \"blue\", 6: \"green\", 7: \"black\"}\n",
    "X_train.plot.scatter(\"time_since_start\", \"power(watts)\",c=y_train.map(diagnosis_color_map),figsize=(24, 6))"
   ]
  },
  {
   "cell_type": "code",
   "execution_count": null,
   "metadata": {},
   "outputs": [],
   "source": [
    "zone_counts = details['pwr_zone'].value_counts()\n",
    "\n",
    "zone_counts.plot.barh(figsize=(24, 6), legend=None)\n",
    "\n",
    "plt.xlabel('tempo')\n",
    "plt.ylabel('Zona')\n",
    "plt.title('Conteggio del tempo a seconda delle zone')\n",
    "plt.show()"
   ]
  },
  {
   "cell_type": "code",
   "execution_count": null,
   "metadata": {},
   "outputs": [],
   "source": [
    "X = details[['heart_rate(bpm)', 'cadence(rpm)']]\n",
    "y = details['pwr_zone']\n",
    "\n",
    "X_train, X_val, y_train, y_val = train_test_split(X, y, test_size=1/3, random_state=42)\n",
    "\n",
    "model = DecisionTreeClassifier(max_depth=3)\n",
    "model.fit(X_train, y_train)\n",
    "\n",
    "plt.figure(figsize=(24, 9))\n",
    "plot_tree(model, feature_names=X_train.columns.to_list())\n",
    "print(export_text(model, feature_names=X_train.columns.to_list()))"
   ]
  },
  {
   "attachments": {},
   "cell_type": "markdown",
   "metadata": {},
   "source": [
    "## Classificazione dei battiti"
   ]
  },
  {
   "cell_type": "code",
   "execution_count": null,
   "metadata": {},
   "outputs": [],
   "source": [
    "X = details[[\"time_since_start\", \"heart_rate(bpm)\"]]\n",
    "y = details['hr_zone']\n",
    "\n",
    "X_train, X_test, y_train, y_test = train_test_split(X, y, test_size=1/3, random_state=42)\n",
    "\n",
    "diagnosis_color_map = {1: \"yellow\", 2: \"orange\", 3: \"red\", 4: \"purple\", 5: \"blue\", 6: \"green\", 7: \"black\"}\n",
    "X_train.plot.scatter(\"time_since_start\", \"heart_rate(bpm)\",c=y_train.map(diagnosis_color_map),figsize=(24, 6))"
   ]
  },
  {
   "cell_type": "code",
   "execution_count": null,
   "metadata": {},
   "outputs": [],
   "source": [
    "zone_counts = details['hr_zone'].value_counts()\n",
    "\n",
    "zone_counts.plot.barh(figsize=(24, 6), legend=None)\n",
    "\n",
    "plt.xlabel('tempo')\n",
    "plt.ylabel('Zona')\n",
    "plt.title('Conteggio del tempo a seconda delle zone')\n",
    "plt.show()"
   ]
  },
  {
   "cell_type": "code",
   "execution_count": null,
   "metadata": {},
   "outputs": [],
   "source": [
    "X = details[['power(watts)', 'cadence(rpm)']]\n",
    "y = details['hr_zone']\n",
    "\n",
    "X_train, X_val, y_train, y_val = train_test_split(X, y, test_size=1/3, random_state=42)\n",
    "\n",
    "model = DecisionTreeClassifier(max_depth=3)\n",
    "model.fit(X_train, y_train)\n",
    "\n",
    "plt.figure(figsize=(24, 9))\n",
    "plot_tree(model, feature_names=X_train.columns.to_list())\n",
    "print(export_text(model, feature_names=X_train.columns.to_list()))"
   ]
  },
  {
   "attachments": {},
   "cell_type": "markdown",
   "metadata": {},
   "source": [
    "# Flask"
   ]
  },
  {
   "cell_type": "code",
   "execution_count": null,
   "metadata": {},
   "outputs": [],
   "source": [
    "import os\n",
    "import pickle\n",
    "import flask"
   ]
  },
  {
   "cell_type": "code",
   "execution_count": null,
   "metadata": {},
   "outputs": [],
   "source": [
    "if not os.path.isdir(\"templates\"):\n",
    "  os.mkdir(\"templates\")\n",
    "\n",
    "if not os.path.isdir(\"models\"):\n",
    "  os.mkdir(\"models\")\n",
    "\n",
    "if not os.path.isdir(\"datasets\"):\n",
    "  os.mkdir(\"datasets\")"
   ]
  },
  {
   "cell_type": "code",
   "execution_count": null,
   "metadata": {},
   "outputs": [],
   "source": [
    "with open(\"models/hr_model.bin\", \"wb\") as f:\n",
    "    pickle.dump(tree_gs.best_estimator_, f)\n",
    "\n",
    "with open(\"models/watt_model.bin\", \"wb\") as f:\n",
    "    pickle.dump(watt_tree_gs.best_estimator_, f)\n",
    "\n",
    "with open(\"datasets/hr_dataset.pkl\", \"wb\") as f:\n",
    "    pickle.dump(X_hr, f)\n",
    "\n",
    "with open(\"datasets/watt_dataset.pkl\", \"wb\") as f:\n",
    "    pickle.dump(X_watt, f)"
   ]
  },
  {
   "cell_type": "code",
   "execution_count": null,
   "metadata": {},
   "outputs": [],
   "source": [
    "%%writefile garmin_flask.py\n",
    "import os.path\n",
    "import pickle\n",
    "from flask import Flask, request, render_template\n",
    "import numpy as np"
   ]
  },
  {
   "cell_type": "code",
   "execution_count": null,
   "metadata": {},
   "outputs": [],
   "source": [
    "%%writefile -a garmin_flask.py\n",
    "\n",
    "app = Flask(__name__)\n",
    "app.debug = True"
   ]
  },
  {
   "cell_type": "code",
   "execution_count": null,
   "metadata": {},
   "outputs": [],
   "source": [
    "%%writefile -a garmin_flask.py\n",
    "\n",
    "@app.route(\"/\", methods=[\"GET\", \"POST\"])\n",
    "def index():\n",
    "    \n",
    "    with open('datasets/hr_dataset.pkl', 'rb') as f:\n",
    "        X_hr = pickle.load(f)\n",
    "    with open('datasets/watt_dataset.pkl', 'rb') as f:\n",
    "        X_watt = pickle.load(f)\n",
    "\n",
    "    if request.method == \"POST\":\n",
    "        card = request.form.get(\"card\")\n",
    "\n",
    "        if card == \"hr\":\n",
    "            inputs = []\n",
    "            for column_name, dtype in X_hr.dtypes.items():\n",
    "                if dtype == \"int64\":\n",
    "                    value = int(request.form[column_name])\n",
    "                elif dtype == \"float64\":\n",
    "                    value = float(request.form[column_name])\n",
    "                inputs.append(value)\n",
    "            with app.open_resource(\"models/hr_model.bin\", \"rb\") as f:\n",
    "                hr_model = pickle.load(f)\n",
    "            response = hr_model.predict(np.array(inputs).reshape(1, -1))[0]\n",
    "            return render_template(\"index.html\", hr_pred=response, X_hr=X_hr, X_watt=X_watt)\n",
    "\n",
    "        elif card == \"watt\":\n",
    "            inputs = []\n",
    "            for column_name, dtype in X_watt.dtypes.items():\n",
    "                if dtype == \"int64\":\n",
    "                    value = int(request.form[column_name])\n",
    "                elif dtype == \"float64\":\n",
    "                    value = float(request.form[column_name])\n",
    "                inputs.append(value)\n",
    "            with app.open_resource(\"models/watt_model.bin\", \"rb\") as f:\n",
    "                watt_model = pickle.load(f)\n",
    "            response = watt_model.predict(np.array(inputs).reshape(1, -1))[0]\n",
    "            return render_template(\"index.html\", w_pred=response, X_hr=X_hr, X_watt=X_watt)\n",
    "\n",
    "    return render_template(\"index.html\", X_hr=X_hr, X_watt=X_watt)"
   ]
  },
  {
   "cell_type": "code",
   "execution_count": null,
   "metadata": {},
   "outputs": [],
   "source": [
    "%%writefile -a garmin_flask.py\n",
    "\n",
    "if __name__ == '__main__':\n",
    "  app.run()"
   ]
  },
  {
   "cell_type": "code",
   "execution_count": null,
   "metadata": {},
   "outputs": [],
   "source": [
    "%%writefile templates/index.html\n",
    "\n",
    "<!doctype html>\n",
    "<html lang=\"en\">\n",
    "\n",
    "<head>\n",
    "  <meta charset=\"utf-8\">\n",
    "  <meta name=\"viewport\" content=\"width=device-width, initial-scale=1\">\n",
    "  <title>Bootstrap demo</title>\n",
    "  <link href=\"https://cdn.jsdelivr.net/npm/bootstrap@5.3.0/dist/css/bootstrap.min.css\" rel=\"stylesheet\"\n",
    "    integrity=\"sha384-9ndCyUaIbzAi2FUVXJi0CjmCapSmO7SnpJef0486qhLnuZ2cdeRhO02iuK6FUUVM\" crossorigin=\"anonymous\">\n",
    "</head>\n",
    "\n",
    "<body class=\"d-flex flex-column vh-100\" data-bs-theme=\"dark\">\n",
    "  <header class=\"d-flex justify-content-center shadow py-3\">\n",
    "      <h1>data intensive</h1>\n",
    "  </header>\n",
    "  <div class=\"d-flex align-items-center justify-content-center h-100\">\n",
    "    <div class=\"card m-auto\">\n",
    "      <div class=\"card-body\">\n",
    "        <h5 class=\"card-title\">Previsione battiti</h5>\n",
    "        <form method=\"POST\" action=\"\">\n",
    "          {% for column in X_hr.columns %}\n",
    "          <div class=\"mb-3\">\n",
    "            <label for=\"{{ column }}\" class=\"form-label\">{{ column }}</label>\n",
    "            <input name=\"{{ column }}\" class=\"form-control\" id=\"{{ column }}\">\n",
    "          </div>\n",
    "          {% endfor %}\n",
    "          <input type=\"hidden\" name=\"card\" value=\"hr\">\n",
    "          <button type=\"submit\" class=\"btn btn-primary\">Submit</button>\n",
    "        </form>\n",
    "      </div>\n",
    "      <div class=\"card-footer\">\n",
    "        <p>Risultato: <b>{{ hr_pred }}</b></p>\n",
    "      </div>\n",
    "    </div>\n",
    "    <div class=\"card m-auto\">\n",
    "      <div class=\"card-body\">\n",
    "        <h5 class=\"card-title\">Previsione potenza</h5>\n",
    "        <form method=\"POST\" action=\"\">\n",
    "          {% for column in X_watt.columns %}\n",
    "          <div class=\"mb-3\">\n",
    "            <label for=\"{{ column }}\" class=\"form-label\">{{ column }}</label>\n",
    "            <input name=\"{{ column }}\" class=\"form-control\" id=\"{{ column }}\">\n",
    "          </div>\n",
    "          {% endfor %}\n",
    "          <input type=\"hidden\" name=\"card\" value=\"watt\">\n",
    "          <button type=\"submit\" class=\"btn btn-primary\">Submit</button>\n",
    "        </form>\n",
    "      </div>\n",
    "      <div class=\"card-footer\">\n",
    "        <p>Risultato: <b>{{ w_pred }}</b></p>\n",
    "      </div>\n",
    "    </div>\n",
    "  </div>\n",
    "</body>\n",
    "\n",
    "</html>\n"
   ]
  }
 ],
 "metadata": {
  "kernelspec": {
   "display_name": "Python 3 (ipykernel)",
   "language": "python",
   "name": "python3"
  },
  "language_info": {
   "codemirror_mode": {
    "name": "ipython",
    "version": 3
   },
   "file_extension": ".py",
   "mimetype": "text/x-python",
   "name": "python",
   "nbconvert_exporter": "python",
   "pygments_lexer": "ipython3",
   "version": "3.11.4"
  }
 },
 "nbformat": 4,
 "nbformat_minor": 2
}
