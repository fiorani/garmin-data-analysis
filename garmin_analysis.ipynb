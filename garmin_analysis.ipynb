{
 "cells": [
  {
   "attachments": {},
   "cell_type": "markdown",
   "metadata": {},
   "source": [
    "# Inizializzazione"
   ]
  },
  {
   "cell_type": "code",
   "execution_count": null,
   "metadata": {},
   "outputs": [],
   "source": [
    "# %pip install numpy\n",
    "# %pip install pandas\n",
    "# %pip install matplotlib\n",
    "# %pip install scikit-learn\n",
    "# %pip install lightgbm\n",
    "# %pip install xgboost\n",
    "# %pip install flask\n",
    "import numpy as np\n",
    "import pandas as pd\n",
    "import matplotlib.pyplot as plt\n",
    "import sklearn as sk\n",
    "import os\n",
    "import pickle\n",
    "import flask"
   ]
  },
  {
   "cell_type": "code",
   "execution_count": null,
   "metadata": {},
   "outputs": [],
   "source": [
    "summary = pd.read_csv(\"garmin_edge_820/summary.csv\", sep=\";\")\n",
    "details = pd.read_csv(\"garmin_edge_820/4557226804_ACTIVITY_data.csv\", sep=\";\")"
   ]
  },
  {
   "cell_type": "code",
   "execution_count": null,
   "metadata": {},
   "outputs": [],
   "source": [
    "# Pulizia dei dati\n",
    "details = details.drop(['left_power_phase[degrees]',\n",
    "                        'left_power_phase_peak[degrees]',\n",
    "                        'right_power_phase[degrees]',\n",
    "                        'right_power_phase_peak[degrees]',\n",
    "                        'left_right_balance'], axis=1)\n",
    "# convertire i valori di tempo in formato datetime\n",
    "details['time'] = pd.to_datetime(details.pop('timestamp[s]'), unit='s').dt.time\n",
    "details.set_index(\"time\", inplace=True)\n",
    "\n",
    "def convert_brackets(string):\n",
    "    return string.replace('[', '(').replace(']', ')')\n",
    "\n",
    "details.columns = [convert_brackets(col) for col in details.columns]\n",
    "\n",
    "# calcolo il tempo trascorso dall'inizio dell'attività\n",
    "details['time_since_start'] = 1\n",
    "details['time_since_start'] = details['time_since_start'].cumsum().sub(1)\n",
    "\n",
    "# calcolo le zone di frequenza cardiaca e di potenza dato il battito in input\n",
    "\n",
    "hr_zones = [(0, 128), (129, 146), (147, 156), (157, 165),\n",
    "            (166, 174), (175, 179), (180, float('inf'))]\n",
    "power_zones = [(0, 157), (158, 186), (187, 200), (201, 218),\n",
    "               (219, 247), (248, 287), (288, float('inf'))]\n",
    "\n",
    "def get_zone(rate, zones):\n",
    "    for zone, (lower, upper) in enumerate(zones, start=1):\n",
    "        if lower <= rate <= upper:\n",
    "            return zone\n",
    "\n",
    "details['hr_zone'] = details['heart_rate(bpm)'].apply(get_zone, zones=hr_zones)\n",
    "details['pwr_zone'] = details['power(watts)'].apply(get_zone, zones=power_zones)\n",
    "\n",
    "# Calcola la differenza di altitudine tra le righe adiacenti\n",
    "details['altitude_diff'] = details['altitude(m)'] - \\\n",
    "    details['altitude(m)'].shift(1)\n",
    "details['distance_diff'] = details['distance(m)'] - \\\n",
    "    details['distance(m)'].shift(1)\n",
    "details[['altitude_diff', 'distance_diff']] = details[[\n",
    "    'altitude_diff', 'distance_diff']].fillna(0)\n",
    "# Calcola la percentuale di pendenza\n",
    "details['slope_percent'] = np.where(\n",
    "    details['distance_diff'] == 0, 0, details['altitude_diff'] / details['distance_diff'] * 100)"
   ]
  },
  {
   "cell_type": "code",
   "execution_count": null,
   "metadata": {},
   "outputs": [],
   "source": [
    "details.describe()"
   ]
  },
  {
   "cell_type": "code",
   "execution_count": null,
   "metadata": {},
   "outputs": [],
   "source": [
    "details.info()"
   ]
  },
  {
   "cell_type": "code",
   "execution_count": null,
   "metadata": {},
   "outputs": [],
   "source": [
    "details['speed(m/s)'] = details['speed(m/s)'].fillna(details['speed(m/s)'].mean())"
   ]
  },
  {
   "attachments": {},
   "cell_type": "markdown",
   "metadata": {},
   "source": [
    "# Data Visualization"
   ]
  },
  {
   "cell_type": "code",
   "execution_count": null,
   "metadata": {},
   "outputs": [],
   "source": [
    "plt.figure(figsize=(24, 6))\n",
    "plt.plot(details['time_since_start'], details['power(watts)'], label=\"power\")\n",
    "plt.plot(details['time_since_start'], details['cadence(rpm)'], label=\"cadence\")\n",
    "plt.plot(details['time_since_start'], details['speed(m/s)'], label=\"speed\")\n",
    "plt.plot(details['time_since_start'], details['heart_rate(bpm)'], label=\"bpm\")\n",
    "plt.plot(details['time_since_start'], details['altitude(m)'], label=\"altitude\")\n",
    "plt.xlabel(\"tempo\")\n",
    "plt.legend()\n",
    "plt.grid(True)\n",
    "plt.show()"
   ]
  },
  {
   "attachments": {},
   "cell_type": "markdown",
   "metadata": {},
   "source": [
    "# Previsioni"
   ]
  },
  {
   "cell_type": "code",
   "execution_count": null,
   "metadata": {},
   "outputs": [],
   "source": [
    "kf = KFold(n_splits=3, shuffle=True, random_state=42)"
   ]
  },
  {
   "attachments": {},
   "cell_type": "markdown",
   "metadata": {},
   "source": [
    "## Previsione battito"
   ]
  },
  {
   "cell_type": "code",
   "execution_count": null,
   "metadata": {},
   "outputs": [],
   "source": [
    "X = details.drop('heart_rate(bpm)', axis=1)\n",
    "y = details['heart_rate(bpm)']\n",
    "X_train, X_val, y_train, y_val = train_test_split(X, y, test_size=1/3, random_state=42)"
   ]
  },
  {
   "attachments": {},
   "cell_type": "markdown",
   "metadata": {},
   "source": [
    "### Regressione lineare"
   ]
  },
  {
   "cell_type": "code",
   "execution_count": null,
   "metadata": {},
   "outputs": [],
   "source": [
    "pipe = Pipeline([\n",
    "    (\"poly\", PolynomialFeatures(include_bias=False)),\n",
    "    (\"std\", None),\n",
    "    (\"model\", None)\n",
    "])\n",
    "\n",
    "common_grid = {\n",
    "    \"poly__degree\": [1, 2],\n",
    "    \"std\": [None, StandardScaler()],\n",
    "}\n",
    "\n",
    "regressor_grid = [\n",
    "    {\n",
    "        \"model\": [LinearRegression()],\n",
    "    },\n",
    "    {\n",
    "        \"model\": [Lasso()],\n",
    "        \"model__alpha\": [0.1]\n",
    "    },\n",
    "    {\n",
    "        \"model\": [Ridge()],\n",
    "        \"model__alpha\": [0.1]\n",
    "    },\n",
    "    {\n",
    "        \"model\": [ElasticNet()],\n",
    "        \"model__alpha\": [0.1],\n",
    "        \"model__l1_ratio\": [0.1]\n",
    "    },\n",
    "]\n",
    "\n",
    "grid = [dict(common_grid, **model) for model in regressor_grid]"
   ]
  },
  {
   "cell_type": "code",
   "execution_count": null,
   "metadata": {},
   "outputs": [],
   "source": [
    "liner_models_gs = GridSearchCV(pipe, grid, cv=kf, scoring=\"r2\", n_jobs=-1)\n",
    "liner_models_gs.fit(X_train, y_train)"
   ]
  },
  {
   "cell_type": "code",
   "execution_count": null,
   "metadata": {},
   "outputs": [],
   "source": [
    "linear_models_gs_res = pd.DataFrame(liner_models_gs.cv_results_).sort_values(\"mean_test_score\", ascending=False)\n",
    "linear_models_gs_res"
   ]
  },
  {
   "cell_type": "code",
   "execution_count": null,
   "metadata": {},
   "outputs": [],
   "source": [
    "print_eval(X_val, y_val, liner_models_gs)"
   ]
  },
  {
   "cell_type": "code",
   "execution_count": null,
   "metadata": {},
   "outputs": [],
   "source": [
    "linear_models_rs = RandomizedSearchCV(pipe, grid, cv=kf, scoring=\"r2\", n_jobs=-1)\n",
    "linear_models_rs.fit(X_train, y_train)"
   ]
  },
  {
   "cell_type": "code",
   "execution_count": null,
   "metadata": {},
   "outputs": [],
   "source": [
    "linear_models_rs_res = pd.DataFrame(linear_models_rs.cv_results_).sort_values(\"mean_test_score\", ascending=False)\n",
    "linear_models_rs_res"
   ]
  },
  {
   "cell_type": "code",
   "execution_count": null,
   "metadata": {},
   "outputs": [],
   "source": [
    "print_eval(X_val, y_val, linear_models_rs)"
   ]
  },
  {
   "attachments": {},
   "cell_type": "markdown",
   "metadata": {},
   "source": [
    "### Regressione con funzioni kernel"
   ]
  },
  {
   "cell_type": "code",
   "execution_count": null,
   "metadata": {},
   "outputs": [],
   "source": [
    "pipe = Pipeline([\n",
    "  (\"std\", None),\n",
    "  (\"model\", KernelRidge())\n",
    "])\n",
    "\n",
    "common_grid = {\n",
    "  \"std\": [StandardScaler()],\n",
    "  \"model__alpha\": [0.1],\n",
    "}\n",
    "\n",
    "model_grid = [\n",
    "  {\n",
    "      \"model__kernel\": [\"poly\"],\n",
    "      'model__degree': [1,2],\n",
    "  },\n",
    "  {\n",
    "      \"model__kernel\": [\"rbf\"],\n",
    "      \"model__gamma\": [0.1],\n",
    "  }\n",
    "]\n",
    "\n",
    "grid = [dict(common_grid, **model) for model in model_grid]"
   ]
  },
  {
   "cell_type": "code",
   "execution_count": null,
   "metadata": {},
   "outputs": [],
   "source": [
    "krm_gs = GridSearchCV(pipe, grid, cv=kf, scoring=\"r2\", n_jobs=-1)\n",
    "krm_gs.fit(X_train, y_train)"
   ]
  },
  {
   "cell_type": "code",
   "execution_count": null,
   "metadata": {},
   "outputs": [],
   "source": [
    "krm_gs_res = pd.DataFrame(krm_gs.cv_results_).sort_values(\"mean_test_score\", ascending=False)\n",
    "krm_gs_res"
   ]
  },
  {
   "cell_type": "code",
   "execution_count": null,
   "metadata": {},
   "outputs": [],
   "source": [
    "print_eval(X_val, y_val, krm_gs)"
   ]
  },
  {
   "cell_type": "code",
   "execution_count": null,
   "metadata": {},
   "outputs": [],
   "source": [
    "krm_rs = RandomizedSearchCV(pipe, grid, cv=kf, scoring=\"r2\", n_jobs=-1)\n",
    "krm_rs.fit(X_train, y_train)"
   ]
  },
  {
   "cell_type": "code",
   "execution_count": null,
   "metadata": {},
   "outputs": [],
   "source": [
    "krm_rs_res = pd.DataFrame(krm_rs.cv_results_).sort_values(\"mean_test_score\", ascending=False)\n",
    "krm_rs_res"
   ]
  },
  {
   "cell_type": "code",
   "execution_count": null,
   "metadata": {},
   "outputs": [],
   "source": [
    "print_eval(X_val, y_val, krm_rs)"
   ]
  },
  {
   "attachments": {},
   "cell_type": "markdown",
   "metadata": {},
   "source": [
    "### Alberi di regressione"
   ]
  },
  {
   "cell_type": "code",
   "execution_count": null,
   "metadata": {},
   "outputs": [],
   "source": [
    "pipe = Pipeline([\n",
    "  (\"std\", None),\n",
    "  (\"model\", None)\n",
    "])\n",
    "\n",
    "grid_common = {\n",
    "  \"std\": [None, StandardScaler()],\n",
    "  \"model__max_depth\": [10],\n",
    "}\n",
    "\n",
    "model_grid = [\n",
    "  {\n",
    "    \"model\": [DecisionTreeRegressor()],\n",
    "  },\n",
    "  {\n",
    "    \"model\": [RandomForestRegressor()],\n",
    "    \"model__max_samples\": [0.1],\n",
    "    \"model__max_features\": [\"sqrt\", \"log2\"],\n",
    "    \"model__n_estimators\": [1000],\n",
    "  },\n",
    "  {\n",
    "    \"model\": [LGBMRegressor()],\n",
    "    \"model__n_estimators\": [1000],\n",
    "    \"model__learning_rate\": [0.05],\n",
    "    \"model__num_leaves\": [10],\n",
    "  },\n",
    "  {\n",
    "    \"model\": [XGBRegressor()],\n",
    "    \"model__n_estimators\": [1000],\n",
    "    \"model__learning_rate\": [0.05],\n",
    "  }\n",
    "]\n",
    "\n",
    "grid = [dict(grid_common, **params) for params in model_grid]"
   ]
  },
  {
   "cell_type": "code",
   "execution_count": null,
   "metadata": {},
   "outputs": [],
   "source": [
    "tree_gs = GridSearchCV(pipe, grid, cv=kf, scoring=\"r2\", n_jobs=-1)\n",
    "tree_gs.fit(X_train, y_train)"
   ]
  },
  {
   "cell_type": "code",
   "execution_count": null,
   "metadata": {},
   "outputs": [],
   "source": [
    "tree_gs_res = pd.DataFrame(tree_gs.cv_results_).sort_values(\"mean_test_score\", ascending=False)\n",
    "tree_gs_res"
   ]
  },
  {
   "cell_type": "code",
   "execution_count": null,
   "metadata": {},
   "outputs": [],
   "source": [
    "print_eval(X_val, y_val, tree_gs, tree=True)"
   ]
  },
  {
   "cell_type": "code",
   "execution_count": null,
   "metadata": {},
   "outputs": [],
   "source": [
    "tree_rs = RandomizedSearchCV(pipe, grid, cv=kf, scoring=\"r2\", n_jobs=-1)\n",
    "tree_rs.fit(X_train, y_train)"
   ]
  },
  {
   "cell_type": "code",
   "execution_count": null,
   "metadata": {},
   "outputs": [],
   "source": [
    "tree_rs_res = pd.DataFrame(tree_rs.cv_results_).sort_values(\"mean_test_score\", ascending=False)\n",
    "tree_rs_res"
   ]
  },
  {
   "cell_type": "code",
   "execution_count": null,
   "metadata": {},
   "outputs": [],
   "source": [
    "print_eval(X_val, y_val, tree_rs, tree=True)"
   ]
  },
  {
   "cell_type": "code",
   "execution_count": null,
   "metadata": {},
   "outputs": [],
   "source": [
    "# Creazione del plot scatter\n",
    "fig, ax = plt.subplots(figsize=(10, 6))\n",
    "\n",
    "linear_models = pd.concat([linear_models_gs_res, linear_models_rs_res], axis=0)\n",
    "scatter_linear = ax.scatter(linear_models['mean_fit_time'], linear_models['mean_test_score'], color='blue', label='Modelli lineari e polinomiali')\n",
    "\n",
    "krm_models = pd.concat([krm_gs_res, krm_rs_res], axis=0)\n",
    "scatter_kernel = ax.scatter(krm_models['mean_fit_time'], krm_models['mean_test_score'], color='red', label='Modelli Kernel')\n",
    "\n",
    "tree_models = pd.concat([tree_gs_res, tree_rs_res], axis=0)\n",
    "scatter_tree = ax.scatter(tree_models['mean_fit_time'], tree_models['mean_test_score'], color='green', label='Modelli Albero')\n",
    "\n",
    "ax.set_xlabel('Tempo di addestramento (s)')\n",
    "ax.set_ylabel('Coefficiente R2')\n",
    "ax.set_title('Confronto tra i modelli')\n",
    "ax.legend()\n",
    "plt.ylim(0, 1.5)\n",
    "plt.show()\n"
   ]
  },
  {
   "attachments": {},
   "cell_type": "markdown",
   "metadata": {},
   "source": [
    "## Previsione Potenza"
   ]
  },
  {
   "cell_type": "code",
   "execution_count": null,
   "metadata": {},
   "outputs": [],
   "source": [
    "copy_details = details[details['power(watts)'] != 0]\n",
    "features = copy_details.drop('power(watts)', axis=1)\n",
    "target = copy_details['power(watts)']\n",
    "X_train, X_test, y_train, y_test = train_test_split(features, target, test_size=1/3, random_state=42)"
   ]
  },
  {
   "attachments": {},
   "cell_type": "markdown",
   "metadata": {},
   "source": [
    "### Regressione con modelli lineari e polinomiali"
   ]
  },
  {
   "cell_type": "code",
   "execution_count": null,
   "metadata": {},
   "outputs": [],
   "source": [
    "pipe = Pipeline([\n",
    "    (\"poly\", PolynomialFeatures(include_bias=False)),\n",
    "    (\"std\", None),\n",
    "    (\"regressor\", None)\n",
    "])\n",
    "grid_common = {\n",
    "    \"poly__degree\": [1,2,3],\n",
    "    \"std\": [StandardScaler()],\n",
    "}\n",
    "grid_regressors = [\n",
    "    {\n",
    "        \"regressor\": [LinearRegression()],\n",
    "    },\n",
    "    {\n",
    "        \"regressor\": [Lasso()],\n",
    "        \"regressor__alpha\": [0.1,1],\n",
    "    },\n",
    "    {\n",
    "        \"regressor\": [Ridge()],\n",
    "        \"regressor__alpha\": [0.1,1],\n",
    "    },\n",
    "    {\n",
    "        \"regressor\": [ElasticNet()],\n",
    "        \"regressor__alpha\": [0.1,1],\n",
    "        \"regressor__l1_ratio\": [0.1],\n",
    "    },\n",
    "]\n",
    "\n",
    "grid = [dict(grid_common, **params) for params in grid_regressors]\n",
    "model = GridSearchCV(pipe, grid, cv=kf, scoring='r2', n_jobs=-1)\n",
    "model.fit(X_train, y_train)\n",
    "pd.DataFrame(model.cv_results_).sort_values(\"mean_test_score\", ascending=False)"
   ]
  },
  {
   "attachments": {},
   "cell_type": "markdown",
   "metadata": {},
   "source": [
    "### Regressione con funzioni kernel"
   ]
  },
  {
   "cell_type": "code",
   "execution_count": null,
   "metadata": {},
   "outputs": [],
   "source": [
    "pipe = Pipeline([\n",
    "    (\"std\", None),\n",
    "    (\"regressor\", None)\n",
    "])\n",
    "grid_common = {\n",
    "    \"std\": [StandardScaler()],\n",
    "    \"regressor\": [KernelRidge()],\n",
    "    'regressor__alpha': [0.1,1],\n",
    "}\n",
    "grid_regressors = [\n",
    "    {\n",
    "        \"regressor__kernel\": [\"poly\"],\n",
    "        'regressor__degree': [1,2,3],\n",
    "    },\n",
    "    {\n",
    "        \"regressor__kernel\": [\"rbf\"],\n",
    "        \"regressor__gamma\": [0.1,1],\n",
    "    }\n",
    "]\n",
    "\n",
    "grid = [dict(grid_common, **params) for params in grid_regressors]\n",
    "model = GridSearchCV(pipe, grid, cv=kf, scoring='r2', n_jobs=-1)\n",
    "model.fit(X_train, y_train)\n",
    "pd.DataFrame(model.cv_results_).sort_values(\"mean_test_score\", ascending=False)"
   ]
  },
  {
   "attachments": {},
   "cell_type": "markdown",
   "metadata": {},
   "source": [
    "### Regressione con alberi"
   ]
  },
  {
   "cell_type": "code",
   "execution_count": null,
   "metadata": {},
   "outputs": [],
   "source": [
    "pipe = Pipeline([\n",
    "    (\"std\", None),\n",
    "    (\"regressor\", None)\n",
    "])\n",
    "\n",
    "grid_common = {\n",
    "    \"std\": [StandardScaler()],\n",
    "     \"regressor__max_depth\": [5, 10, 15],\n",
    "}\n",
    "grid_regressors = [\n",
    "    {\n",
    "        \"regressor\": [DecisionTreeRegressor()],\n",
    "    },\n",
    "    {\n",
    "        \"regressor\": [RandomForestRegressor()],\n",
    "        \"regressor__n_estimators\": [100, 200, 300],\n",
    "    },\n",
    "    {\n",
    "        \"regressor\": [LGBMRegressor()],\n",
    "        \"regressor__n_estimators\": [100, 200, 300],\n",
    "        \"regressor__learning_rate\": [0.01, 0.05, 0.1],\n",
    "    },\n",
    "    {\n",
    "        \"regressor\": [XGBRegressor()],\n",
    "        \"regressor__n_estimators\": [100, 200, 300],\n",
    "        \"regressor__learning_rate\": [0.01, 0.05, 0.1],\n",
    "    }\n",
    "]\n",
    "grid = [dict(grid_common, **params) for params in grid_regressors]\n",
    "model = GridSearchCV(pipe, grid, cv=kf, scoring='r2', n_jobs=-1)\n",
    "model.fit(X_train, y_train)\n",
    "pd.DataFrame(model.cv_results_).sort_values(\"mean_test_score\", ascending=False)"
   ]
  },
  {
   "attachments": {},
   "cell_type": "markdown",
   "metadata": {},
   "source": [
    "# Classificazione"
   ]
  },
  {
   "attachments": {},
   "cell_type": "markdown",
   "metadata": {},
   "source": [
    "## Classificazione della potenza"
   ]
  },
  {
   "cell_type": "code",
   "execution_count": null,
   "metadata": {},
   "outputs": [],
   "source": [
    "X = details[[\"time_since_start\", \"power(watts)\"]]\n",
    "y = details['pwr_zone']\n",
    "\n",
    "X_train, X_test, y_train, y_test = train_test_split(X, y, test_size=1/3, random_state=42)\n",
    "\n",
    "diagnosis_color_map = {1: \"yellow\", 2: \"orange\", 3: \"red\", 4: \"purple\", 5: \"blue\", 6: \"green\", 7: \"black\"}\n",
    "X_train.plot.scatter(\"time_since_start\", \"power(watts)\",c=y_train.map(diagnosis_color_map),figsize=(24, 6))"
   ]
  },
  {
   "cell_type": "code",
   "execution_count": null,
   "metadata": {},
   "outputs": [],
   "source": [
    "zone_counts = details['pwr_zone'].value_counts()\n",
    "\n",
    "zone_counts.plot.barh(figsize=(24, 6), legend=None)\n",
    "\n",
    "plt.xlabel('tempo')\n",
    "plt.ylabel('Zona')\n",
    "plt.title('Conteggio del tempo a seconda delle zone')\n",
    "plt.show()"
   ]
  },
  {
   "cell_type": "code",
   "execution_count": null,
   "metadata": {},
   "outputs": [],
   "source": [
    "from sklearn.linear_model import LinearRegression\n",
    "from sklearn.metrics import mean_squared_error, r2_score\n",
    "from sklearn.model_selection import train_test_split\n",
    "from sklearn.tree import DecisionTreeClassifier, plot_tree, export_text\n",
    "\n",
    "X = details.drop(['pwr_zone'], axis=1)\n",
    "y = details['pwr_zone']\n",
    "\n",
    "X_train, X_val, y_train, y_val = train_test_split(X, y, test_size=1/3, random_state=42)\n",
    "\n",
    "model = DecisionTreeClassifier(max_depth=None)\n",
    "model.fit(X_train, y_train)\n",
    "\n",
    "plt.figure(figsize=(24, 9))\n",
    "plot_tree(model, feature_names=X_train.columns.to_list())\n",
    "print(export_text(model, feature_names=X_train.columns.to_list()))"
   ]
  },
  {
   "attachments": {},
   "cell_type": "markdown",
   "metadata": {},
   "source": [
    "# Flask"
   ]
  },
  {
   "cell_type": "code",
   "execution_count": null,
   "metadata": {},
   "outputs": [],
   "source": [
    "if not os.path.isdir(\"templates\"):\n",
    "  os.mkdir(\"templates\")\n",
    "\n",
    "if not os.path.isdir(\"models\"):\n",
    "  os.mkdir(\"models\")\n",
    "\n",
    "if not os.path.isdir(\"datasets\"):\n",
    "  os.mkdir(\"datasets\")"
   ]
  },
  {
   "cell_type": "code",
   "execution_count": null,
   "metadata": {},
   "outputs": [],
   "source": [
    "with open(\"models/hr_model.bin\", \"wb\") as f:\n",
    "    pickle.dump(tree_gs, f)"
   ]
  },
  {
   "cell_type": "code",
   "execution_count": null,
   "metadata": {},
   "outputs": [],
   "source": [
    "with open(\"datasets/dataset.pkl\", \"wb\") as f:\n",
    "    pickle.dump(X, f)"
   ]
  },
  {
   "cell_type": "code",
   "execution_count": null,
   "metadata": {},
   "outputs": [],
   "source": [
    "%%writefile garmin_flask.py\n",
    "import os.path\n",
    "import pickle\n",
    "from flask import Flask, request, render_template"
   ]
  },
  {
   "cell_type": "code",
   "execution_count": null,
   "metadata": {},
   "outputs": [],
   "source": [
    "%%writefile -a garmin_flask.py\n",
    "\n",
    "app = Flask(__name__)\n",
    "app.debug = True"
   ]
  },
  {
   "cell_type": "code",
   "execution_count": null,
   "metadata": {},
   "outputs": [],
   "source": [
    "%%writefile -a garmin_flask.py\n",
    "\n",
    "@app.route(\"/\", methods=[\"GET\", \"POST\"])\n",
    "def index():\n",
    "    with open('datasets/dataset.pkl', 'rb') as f:\n",
    "        X = pickle.load(f)\n",
    "    if request.method == \"GET\":\n",
    "        return render_template(\"index.html\", df=X)\n",
    "    elif request.method == \"POST\":\n",
    "        inputs = []\n",
    "        for column_name, dtype in X.dtypes.items():\n",
    "            if dtype == \"int64\":\n",
    "                value = int(request.form[column_name])\n",
    "            elif dtype == \"float64\":\n",
    "                value = float(request.form[column_name])\n",
    "            inputs.append(value)\n",
    "            \n",
    "        with app.open_resource(\"models/hr_model.bin\", \"rb\") as f:\n",
    "            hr_model = pickle.load(f)\n",
    "        response = hr_model.predict([inputs])[0]\n",
    "        return render_template(\"index.html\", resp=response, df=X)"
   ]
  },
  {
   "cell_type": "code",
   "execution_count": null,
   "metadata": {},
   "outputs": [],
   "source": [
    "%%writefile -a garmin_flask.py\n",
    "\n",
    "if __name__ == '__main__':\n",
    "  app.run()"
   ]
  },
  {
   "cell_type": "code",
   "execution_count": null,
   "metadata": {},
   "outputs": [],
   "source": [
    "%%writefile templates/index.html\n",
    "\n",
    "<!doctype html>\n",
    "<html lang=\"en\">\n",
    "\n",
    "<head>\n",
    "  <meta charset=\"utf-8\">\n",
    "  <meta name=\"viewport\" content=\"width=device-width, initial-scale=1\">\n",
    "  <title>Bootstrap demo</title>\n",
    "  <link href=\"https://cdn.jsdelivr.net/npm/bootstrap@5.3.0/dist/css/bootstrap.min.css\" rel=\"stylesheet\"\n",
    "    integrity=\"sha384-9ndCyUaIbzAi2FUVXJi0CjmCapSmO7SnpJef0486qhLnuZ2cdeRhO02iuK6FUUVM\" crossorigin=\"anonymous\">\n",
    "</head>\n",
    "\n",
    "<body class=\"d-flex flex-column vh-100\" data-bs-theme=\"dark\">\n",
    "  <div class=\"card m-auto\">\n",
    "    <div class=\"card-body\">\n",
    "      <h5 class=\"card-title\">Previsione battiti</h5>\n",
    "      <form method=\"POST\" action=\"\">\n",
    "        {% for column in df.columns %}\n",
    "        <div class=\"mb-3\">\n",
    "          <label for=\"{{ column }}\" class=\"form-label\">{{ column }}</label>\n",
    "          <input name=\"{{ column }}\" class=\"form-control\" id=\"{{ column }}\">\n",
    "        </div>\n",
    "        {% endfor %}\n",
    "        <button type=\"submit\" class=\"btn btn-primary\">Submit</button>\n",
    "      </form>\n",
    "    </div>\n",
    "    <div class=\"card-footer\">\n",
    "      <p>Risultato: <b>{{ resp }}</b></p>\n",
    "    </div>\n",
    "  </div>\n",
    "\n",
    "</body>\n",
    "\n",
    "</html>\n"
   ]
  }
 ],
 "metadata": {
  "kernelspec": {
   "display_name": "Python 3 (ipykernel)",
   "language": "python",
   "name": "python3"
  },
  "language_info": {
   "codemirror_mode": {
    "name": "ipython",
    "version": 3
   },
   "file_extension": ".py",
   "mimetype": "text/x-python",
   "name": "python",
   "nbconvert_exporter": "python",
   "pygments_lexer": "ipython3",
   "version": "3.11.4"
  }
 },
 "nbformat": 4,
 "nbformat_minor": 2
}
