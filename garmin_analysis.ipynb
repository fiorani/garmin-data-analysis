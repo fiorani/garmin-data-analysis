{
 "cells": [
  {
   "cell_type": "code",
   "execution_count": 29,
   "metadata": {},
   "outputs": [],
   "source": [
    "import numpy as np\n",
    "import pandas as pd\n",
    "import matplotlib.pyplot as plt\n",
    "import sklearn"
   ]
  },
  {
   "cell_type": "code",
   "execution_count": 30,
   "metadata": {},
   "outputs": [],
   "source": [
    "summary = pd.read_csv(\"garmin_edge_820/summary.csv\")   \n",
    "details = pd.read_csv(\"garmin_edge_820/4557226804_ACTIVITY_data.csv\", sep=\";\")"
   ]
  },
  {
   "cell_type": "code",
   "execution_count": 31,
   "metadata": {},
   "outputs": [],
   "source": [
    "details.rename(columns=lambda x: x.replace('record.', ''), inplace=True)\n",
    "details['time'] = pd.to_datetime(details.pop('timestamp[s]'), unit='s').dt.time\n",
    "details.set_index(\"time\", inplace=True)"
   ]
  },
  {
   "cell_type": "code",
   "execution_count": 32,
   "metadata": {},
   "outputs": [],
   "source": [
    "hr_zones = [(0, 128), (129, 146), (147, 156), (157, 165), (166, 174), (175, 179), (180, float('inf'))]\n",
    "power_zones = [(0, 157), (158, 186), (187, 200), (201, 218), (219, 247), (248, 287), (288, float('inf'))]\n",
    "# funzione che calcola le zone di frequenza cardiaca dato il battito in input\n",
    "\n",
    "def get_zone(rate, zones):\n",
    "    for zone, (lower, upper) in enumerate(zones, start=1):\n",
    "        if lower <= rate <= upper:\n",
    "            return zone"
   ]
  },
  {
   "cell_type": "code",
   "execution_count": 33,
   "metadata": {},
   "outputs": [],
   "source": [
    "details['hr_zone'] = details['heart_rate[bpm]'].apply(get_zone, zones=hr_zones)\n",
    "details['pwr_zone'] = details['power[watts]'].apply(get_zone, zones=power_zones)"
   ]
  },
  {
   "cell_type": "code",
   "execution_count": 34,
   "metadata": {},
   "outputs": [],
   "source": [
    "details['time_since_start'] = 1\n",
    "details['time_since_start'] = details['time_since_start'].cumsum().sub(1)"
   ]
  },
  {
   "cell_type": "code",
   "execution_count": 35,
   "metadata": {},
   "outputs": [],
   "source": [
    "# Calcola la differenza di altitudine tra le righe adiacenti\n",
    "details['altitude_diff'] = details['altitude[m]'] - details['altitude[m]'].shift(1)\n",
    "details['distance_diff'] = details['distance[m]'] - details['distance[m]'].shift(1)\n",
    "details[['altitude_diff', 'distance_diff']] = details[['altitude_diff', 'distance_diff']].fillna(0)\n",
    "\n",
    "# Calcola la percentuale di pendenza\n",
    "details['slope_percent'] = np.where(details['distance_diff'] == 0, 0, details['altitude_diff'] / details['distance_diff'] * 100)"
   ]
  },
  {
   "cell_type": "code",
   "execution_count": 36,
   "metadata": {},
   "outputs": [
    {
     "data": {
      "text/plain": [
       "distance[m]                        float64\n",
       "accumulated_power[watts]             int64\n",
       "altitude[m]                        float64\n",
       "speed[m/s]                         float64\n",
       "power[watts]                         int64\n",
       "heart_rate[bpm]                      int64\n",
       "cadence[rpm]                         int64\n",
       "temperature[C]                       int64\n",
       "left_right_balance                   int64\n",
       "left_pco[mm]                         int64\n",
       "right_pco[mm]                        int64\n",
       "left_power_phase[degrees]           object\n",
       "left_power_phase_peak[degrees]      object\n",
       "right_power_phase[degrees]          object\n",
       "right_power_phase_peak[degrees]     object\n",
       "hr_zone                              int64\n",
       "pwr_zone                             int64\n",
       "time_since_start                     int64\n",
       "altitude_diff                      float64\n",
       "distance_diff                      float64\n",
       "slope_percent                      float64\n",
       "dtype: object"
      ]
     },
     "execution_count": 36,
     "metadata": {},
     "output_type": "execute_result"
    }
   ],
   "source": [
    "details.dtypes"
   ]
  },
  {
   "cell_type": "code",
   "execution_count": 37,
   "metadata": {
    "scrolled": true
   },
   "outputs": [
    {
     "data": {
      "text/plain": [
       "distance[m]                        0\n",
       "accumulated_power[watts]           0\n",
       "altitude[m]                        0\n",
       "speed[m/s]                         1\n",
       "power[watts]                       0\n",
       "heart_rate[bpm]                    0\n",
       "cadence[rpm]                       0\n",
       "temperature[C]                     0\n",
       "left_right_balance                 0\n",
       "left_pco[mm]                       0\n",
       "right_pco[mm]                      0\n",
       "left_power_phase[degrees]          0\n",
       "left_power_phase_peak[degrees]     0\n",
       "right_power_phase[degrees]         0\n",
       "right_power_phase_peak[degrees]    0\n",
       "hr_zone                            0\n",
       "pwr_zone                           0\n",
       "time_since_start                   0\n",
       "altitude_diff                      0\n",
       "distance_diff                      0\n",
       "slope_percent                      0\n",
       "dtype: int64"
      ]
     },
     "execution_count": 37,
     "metadata": {},
     "output_type": "execute_result"
    }
   ],
   "source": [
    "details.isna().sum()"
   ]
  },
  {
   "cell_type": "code",
   "execution_count": 38,
   "metadata": {},
   "outputs": [],
   "source": [
    "details['speed[m/s]'] = details['speed[m/s]'].fillna(details['speed[m/s]'].mean()) "
   ]
  },
  {
   "cell_type": "markdown",
   "metadata": {},
   "source": [
    "### Data Visualization"
   ]
  },
  {
   "cell_type": "code",
   "execution_count": 39,
   "metadata": {},
   "outputs": [
    {
     "data": {
      "text/plain": [
       "<Axes: xlabel='heart_rate[bpm]', ylabel='cadence[rpm]'>"
      ]
     },
     "execution_count": 39,
     "metadata": {},
     "output_type": "execute_result"
    },
    {
     "data": {
      "image/png": "[encoded data removed]",
      "text/plain": [
       "<Figure size 640x480 with 1 Axes>"
      ]
     },
     "metadata": {},
     "output_type": "display_data"
    }
   ],
   "source": [
    "details.plot.scatter(y=\"cadence[rpm]\", x=\"heart_rate[bpm]\")"
   ]
  },
  {
   "cell_type": "code",
   "execution_count": 40,
   "metadata": {},
   "outputs": [
    {
     "data": {
      "text/plain": [
       "<Axes: xlabel='time_since_start'>"
      ]
     },
     "execution_count": 40,
     "metadata": {},
     "output_type": "execute_result"
    },
    {
     "data": {
      "image/png": "[encoded data removed]",
      "text/plain": [
       "<Figure size 640x480 with 1 Axes>"
      ]
     },
     "metadata": {},
     "output_type": "display_data"
    }
   ],
   "source": [
    "details.head(100).plot.line(x='time_since_start', y='slope_percent')"
   ]
  },
  {
   "cell_type": "markdown",
   "metadata": {},
   "source": [
    "### Models"
   ]
  },
  {
   "cell_type": "code",
   "execution_count": 41,
   "metadata": {},
   "outputs": [],
   "source": [
    "X = details.drop(['left_power_phase[degrees]', \n",
    "                  'left_power_phase_peak[degrees]', \n",
    "                  'right_power_phase[degrees]', \n",
    "                  'right_power_phase_peak[degrees]', \n",
    "                  'heart_rate[bpm]'], axis=1)\n",
    "y = details['heart_rate[bpm]']\n"
   ]
  },
  {
   "cell_type": "code",
   "execution_count": 45,
   "metadata": {},
   "outputs": [],
   "source": [
    "from sklearn.metrics import mean_squared_error, r2_score\n",
    "\n",
    "# definisco l'errore relativo\n",
    "def relative_error(y_true, y_pred):\n",
    "    return np.mean(np.abs((y_true - y_pred) / y_true))\n",
    "\n",
    "def print_eval(X, y, model):\n",
    "    preds = model.predict(X)\n",
    "    mse = mean_squared_error(y, preds)\n",
    "    re = relative_error(y, preds)\n",
    "    r2 = r2_score(y, preds)\n",
    "    print(f\"   Mean squared error: {mse:.5}\")\n",
    "    print(f\"       Relative error: {re:.5%}\")\n",
    "    print(f\"R-squared coefficient: {r2:.5}\")"
   ]
  },
  {
   "cell_type": "code",
   "execution_count": 42,
   "metadata": {},
   "outputs": [],
   "source": [
    "from sklearn.model_selection import train_test_split\n",
    "X_train, X_val, y_train, y_val = train_test_split(X, y, test_size=0.2, random_state=42)"
   ]
  },
  {
   "cell_type": "code",
   "execution_count": 55,
   "metadata": {},
   "outputs": [
    {
     "name": "stdout",
     "output_type": "stream",
     "text": [
      "   Mean squared error: 183.03\n",
      "       Relative error: 11.03527%\n",
      "R-squared coefficient: 0.88208\n"
     ]
    }
   ],
   "source": [
    "from sklearn.linear_model import LinearRegression\n",
    "lrm = LinearRegression()\n",
    "lrm.fit(X_train, y_train)\n",
    "print_eval(X_val, y_val, lrm)"
   ]
  },
  {
   "cell_type": "code",
   "execution_count": 56,
   "metadata": {},
   "outputs": [
    {
     "name": "stdout",
     "output_type": "stream",
     "text": [
      "   Mean squared error: 183.98\n",
      "       Relative error: 11.06330%\n",
      "R-squared coefficient: 0.88146\n"
     ]
    },
    {
     "name": "stderr",
     "output_type": "stream",
     "text": [
      "/opt/anaconda/lib/python3.10/site-packages/sklearn/linear_model/_coordinate_descent.py:631: ConvergenceWarning: Objective did not converge. You might want to increase the number of iterations, check the scale of the features or consider increasing regularisation. Duality gap: 1.586e+06, tolerance: 2.546e+03\n",
      "  model = cd_fast.enet_coordinate_descent(\n"
     ]
    }
   ],
   "source": [
    "from sklearn.linear_model import Lasso\n",
    "lsm = Lasso(alpha=0.3)\n",
    "lsm.fit(X_train, y_train)\n",
    "print_eval(X_val, y_val, lsm)"
   ]
  },
  {
   "cell_type": "code",
   "execution_count": 57,
   "metadata": {},
   "outputs": [
    {
     "name": "stdout",
     "output_type": "stream",
     "text": [
      "   Mean squared error: 183.03\n",
      "       Relative error: 11.03530%\n",
      "R-squared coefficient: 0.88208\n"
     ]
    }
   ],
   "source": [
    "from sklearn.linear_model import Ridge\n",
    "rrm = Ridge(alpha=0.5)\n",
    "rrm.fit(X_train, y_train)\n",
    "print_eval(X_val, y_val, rrm)"
   ]
  },
  {
   "cell_type": "code",
   "execution_count": 59,
   "metadata": {},
   "outputs": [
    {
     "data": {
      "text/html": [
       "<div>\n",
       "<style scoped>\n",
       "    .dataframe tbody tr th:only-of-type {\n",
       "        vertical-align: middle;\n",
       "    }\n",
       "\n",
       "    .dataframe tbody tr th {\n",
       "        vertical-align: top;\n",
       "    }\n",
       "\n",
       "    .dataframe thead th {\n",
       "        text-align: right;\n",
       "    }\n",
       "</style>\n",
       "<table border=\"1\" class=\"dataframe\">\n",
       "  <thead>\n",
       "    <tr style=\"text-align: right;\">\n",
       "      <th></th>\n",
       "      <th>linear</th>\n",
       "      <th>ridge</th>\n",
       "      <th>lasso</th>\n",
       "    </tr>\n",
       "  </thead>\n",
       "  <tbody>\n",
       "    <tr>\n",
       "      <th>distance[m]</th>\n",
       "      <td>-0.002392</td>\n",
       "      <td>-0.002392</td>\n",
       "      <td>-0.002187</td>\n",
       "    </tr>\n",
       "    <tr>\n",
       "      <th>accumulated_power[watts]</th>\n",
       "      <td>0.000130</td>\n",
       "      <td>0.000130</td>\n",
       "      <td>0.000107</td>\n",
       "    </tr>\n",
       "    <tr>\n",
       "      <th>altitude[m]</th>\n",
       "      <td>-0.030684</td>\n",
       "      <td>-0.030684</td>\n",
       "      <td>-0.022686</td>\n",
       "    </tr>\n",
       "    <tr>\n",
       "      <th>speed[m/s]</th>\n",
       "      <td>1.364711</td>\n",
       "      <td>1.364583</td>\n",
       "      <td>1.013341</td>\n",
       "    </tr>\n",
       "    <tr>\n",
       "      <th>power[watts]</th>\n",
       "      <td>0.011910</td>\n",
       "      <td>0.011908</td>\n",
       "      <td>0.002125</td>\n",
       "    </tr>\n",
       "    <tr>\n",
       "      <th>cadence[rpm]</th>\n",
       "      <td>-0.041070</td>\n",
       "      <td>-0.041062</td>\n",
       "      <td>-0.027279</td>\n",
       "    </tr>\n",
       "    <tr>\n",
       "      <th>temperature[C]</th>\n",
       "      <td>2.419016</td>\n",
       "      <td>2.419036</td>\n",
       "      <td>2.312895</td>\n",
       "    </tr>\n",
       "    <tr>\n",
       "      <th>left_right_balance</th>\n",
       "      <td>0.008089</td>\n",
       "      <td>0.008091</td>\n",
       "      <td>0.007438</td>\n",
       "    </tr>\n",
       "    <tr>\n",
       "      <th>left_pco[mm]</th>\n",
       "      <td>0.011945</td>\n",
       "      <td>0.011956</td>\n",
       "      <td>0.001202</td>\n",
       "    </tr>\n",
       "    <tr>\n",
       "      <th>right_pco[mm]</th>\n",
       "      <td>-0.177860</td>\n",
       "      <td>-0.177864</td>\n",
       "      <td>-0.153518</td>\n",
       "    </tr>\n",
       "    <tr>\n",
       "      <th>hr_zone</th>\n",
       "      <td>16.515231</td>\n",
       "      <td>16.514743</td>\n",
       "      <td>16.137462</td>\n",
       "    </tr>\n",
       "    <tr>\n",
       "      <th>pwr_zone</th>\n",
       "      <td>-1.028166</td>\n",
       "      <td>-1.028026</td>\n",
       "      <td>-0.540462</td>\n",
       "    </tr>\n",
       "    <tr>\n",
       "      <th>time_since_start</th>\n",
       "      <td>-0.004684</td>\n",
       "      <td>-0.004685</td>\n",
       "      <td>-0.002818</td>\n",
       "    </tr>\n",
       "    <tr>\n",
       "      <th>altitude_diff</th>\n",
       "      <td>1.532187</td>\n",
       "      <td>1.529510</td>\n",
       "      <td>0.000000</td>\n",
       "    </tr>\n",
       "    <tr>\n",
       "      <th>distance_diff</th>\n",
       "      <td>-0.255807</td>\n",
       "      <td>-0.255736</td>\n",
       "      <td>0.000000</td>\n",
       "    </tr>\n",
       "    <tr>\n",
       "      <th>slope_percent</th>\n",
       "      <td>-0.229695</td>\n",
       "      <td>-0.229534</td>\n",
       "      <td>-0.128594</td>\n",
       "    </tr>\n",
       "  </tbody>\n",
       "</table>\n",
       "</div>"
      ],
      "text/plain": [
       "                             linear      ridge      lasso\n",
       "distance[m]               -0.002392  -0.002392  -0.002187\n",
       "accumulated_power[watts]   0.000130   0.000130   0.000107\n",
       "altitude[m]               -0.030684  -0.030684  -0.022686\n",
       "speed[m/s]                 1.364711   1.364583   1.013341\n",
       "power[watts]               0.011910   0.011908   0.002125\n",
       "cadence[rpm]              -0.041070  -0.041062  -0.027279\n",
       "temperature[C]             2.419016   2.419036   2.312895\n",
       "left_right_balance         0.008089   0.008091   0.007438\n",
       "left_pco[mm]               0.011945   0.011956   0.001202\n",
       "right_pco[mm]             -0.177860  -0.177864  -0.153518\n",
       "hr_zone                   16.515231  16.514743  16.137462\n",
       "pwr_zone                  -1.028166  -1.028026  -0.540462\n",
       "time_since_start          -0.004684  -0.004685  -0.002818\n",
       "altitude_diff              1.532187   1.529510   0.000000\n",
       "distance_diff             -0.255807  -0.255736   0.000000\n",
       "slope_percent             -0.229695  -0.229534  -0.128594"
      ]
     },
     "execution_count": 59,
     "metadata": {},
     "output_type": "execute_result"
    }
   ],
   "source": [
    "pd.DataFrame({\n",
    "    \"linear\": lrm.coef_,\n",
    "    \"ridge\": rrm.coef_,\n",
    "    \"lasso\": lsm.coef_\n",
    "}, index=X_train.columns)"
   ]
  },
  {
   "cell_type": "code",
   "execution_count": null,
   "metadata": {},
   "outputs": [],
   "source": []
  }
 ],
 "metadata": {
  "kernelspec": {
   "display_name": "Python 3 (ipykernel)",
   "language": "python",
   "name": "python3"
  },
  "language_info": {
   "codemirror_mode": {
    "name": "ipython",
    "version": 3
   },
   "file_extension": ".py",
   "mimetype": "text/x-python",
   "name": "python",
   "nbconvert_exporter": "python",
   "pygments_lexer": "ipython3",
   "version": "3.10.9"
  }
 },
 "nbformat": 4,
 "nbformat_minor": 2
}
