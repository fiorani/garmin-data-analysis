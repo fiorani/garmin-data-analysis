{
 "cells": [
  {
   "attachments": {},
   "cell_type": "markdown",
   "metadata": {},
   "source": [
    "# Inizializzazione"
   ]
  },
  {
   "cell_type": "code",
   "execution_count": null,
   "metadata": {},
   "outputs": [],
   "source": [
    "# %pip install numpy\n",
    "# %pip install pandas\n",
    "# %pip install matplotlib\n",
    "# %pip install scikit-learn\n",
    "# %pip install lightgbm\n",
    "# %pip install xgboost\n",
    "# %pip install flask\n",
    "import numpy as np\n",
    "import pandas as pd\n",
    "import matplotlib.pyplot as plt\n",
    "import sklearn as sk\n",
    "import os\n",
    "import pickle\n",
    "import flask\n",
    "from sklearn.model_selection import train_test_split, KFold, cross_validate, GridSearchCV, RandomizedSearchCV\n",
    "from sklearn.linear_model import LinearRegression, Lasso, Ridge, ElasticNet\n",
    "from sklearn.preprocessing import PolynomialFeatures, StandardScaler\n",
    "from sklearn.pipeline import Pipeline\n",
    "from sklearn.kernel_ridge import KernelRidge\n",
    "from sklearn.metrics import mean_squared_error, r2_score\n",
    "from sklearn.tree import DecisionTreeRegressor, plot_tree, export_text,DecisionTreeClassifier\n",
    "from sklearn.ensemble import RandomForestRegressor\n",
    "from lightgbm import LGBMRegressor\n",
    "from xgboost import XGBRegressor\n",
    "from utilities import print_eval\n"
   ]
  },
  {
   "cell_type": "code",
   "execution_count": null,
   "metadata": {},
   "outputs": [],
   "source": [
    "def convert_brackets(string):\n",
    "    return string.replace('[', '(').replace(']', ')')\n",
    "\n",
    "summary = pd.read_csv(\"garmin_edge_820/summary.csv\", sep=\";\")\n",
    "\n",
    "file_list = [\"garmin_edge_820/4557226804_ACTIVITY_data.csv\",\n",
    "             \"garmin_edge_820/4593452980_ACTIVITY_data.csv\",\n",
    "             \"garmin_edge_820/5191513011_ACTIVITY_data.csv\",\n",
    "             \"garmin_edge_820/3993730634_ACTIVITY_data.csv\",\n",
    "             \"garmin_edge_820/5191513011_ACTIVITY_data.csv\"]\n",
    "\n",
    "dataframes = []\n",
    "\n",
    "hr_zones = [(0, 128), (129, 146), (147, 156), (157, 165),(166, 174), (175, 179), (180, float('inf'))]\n",
    "power_zones = [(0, 157), (158, 186), (187, 200), (201, 218),(219, 247), (248, 287), (288, float('inf'))]\n",
    "\n",
    "def get_zone(rate, zones):\n",
    "    for zone, (lower, upper) in enumerate(zones, start=1):\n",
    "        if lower <= rate <= upper:\n",
    "            return zone\n",
    "\n",
    "for file in file_list:\n",
    "    details = pd.read_csv(file, sep=\";\")\n",
    "    \n",
    "    details.columns = [convert_brackets(col) for col in details.columns]\n",
    "    details = details[details['speed(m/s)'] != 0]\n",
    "    details = details.dropna(subset=['speed(m/s)'])\n",
    "\n",
    "    details['time'] = pd.to_datetime(details.pop('timestamp(s)'), unit='s')\n",
    "    details.set_index(\"time\", inplace=True)\n",
    "    \n",
    "    details['time_since_start'] = 1\n",
    "    details['time_since_start'] = details['time_since_start'].cumsum().sub(1)\n",
    "    \n",
    "    details['hr_zone'] = details['heart_rate(bpm)'].apply(get_zone, zones=hr_zones)\n",
    "    details['pwr_zone'] = details['power(watts)'].apply(get_zone, zones=power_zones)\n",
    "    \n",
    "    details['altitude_diff'] = details['altitude(m)'] - details['altitude(m)'].shift(1)\n",
    "    details['distance_diff'] = details['distance(m)'] - details['distance(m)'].shift(1)\n",
    "    details[['altitude_diff', 'distance_diff']] = details[['altitude_diff', 'distance_diff']].fillna(0)\n",
    "    \n",
    "    details.drop(details[details['heart_rate(bpm)'] < 110].index, inplace=True)\n",
    "\n",
    "    details['slope_percent'] = np.where(details['distance_diff'] == 0, 0, details['altitude_diff'] / details['distance_diff'] * 100)\n",
    "    \n",
    "    details['power_left'] = details['left_right_balance'] - 128\n",
    "    details['power_right'] = 100 - details['power_left']\n",
    "    \n",
    "    window_size = 3 \n",
    "    details['potenza_media'] = details['power(watts)'].rolling(window=int(window_size), center=True).mean()\n",
    "    \n",
    "    details = details.drop(['left_power_phase(degrees)',\n",
    "                            'left_power_phase_peak(degrees)',\n",
    "                            'right_power_phase(degrees)',\n",
    "                            'right_power_phase_peak(degrees)',\n",
    "                            'left_right_balance'], axis=1)\n",
    "    dataframes.append(details)\n",
    "details = pd.concat(dataframes, ignore_index=False)"
   ]
  },
  {
   "cell_type": "code",
   "execution_count": null,
   "metadata": {},
   "outputs": [],
   "source": [
    "details.describe()"
   ]
  },
  {
   "cell_type": "code",
   "execution_count": null,
   "metadata": {},
   "outputs": [],
   "source": [
    "details.info()"
   ]
  },
  {
   "cell_type": "code",
   "execution_count": null,
   "metadata": {},
   "outputs": [],
   "source": [
    "details['potenza_media'] = details['potenza_media'].fillna(details['potenza_media'].mean())"
   ]
  },
  {
   "attachments": {},
   "cell_type": "markdown",
   "metadata": {},
   "source": [
    "# Data Visualization"
   ]
  },
  {
   "cell_type": "code",
   "execution_count": null,
   "metadata": {},
   "outputs": [],
   "source": [
    "plt.figure(figsize=(24, 6))\n",
    "plt.plot(details['time_since_start'], details['power(watts)'], label=\"power\")\n",
    "plt.plot(details['time_since_start'], details['cadence(rpm)'], label=\"cadence\")\n",
    "plt.plot(details['time_since_start'], details['speed(m/s)'], label=\"speed\")\n",
    "plt.plot(details['time_since_start'], details['heart_rate(bpm)'], label=\"bpm\")\n",
    "plt.plot(details['time_since_start'], details['altitude(m)'], label=\"altitude\")\n",
    "plt.xlabel(\"tempo\")\n",
    "plt.legend()\n",
    "plt.grid(True)\n",
    "plt.show()"
   ]
  },
  {
   "attachments": {},
   "cell_type": "markdown",
   "metadata": {},
   "source": [
    "# Previsioni"
   ]
  },
  {
   "cell_type": "code",
   "execution_count": null,
   "metadata": {},
   "outputs": [],
   "source": [
    "kf = KFold(n_splits=5, shuffle=True, random_state=42)"
   ]
  },
  {
   "attachments": {},
   "cell_type": "markdown",
   "metadata": {},
   "source": [
    "### Definizione dei modelli"
   ]
  },
  {
   "cell_type": "code",
   "execution_count": null,
   "metadata": {},
   "outputs": [],
   "source": [
    "def get_pipe_grid(type):\n",
    "    pipelines = {\n",
    "        \"linear\": {\n",
    "            \"pipe\": Pipeline([\n",
    "                (\"poly\", PolynomialFeatures(include_bias=False)),\n",
    "                (\"std\", None),\n",
    "                (\"regressor\", None)\n",
    "            ]),\n",
    "            \"grid_common\": {\n",
    "                \"poly__degree\": [3,4],\n",
    "                \"std\": [StandardScaler()],\n",
    "            },\n",
    "            \"grid_regressors\": [\n",
    "                {\n",
    "                    \"regressor\": [LinearRegression()],\n",
    "                },\n",
    "                {\n",
    "                    \"regressor\": [Lasso()],\n",
    "                    \"regressor__alpha\": [0.01,0.1],\n",
    "                },\n",
    "                {\n",
    "                    \"regressor\": [Ridge()],\n",
    "                    \"regressor__alpha\": [0.01,0.1],\n",
    "                },\n",
    "                {\n",
    "                    \"regressor\": [ElasticNet()],\n",
    "                    \"regressor__alpha\": [0.01,0.1],\n",
    "                    \"regressor__l1_ratio\": [0.1],\n",
    "                },\n",
    "            ]\n",
    "        },\n",
    "        \"kernel\": {\n",
    "            \"pipe\": Pipeline([\n",
    "                (\"std\", None),\n",
    "                (\"regressor\", None)\n",
    "            ]),\n",
    "            \"grid_common\": {\n",
    "                \"std\": [StandardScaler()],\n",
    "                \"regressor\": [KernelRidge()],\n",
    "                'regressor__alpha': [0.01,0.1],\n",
    "            },\n",
    "            \"grid_regressors\": [\n",
    "                {\n",
    "                    \"regressor__kernel\": [\"poly\"],\n",
    "                    'regressor__degree': [4,5],\n",
    "                },\n",
    "                {\n",
    "                    \"regressor__kernel\": [\"rbf\"],\n",
    "                    \"regressor__gamma\": [0.01,0.1],\n",
    "                }\n",
    "            ]\n",
    "        },\n",
    "        \"tree\": {\n",
    "            \"pipe\": Pipeline([\n",
    "                (\"std\", None),\n",
    "                (\"regressor\", None)\n",
    "            ]),\n",
    "            \"grid_common\": {\n",
    "                \"std\": [StandardScaler()],\n",
    "                \"regressor__max_depth\": [5,10],\n",
    "            },\n",
    "            \"grid_regressors\": [\n",
    "                {\n",
    "                    \"regressor\": [DecisionTreeRegressor()],\n",
    "                },\n",
    "                {\n",
    "                    \"regressor\": [RandomForestRegressor()],\n",
    "                    \"regressor__n_estimators\": [100,1000],\n",
    "                },\n",
    "                {\n",
    "                    \"regressor\": [LGBMRegressor()],\n",
    "                    \"regressor__n_estimators\": [100,1000],\n",
    "                    \"regressor__learning_rate\": [0.01,0.1],\n",
    "                },\n",
    "                {\n",
    "                    \"regressor\": [XGBRegressor()],\n",
    "                    \"regressor__n_estimators\": [100,1000],\n",
    "                    \"regressor__learning_rate\": [0.01,0.1],\n",
    "                }\n",
    "            ]\n",
    "        }\n",
    "    }\n",
    "    return pipelines[type][\"pipe\"], [dict(pipelines[type][\"grid_common\"], **params) for params in pipelines[type][\"grid_regressors\"]]"
   ]
  },
  {
   "cell_type": "code",
   "execution_count": null,
   "metadata": {},
   "outputs": [],
   "source": [
    "def get_trained_model(type, X_train, y_train, randomized=False):\n",
    "    pipe, grid = get_pipe_grid(type)\n",
    "    model = GridSearchCV(pipe, grid, cv=kf, scoring=\"r2\", n_jobs=-1) if not randomized else RandomizedSearchCV(pipe, grid, cv=kf, scoring=\"r2\", n_jobs=-1)\n",
    "    model.fit(X_train, y_train)\n",
    "    return model"
   ]
  },
  {
   "attachments": {},
   "cell_type": "markdown",
   "metadata": {},
   "source": [
    "## Previsione battito"
   ]
  },
  {
   "cell_type": "code",
   "execution_count": null,
   "metadata": {},
   "outputs": [],
   "source": [
    "X_hr = details.drop(['heart_rate(bpm)','potenza_media','temperature(C)','hr_zone','pwr_zone','altitude_diff','distance_diff','left_pco(mm)','right_pco(mm)','power_left','power_right','accumulated_power(watts)'], axis=1)\n",
    "y_hr = details['heart_rate(bpm)']\n",
    "X_train, X_val, y_train, y_val = train_test_split(X_hr, y_hr, test_size=1/3, random_state=42)"
   ]
  },
  {
   "attachments": {},
   "cell_type": "markdown",
   "metadata": {},
   "source": [
    "### Regressione lineare"
   ]
  },
  {
   "cell_type": "code",
   "execution_count": null,
   "metadata": {},
   "outputs": [],
   "source": [
    "liner_models_gs = get_trained_model('linear', X_train, y_train)\n",
    "linear_models_gs_res = pd.DataFrame(liner_models_gs.cv_results_).sort_values(\"mean_test_score\", ascending=False)\n",
    "print_eval(X_val, y_val, liner_models_gs)\n",
    "linear_models_gs_res"
   ]
  },
  {
   "cell_type": "code",
   "execution_count": null,
   "metadata": {},
   "outputs": [],
   "source": [
    "\"\"\"\n",
    "linear_models_rs = get_trained_model('linear', X_train, y_train, randomized=True)\n",
    "linear_models_rs_res = pd.DataFrame(linear_models_rs.cv_results_).sort_values(\"mean_test_score\", ascending=False)\n",
    "print_eval(X_val, y_val, linear_models_rs)\n",
    "linear_models_rs_res\n",
    "\"\"\""
   ]
  },
  {
   "attachments": {},
   "cell_type": "markdown",
   "metadata": {},
   "source": [
    "### Regressione con funzioni kernel"
   ]
  },
  {
   "cell_type": "code",
   "execution_count": null,
   "metadata": {},
   "outputs": [],
   "source": [
    "krm_gs = get_trained_model('kernel', X_train, y_train)\n",
    "krm_gs_res = pd.DataFrame(krm_gs.cv_results_).sort_values(\"mean_test_score\", ascending=False)\n",
    "print_eval(X_val, y_val, krm_gs)\n",
    "krm_gs_res"
   ]
  },
  {
   "cell_type": "code",
   "execution_count": null,
   "metadata": {},
   "outputs": [],
   "source": [
    "\"\"\"\n",
    "krm_rs = get_trained_model('kernel', X_train, y_train, randomized=True)\n",
    "krm_rs_res = pd.DataFrame(krm_rs.cv_results_).sort_values(\"mean_test_score\", ascending=False)\n",
    "print_eval(X_val, y_val, krm_rs)\n",
    "krm_rs_res\n",
    "\"\"\""
   ]
  },
  {
   "attachments": {},
   "cell_type": "markdown",
   "metadata": {},
   "source": [
    "### Alberi di regressione"
   ]
  },
  {
   "cell_type": "code",
   "execution_count": null,
   "metadata": {},
   "outputs": [],
   "source": [
    "tree_gs = get_trained_model('tree', X_train, y_train)\n",
    "tree_gs_res = pd.DataFrame(tree_gs.cv_results_).sort_values(\"mean_test_score\", ascending=False)\n",
    "print_eval(X_val, y_val, tree_gs, tree=True)\n",
    "tree_gs_res"
   ]
  },
  {
   "cell_type": "code",
   "execution_count": null,
   "metadata": {},
   "outputs": [],
   "source": [
    "\"\"\"\n",
    "tree_rs = get_trained_model('tree', X_train, y_train, randomized=True)\n",
    "tree_rs_res = pd.DataFrame(tree_rs.cv_results_).sort_values(\"mean_test_score\", ascending=False)\n",
    "print_eval(X_val, y_val, tree_rs, tree=True)\n",
    "tree_rs_res\n",
    "\"\"\""
   ]
  },
  {
   "attachments": {},
   "cell_type": "markdown",
   "metadata": {},
   "source": [
    "### Confronto fra modelli"
   ]
  },
  {
   "cell_type": "code",
   "execution_count": null,
   "metadata": {},
   "outputs": [],
   "source": [
    "# Creazione del plot scatter\n",
    "fig, ax = plt.subplots(figsize=(24, 9))\n",
    "\n",
    "linear_models = pd.concat([linear_models_gs_res, linear_models_gs_res], axis=0)\n",
    "scatter_linear = ax.scatter(linear_models['mean_fit_time'], linear_models['mean_test_score'], color='blue', label='Modelli lineari e polinomiali')\n",
    "\n",
    "krm_models = pd.concat([krm_gs_res, krm_gs_res], axis=0)\n",
    "scatter_kernel = ax.scatter(krm_models['mean_fit_time'], krm_models['mean_test_score'], color='red', label='Modelli Kernel')\n",
    "\n",
    "tree_models = pd.concat([tree_gs_res, tree_gs_res], axis=0)\n",
    "scatter_tree = ax.scatter(tree_models['mean_fit_time'], tree_models['mean_test_score'], color='green', label='Modelli Albero')\n",
    "\n",
    "ax.set_xlabel('Tempo di addestramento (s)')\n",
    "ax.set_ylabel('Coefficiente R2')\n",
    "ax.set_title('Confronto tra i modelli')\n",
    "ax.legend()\n",
    "plt.ylim(0, 1.1)\n",
    "plt.show()\n"
   ]
  },
  {
   "attachments": {},
   "cell_type": "markdown",
   "metadata": {},
   "source": [
    "### test predizione"
   ]
  },
  {
   "cell_type": "code",
   "execution_count": null,
   "metadata": {},
   "outputs": [],
   "source": [
    "X_hr.info()"
   ]
  },
  {
   "cell_type": "code",
   "execution_count": null,
   "metadata": {},
   "outputs": [],
   "source": [
    "tree_gs.predict(np.array([90, 100]).reshape(1, -1))"
   ]
  },
  {
   "cell_type": "code",
   "execution_count": null,
   "metadata": {},
   "outputs": [],
   "source": [
    "pd.DataFrame({'Feature': X_hr.columns, 'Weight': tree_gs.best_estimator_.named_steps['regressor'].feature_importances_})"
   ]
  },
  {
   "attachments": {},
   "cell_type": "markdown",
   "metadata": {},
   "source": [
    "### Reti neurali"
   ]
  },
  {
   "cell_type": "code",
   "execution_count": null,
   "metadata": {},
   "outputs": [],
   "source": [
    "from sklearn.neural_network import MLPRegressor\n",
    "\n",
    "pipe = Pipeline([\n",
    "    (\"std\", StandardScaler()),\n",
    "    (\"regressor\", MLPRegressor())\n",
    "])\n",
    "\n",
    "grid = {\n",
    "    \"regressor__hidden_layer_sizes\": [4,5,10],\n",
    "    \"regressor__activation\": [\"identity\", \"logistic\", \"tanh\", \"relu\"],\n",
    "    \"regressor__max_iter\": [1000, 2000],\n",
    "    \"regressor__batch_size\": [20, 200],\n",
    "\n",
    "}\n",
    "\n",
    "model = GridSearchCV(pipe, grid, cv=kf, scoring=\"r2\", n_jobs=-1)\n",
    "model.fit(X_train, y_train)\n",
    "print_eval(X_val, y_val, model)"
   ]
  },
  {
   "attachments": {},
   "cell_type": "markdown",
   "metadata": {},
   "source": [
    "## Previsione Potenza"
   ]
  },
  {
   "cell_type": "code",
   "execution_count": null,
   "metadata": {},
   "outputs": [],
   "source": [
    "def get_pipe_grid(type):\n",
    "    pipelines = {\n",
    "        \"linear\": {\n",
    "            \"pipe\": Pipeline([\n",
    "                (\"poly\", PolynomialFeatures(include_bias=False)),\n",
    "                (\"std\", None),\n",
    "                (\"regressor\", None)\n",
    "            ]),\n",
    "            \"grid_common\": {\n",
    "                \"poly__degree\": [4,5],\n",
    "                \"std\": [StandardScaler()],\n",
    "            },\n",
    "            \"grid_regressors\": [\n",
    "                {\n",
    "                    \"regressor\": [LinearRegression()],\n",
    "                },\n",
    "                {\n",
    "                    \"regressor\": [Lasso()],\n",
    "                    \"regressor__alpha\": [0.01,0.1],\n",
    "                },\n",
    "                {\n",
    "                    \"regressor\": [Ridge()],\n",
    "                    \"regressor__alpha\": [0.01,0.1],\n",
    "                },\n",
    "                {\n",
    "                    \"regressor\": [ElasticNet()],\n",
    "                    \"regressor__alpha\": [0.01,0.1],\n",
    "                    \"regressor__l1_ratio\": [0.1],\n",
    "                },\n",
    "            ]\n",
    "        },\n",
    "        \"kernel\": {\n",
    "            \"pipe\": Pipeline([\n",
    "                (\"std\", None),\n",
    "                (\"regressor\", None)\n",
    "            ]),\n",
    "            \"grid_common\": {\n",
    "                \"std\": [StandardScaler()],\n",
    "                \"regressor\": [KernelRidge()],\n",
    "                'regressor__alpha': [0.01,0.1],\n",
    "            },\n",
    "            \"grid_regressors\": [\n",
    "                {\n",
    "                    \"regressor__kernel\": [\"poly\"],\n",
    "                    'regressor__degree': [4,5],\n",
    "                },\n",
    "                {\n",
    "                    \"regressor__kernel\": [\"rbf\"],\n",
    "                    \"regressor__gamma\": [0.01,0.1],\n",
    "                }\n",
    "            ]\n",
    "        },\n",
    "        \"tree\": {\n",
    "            \"pipe\": Pipeline([\n",
    "                (\"std\", None),\n",
    "                (\"regressor\", None)\n",
    "            ]),\n",
    "            \"grid_common\": {\n",
    "                \"std\": [StandardScaler()],\n",
    "                \"regressor__max_depth\": [5,10],\n",
    "            },\n",
    "            \"grid_regressors\": [\n",
    "                {\n",
    "                    \"regressor\": [DecisionTreeRegressor()],\n",
    "                },\n",
    "                {\n",
    "                    \"regressor\": [RandomForestRegressor()],\n",
    "                    \"regressor__n_estimators\": [100,1000],\n",
    "                },\n",
    "                {\n",
    "                    \"regressor\": [LGBMRegressor()],\n",
    "                    \"regressor__n_estimators\": [100,1000],\n",
    "                    \"regressor__learning_rate\": [0.01,0.1],\n",
    "                },\n",
    "                {\n",
    "                    \"regressor\": [XGBRegressor()],\n",
    "                    \"regressor__n_estimators\": [100,1000],\n",
    "                    \"regressor__learning_rate\": [0.01,0.1],\n",
    "                }\n",
    "            ]\n",
    "        }\n",
    "    }\n",
    "    return pipelines[type][\"pipe\"], [dict(pipelines[type][\"grid_common\"], **params) for params in pipelines[type][\"grid_regressors\"]]"
   ]
  },
  {
   "cell_type": "code",
   "execution_count": null,
   "metadata": {},
   "outputs": [],
   "source": [
    "def get_trained_model(type, X_train, y_train, randomized=False):\n",
    "    pipe, grid = get_pipe_grid(type)\n",
    "    model = GridSearchCV(pipe, grid, cv=kf, scoring=\"r2\", n_jobs=-1) if not randomized else RandomizedSearchCV(pipe, grid, cv=kf, scoring=\"r2\", n_jobs=-1)\n",
    "    model.fit(X_train, y_train)\n",
    "    return model"
   ]
  },
  {
   "cell_type": "code",
   "execution_count": null,
   "metadata": {},
   "outputs": [],
   "source": [
    "X_watt = details.drop(['power(watts)','potenza_media','temperature(C)','hr_zone','pwr_zone','altitude_diff','distance_diff','left_pco(mm)','right_pco(mm)','power_left','power_right','accumulated_power(watts)'], axis=1)\n",
    "y_watt = details['power(watts)']\n",
    "X_train, X_val, y_train, y_val = train_test_split(X_watt, y_watt, test_size=1/3, random_state=42)"
   ]
  },
  {
   "attachments": {},
   "cell_type": "markdown",
   "metadata": {},
   "source": [
    "### Regressione con modelli lineari e polinomiali"
   ]
  },
  {
   "cell_type": "code",
   "execution_count": null,
   "metadata": {},
   "outputs": [],
   "source": [
    "linear_gs = get_trained_model('linear', X_train, y_train)\n",
    "print_eval(X_val, y_val, linear_gs)\n",
    "linear_gs_res=pd.DataFrame(linear_gs.cv_results_).sort_values(\"mean_test_score\", ascending=False)\n",
    "linear_gs_res"
   ]
  },
  {
   "attachments": {},
   "cell_type": "markdown",
   "metadata": {},
   "source": [
    "### Regressione con funzioni kernel"
   ]
  },
  {
   "cell_type": "code",
   "execution_count": null,
   "metadata": {},
   "outputs": [],
   "source": [
    "kernel_gs = get_trained_model('kernel', X_train, y_train)\n",
    "print_eval(X_val, y_val, kernel_gs)\n",
    "kernel_gs_res=pd.DataFrame(kernel_gs.cv_results_).sort_values(\"mean_test_score\", ascending=False)\n",
    "kernel_gs_res"
   ]
  },
  {
   "attachments": {},
   "cell_type": "markdown",
   "metadata": {},
   "source": [
    "### Regressione con alberi"
   ]
  },
  {
   "cell_type": "code",
   "execution_count": null,
   "metadata": {},
   "outputs": [],
   "source": [
    "watt_tree_gs = get_trained_model('tree', X_train, y_train)\n",
    "print_eval(X_val, y_val, watt_tree_gs, tree=True)\n",
    "watt_tree_gs_res=pd.DataFrame(watt_tree_gs.cv_results_).sort_values(\"mean_test_score\", ascending=False)\n",
    "watt_tree_gs_res"
   ]
  },
  {
   "attachments": {},
   "cell_type": "markdown",
   "metadata": {},
   "source": [
    "### Confronto fra modelli"
   ]
  },
  {
   "cell_type": "code",
   "execution_count": null,
   "metadata": {},
   "outputs": [],
   "source": [
    "# Creazione del plot scatter\n",
    "fig, ax = plt.subplots(figsize=(24, 9))\n",
    "\n",
    "linear_models = pd.concat([linear_gs_res, linear_gs_res], axis=0)\n",
    "scatter_linear = ax.scatter(linear_models['mean_fit_time'], linear_models['mean_test_score'], color='blue', label='Modelli lineari e polinomiali')\n",
    "\n",
    "krm_models = pd.concat([kernel_gs_res, kernel_gs_res], axis=0)\n",
    "scatter_kernel = ax.scatter(krm_models['mean_fit_time'], krm_models['mean_test_score'], color='red', label='Modelli Kernel')\n",
    "\n",
    "tree_models = pd.concat([watt_tree_gs_res, watt_tree_gs_res], axis=0)\n",
    "scatter_tree = ax.scatter(tree_models['mean_fit_time'], tree_models['mean_test_score'], color='green', label='Modelli Albero')\n",
    "\n",
    "ax.set_xlabel('Tempo di addestramento (s)')\n",
    "ax.set_ylabel('Coefficiente R2')\n",
    "ax.set_title('Confronto tra i modelli')\n",
    "ax.legend()\n",
    "plt.ylim(0, 1.1)\n",
    "plt.show()\n"
   ]
  },
  {
   "attachments": {},
   "cell_type": "markdown",
   "metadata": {},
   "source": [
    "### test predizione"
   ]
  },
  {
   "cell_type": "code",
   "execution_count": null,
   "metadata": {},
   "outputs": [],
   "source": [
    "X_watt.info()"
   ]
  },
  {
   "cell_type": "code",
   "execution_count": null,
   "metadata": {},
   "outputs": [],
   "source": [
    "watt_tree_gs.predict(np.array([43000,6,150,90,7200,0]).reshape(1, -1))"
   ]
  },
  {
   "attachments": {},
   "cell_type": "markdown",
   "metadata": {},
   "source": [
    "# Classificazione"
   ]
  },
  {
   "attachments": {},
   "cell_type": "markdown",
   "metadata": {},
   "source": [
    "## Classificazione della potenza"
   ]
  },
  {
   "cell_type": "code",
   "execution_count": null,
   "metadata": {},
   "outputs": [],
   "source": [
    "X = details[[\"time_since_start\", \"power(watts)\"]]\n",
    "y = details['pwr_zone']\n",
    "\n",
    "X_train, X_test, y_train, y_test = train_test_split(X, y, test_size=1/3, random_state=42)\n",
    "\n",
    "diagnosis_color_map = {1: \"yellow\", 2: \"orange\", 3: \"red\", 4: \"purple\", 5: \"blue\", 6: \"green\", 7: \"black\"}\n",
    "X_train.plot.scatter(\"time_since_start\", \"power(watts)\",c=y_train.map(diagnosis_color_map),figsize=(24, 6))"
   ]
  },
  {
   "cell_type": "code",
   "execution_count": null,
   "metadata": {},
   "outputs": [],
   "source": [
    "zone_counts = details['pwr_zone'].value_counts()\n",
    "\n",
    "zone_counts.plot.barh(figsize=(24, 6), legend=None)\n",
    "\n",
    "plt.xlabel('tempo')\n",
    "plt.ylabel('Zona')\n",
    "plt.title('Conteggio del tempo a seconda delle zone')\n",
    "plt.show()"
   ]
  },
  {
   "cell_type": "code",
   "execution_count": null,
   "metadata": {},
   "outputs": [],
   "source": [
    "X = details[['heart_rate(bpm)', 'cadence(rpm)']]\n",
    "y = details['pwr_zone']\n",
    "\n",
    "X_train, X_val, y_train, y_val = train_test_split(X, y, test_size=1/3, random_state=42)\n",
    "\n",
    "model = DecisionTreeClassifier(max_depth=3)\n",
    "model.fit(X_train, y_train)\n",
    "\n",
    "plt.figure(figsize=(24, 9))\n",
    "plot_tree(model, feature_names=X_train.columns.to_list())\n",
    "print(export_text(model, feature_names=X_train.columns.to_list()))"
   ]
  },
  {
   "attachments": {},
   "cell_type": "markdown",
   "metadata": {},
   "source": [
    "## Classificazione dei battiti"
   ]
  },
  {
   "cell_type": "code",
   "execution_count": null,
   "metadata": {},
   "outputs": [],
   "source": [
    "X = details[[\"time_since_start\", \"heart_rate(bpm)\"]]\n",
    "y = details['hr_zone']\n",
    "\n",
    "X_train, X_test, y_train, y_test = train_test_split(X, y, test_size=1/3, random_state=42)\n",
    "\n",
    "diagnosis_color_map = {1: \"yellow\", 2: \"orange\", 3: \"red\", 4: \"purple\", 5: \"blue\", 6: \"green\", 7: \"black\"}\n",
    "X_train.plot.scatter(\"time_since_start\", \"heart_rate(bpm)\",c=y_train.map(diagnosis_color_map),figsize=(24, 6))"
   ]
  },
  {
   "cell_type": "code",
   "execution_count": null,
   "metadata": {},
   "outputs": [],
   "source": [
    "zone_counts = details['hr_zone'].value_counts()\n",
    "\n",
    "zone_counts.plot.barh(figsize=(24, 6), legend=None)\n",
    "\n",
    "plt.xlabel('tempo')\n",
    "plt.ylabel('Zona')\n",
    "plt.title('Conteggio del tempo a seconda delle zone')\n",
    "plt.show()"
   ]
  },
  {
   "cell_type": "code",
   "execution_count": null,
   "metadata": {},
   "outputs": [],
   "source": [
    "X = details[['power(watts)', 'cadence(rpm)']]\n",
    "y = details['hr_zone']\n",
    "\n",
    "X_train, X_val, y_train, y_val = train_test_split(X, y, test_size=1/3, random_state=42)\n",
    "\n",
    "model = DecisionTreeClassifier(max_depth=3)\n",
    "model.fit(X_train, y_train)\n",
    "\n",
    "plt.figure(figsize=(24, 9))\n",
    "plot_tree(model, feature_names=X_train.columns.to_list())\n",
    "print(export_text(model, feature_names=X_train.columns.to_list()))"
   ]
  },
  {
   "attachments": {},
   "cell_type": "markdown",
   "metadata": {},
   "source": [
    "# Flask"
   ]
  },
  {
   "cell_type": "code",
   "execution_count": null,
   "metadata": {},
   "outputs": [],
   "source": [
    "if not os.path.isdir(\"templates\"):\n",
    "  os.mkdir(\"templates\")\n",
    "\n",
    "if not os.path.isdir(\"models\"):\n",
    "  os.mkdir(\"models\")\n",
    "\n",
    "if not os.path.isdir(\"datasets\"):\n",
    "  os.mkdir(\"datasets\")"
   ]
  },
  {
   "cell_type": "code",
   "execution_count": null,
   "metadata": {},
   "outputs": [],
   "source": [
    "with open(\"models/hr_model.bin\", \"wb\") as f:\n",
    "    pickle.dump(tree_gs.best_estimator_, f)\n",
    "\n",
    "with open(\"models/watt_model.bin\", \"wb\") as f:\n",
    "    pickle.dump(watt_tree_gs.best_estimator_, f)\n",
    "\n",
    "with open(\"datasets/hr_dataset.pkl\", \"wb\") as f:\n",
    "    pickle.dump(X_hr, f)\n",
    "\n",
    "with open(\"datasets/watt_dataset.pkl\", \"wb\") as f:\n",
    "    pickle.dump(X_watt, f)"
   ]
  },
  {
   "cell_type": "code",
   "execution_count": null,
   "metadata": {},
   "outputs": [],
   "source": [
    "%%writefile garmin_flask.py\n",
    "import os.path\n",
    "import pickle\n",
    "from flask import Flask, request, render_template\n",
    "import numpy as np"
   ]
  },
  {
   "cell_type": "code",
   "execution_count": null,
   "metadata": {},
   "outputs": [],
   "source": [
    "%%writefile -a garmin_flask.py\n",
    "\n",
    "app = Flask(__name__)\n",
    "app.debug = True"
   ]
  },
  {
   "cell_type": "code",
   "execution_count": null,
   "metadata": {},
   "outputs": [],
   "source": [
    "%%writefile -a garmin_flask.py\n",
    "\n",
    "@app.route(\"/\", methods=[\"GET\", \"POST\"])\n",
    "def index():\n",
    "    \n",
    "    with open('datasets/hr_dataset.pkl', 'rb') as f:\n",
    "        X_hr = pickle.load(f)\n",
    "    with open('datasets/watt_dataset.pkl', 'rb') as f:\n",
    "        X_watt = pickle.load(f)\n",
    "\n",
    "    if request.method == \"POST\":\n",
    "        card = request.form.get(\"card\")\n",
    "\n",
    "        if card == \"hr\":\n",
    "            inputs = []\n",
    "            for column_name, dtype in X_hr.dtypes.items():\n",
    "                if dtype == \"int64\":\n",
    "                    value = int(request.form[column_name])\n",
    "                elif dtype == \"float64\":\n",
    "                    value = float(request.form[column_name])\n",
    "                inputs.append(value)\n",
    "            with app.open_resource(\"models/hr_model.bin\", \"rb\") as f:\n",
    "                hr_model = pickle.load(f)\n",
    "            response = hr_model.predict(np.array(inputs).reshape(1, -1))[0]\n",
    "            return render_template(\"index.html\", hr_pred=response, X_hr=X_hr, X_watt=X_watt)\n",
    "\n",
    "        elif card == \"watt\":\n",
    "            inputs = []\n",
    "            for column_name, dtype in X_watt.dtypes.items():\n",
    "                if dtype == \"int64\":\n",
    "                    value = int(request.form[column_name])\n",
    "                elif dtype == \"float64\":\n",
    "                    value = float(request.form[column_name])\n",
    "                inputs.append(value)\n",
    "            with app.open_resource(\"models/watt_model.bin\", \"rb\") as f:\n",
    "                watt_model = pickle.load(f)\n",
    "            response = watt_model.predict(np.array(inputs).reshape(1, -1))[0]\n",
    "            return render_template(\"index.html\", w_pred=response, X_hr=X_hr, X_watt=X_watt)\n",
    "\n",
    "    return render_template(\"index.html\", X_hr=X_hr, X_watt=X_watt)"
   ]
  },
  {
   "cell_type": "code",
   "execution_count": null,
   "metadata": {},
   "outputs": [],
   "source": [
    "%%writefile -a garmin_flask.py\n",
    "\n",
    "if __name__ == '__main__':\n",
    "  app.run()"
   ]
  },
  {
   "cell_type": "code",
   "execution_count": null,
   "metadata": {},
   "outputs": [],
   "source": [
    "%%writefile templates/index.html\n",
    "\n",
    "<!doctype html>\n",
    "<html lang=\"en\">\n",
    "\n",
    "<head>\n",
    "  <meta charset=\"utf-8\">\n",
    "  <meta name=\"viewport\" content=\"width=device-width, initial-scale=1\">\n",
    "  <title>Bootstrap demo</title>\n",
    "  <link href=\"https://cdn.jsdelivr.net/npm/bootstrap@5.3.0/dist/css/bootstrap.min.css\" rel=\"stylesheet\"\n",
    "    integrity=\"sha384-9ndCyUaIbzAi2FUVXJi0CjmCapSmO7SnpJef0486qhLnuZ2cdeRhO02iuK6FUUVM\" crossorigin=\"anonymous\">\n",
    "</head>\n",
    "\n",
    "<body class=\"d-flex flex-column vh-100\" data-bs-theme=\"dark\">\n",
    "  <header class=\"d-flex justify-content-center shadow py-3\">\n",
    "      <h1>data intensive</h1>\n",
    "  </header>\n",
    "  <div class=\"d-flex align-items-center justify-content-center h-100\">\n",
    "    <div class=\"card m-auto\">\n",
    "      <div class=\"card-body\">\n",
    "        <h5 class=\"card-title\">Previsione battiti</h5>\n",
    "        <form method=\"POST\" action=\"\">\n",
    "          {% for column in X_hr.columns %}\n",
    "          <div class=\"mb-3\">\n",
    "            <label for=\"{{ column }}\" class=\"form-label\">{{ column }}</label>\n",
    "            <input name=\"{{ column }}\" class=\"form-control\" id=\"{{ column }}\">\n",
    "          </div>\n",
    "          {% endfor %}\n",
    "          <input type=\"hidden\" name=\"card\" value=\"hr\">\n",
    "          <button type=\"submit\" class=\"btn btn-primary\">Submit</button>\n",
    "        </form>\n",
    "      </div>\n",
    "      <div class=\"card-footer\">\n",
    "        <p>Risultato: <b>{{ hr_pred }}</b></p>\n",
    "      </div>\n",
    "    </div>\n",
    "    <div class=\"card m-auto\">\n",
    "      <div class=\"card-body\">\n",
    "        <h5 class=\"card-title\">Previsione potenza</h5>\n",
    "        <form method=\"POST\" action=\"\">\n",
    "          {% for column in X_watt.columns %}\n",
    "          <div class=\"mb-3\">\n",
    "            <label for=\"{{ column }}\" class=\"form-label\">{{ column }}</label>\n",
    "            <input name=\"{{ column }}\" class=\"form-control\" id=\"{{ column }}\">\n",
    "          </div>\n",
    "          {% endfor %}\n",
    "          <input type=\"hidden\" name=\"card\" value=\"watt\">\n",
    "          <button type=\"submit\" class=\"btn btn-primary\">Submit</button>\n",
    "        </form>\n",
    "      </div>\n",
    "      <div class=\"card-footer\">\n",
    "        <p>Risultato: <b>{{ w_pred }}</b></p>\n",
    "      </div>\n",
    "    </div>\n",
    "  </div>\n",
    "</body>\n",
    "\n",
    "</html>\n"
   ]
  }
 ],
 "metadata": {
  "kernelspec": {
   "display_name": "Python 3 (ipykernel)",
   "language": "python",
   "name": "python3"
  },
  "language_info": {
   "codemirror_mode": {
    "name": "ipython",
    "version": 3
   },
   "file_extension": ".py",
   "mimetype": "text/x-python",
   "name": "python",
   "nbconvert_exporter": "python",
   "pygments_lexer": "ipython3",
   "version": "3.11.4"
  }
 },
 "nbformat": 4,
 "nbformat_minor": 2
}
