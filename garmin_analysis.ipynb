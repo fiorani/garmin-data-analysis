{
 "cells": [
  {
   "cell_type": "code",
   "execution_count": null,
   "metadata": {},
   "outputs": [],
   "source": [
    "#%pip install numpy\n",
    "#%pip install pandas\n",
    "#%pip install matplotlib\n",
    "#%pip install scikit-learn\n",
    "import numpy as np\n",
    "import pandas as pd\n",
    "import matplotlib.pyplot as plt\n",
    "import sklearn as sk"
   ]
  },
  {
   "cell_type": "code",
   "execution_count": null,
   "metadata": {},
   "outputs": [],
   "source": [
    "summary = pd.read_csv(\"garmin_edge_820/summary.csv\")   \n",
    "details = pd.read_csv(\"garmin_edge_820/4557226804_ACTIVITY_data.csv\", sep=\";\")"
   ]
  },
  {
   "cell_type": "code",
   "execution_count": null,
   "metadata": {},
   "outputs": [],
   "source": [
    "details.rename(columns=lambda x: x.replace('record.', ''), inplace=True)\n",
    "details['time'] = pd.to_datetime(details.pop('timestamp[s]'), unit='s').dt.time\n",
    "details.set_index(\"time\", inplace=True)"
   ]
  },
  {
   "cell_type": "code",
   "execution_count": null,
   "metadata": {},
   "outputs": [],
   "source": [
    "hr_zones = [(0, 128), (129, 146), (147, 156), (157, 165), (166, 174), (175, 179), (180, float('inf'))]\n",
    "power_zones = [(0, 157), (158, 186), (187, 200), (201, 218), (219, 247), (248, 287), (288, float('inf'))]\n",
    "# funzione che calcola le zone di frequenza cardiaca dato il battito in input\n",
    "\n",
    "def get_zone(rate, zones):\n",
    "    for zone, (lower, upper) in enumerate(zones, start=1):\n",
    "        if lower <= rate <= upper:\n",
    "            return zone"
   ]
  },
  {
   "cell_type": "code",
   "execution_count": null,
   "metadata": {},
   "outputs": [],
   "source": [
    "details['hr_zone'] = details['heart_rate[bpm]'].apply(get_zone, zones=hr_zones)\n",
    "details['pwr_zone'] = details['power[watts]'].apply(get_zone, zones=power_zones)"
   ]
  },
  {
   "cell_type": "code",
   "execution_count": null,
   "metadata": {},
   "outputs": [],
   "source": [
    "details['time_since_start'] = 1\n",
    "details['time_since_start'] = details['time_since_start'].cumsum().sub(1)"
   ]
  },
  {
   "cell_type": "code",
   "execution_count": null,
   "metadata": {},
   "outputs": [],
   "source": [
    "# Calcola la differenza di altitudine tra le righe adiacenti\n",
    "details['altitude_diff'] = details['altitude[m]'] - details['altitude[m]'].shift(1)\n",
    "details['distance_diff'] = details['distance[m]'] - details['distance[m]'].shift(1)\n",
    "details[['altitude_diff', 'distance_diff']] = details[['altitude_diff', 'distance_diff']].fillna(0)\n",
    "\n",
    "# Calcola la percentuale di pendenza\n",
    "details['slope_percent'] = np.where(details['distance_diff'] == 0, 0, details['altitude_diff'] / details['distance_diff'] * 100)"
   ]
  },
  {
   "cell_type": "code",
   "execution_count": null,
   "metadata": {},
   "outputs": [],
   "source": [
    "details.dtypes"
   ]
  },
  {
   "cell_type": "code",
   "execution_count": null,
   "metadata": {
    "scrolled": true
   },
   "outputs": [],
   "source": [
    "details.isna().sum()"
   ]
  },
  {
   "cell_type": "code",
   "execution_count": null,
   "metadata": {},
   "outputs": [],
   "source": [
    "details['speed[m/s]'] = details['speed[m/s]'].fillna(details['speed[m/s]'].mean()) "
   ]
  },
  {
   "attachments": {},
   "cell_type": "markdown",
   "metadata": {},
   "source": [
    "### Data Visualization"
   ]
  },
  {
   "cell_type": "code",
   "execution_count": null,
   "metadata": {},
   "outputs": [],
   "source": [
    "plt.figure(figsize=(24, 6))\n",
    "plt.plot(details['time_since_start'], details['speed[m/s]'], label=\"speed\")\n",
    "plt.plot(details['time_since_start'], details['heart_rate[bpm]'], label=\"bpm\")\n",
    "plt.plot(details['time_since_start'], details['cadence[rpm]'], label=\"cadence\")\n",
    "plt.plot(details['time_since_start'], details['altitude[m]'], label=\"altitude\")\n",
    "plt.plot(details['time_since_start'], details['power[watts]'], label=\"power\")\n",
    "plt.xlabel(\"tempo\")\n",
    "plt.legend()\n",
    "plt.grid(True)\n",
    "plt.show()"
   ]
  },
  {
   "attachments": {},
   "cell_type": "markdown",
   "metadata": {},
   "source": [
    "## Models"
   ]
  },
  {
   "attachments": {},
   "cell_type": "markdown",
   "metadata": {},
   "source": [
    "#### Regressione lineare"
   ]
  },
  {
   "cell_type": "code",
   "execution_count": null,
   "metadata": {},
   "outputs": [],
   "source": [
    "X = details.drop(['left_power_phase[degrees]', \n",
    "                  'left_power_phase_peak[degrees]', \n",
    "                  'right_power_phase[degrees]', \n",
    "                  'right_power_phase_peak[degrees]', \n",
    "                  'heart_rate[bpm]'], axis=1)\n",
    "y = details['heart_rate[bpm]']\n"
   ]
  },
  {
   "cell_type": "code",
   "execution_count": null,
   "metadata": {},
   "outputs": [],
   "source": [
    "from sklearn.metrics import mean_squared_error, r2_score\n",
    "\n",
    "# definisco l'errore relativo\n",
    "def relative_error(y_true, y_pred):\n",
    "    return np.mean(np.abs((y_true - y_pred) / y_true))\n",
    "\n",
    "def print_eval(X, y, model):\n",
    "    preds = model.predict(X)\n",
    "    mse = mean_squared_error(y, preds)\n",
    "    re = relative_error(y, preds)\n",
    "    r2 = r2_score(y, preds)\n",
    "    print(f\"   Mean squared error: {mse:.5}\")\n",
    "    print(f\"       Relative error: {re:.5%}\")\n",
    "    print(f\"R-squared coefficient: {r2:.5}\")"
   ]
  },
  {
   "cell_type": "code",
   "execution_count": null,
   "metadata": {},
   "outputs": [],
   "source": [
    "from sklearn.model_selection import train_test_split\n",
    "X_train, X_val, y_train, y_val = train_test_split(X, y, test_size=0.2, random_state=42)"
   ]
  },
  {
   "cell_type": "code",
   "execution_count": null,
   "metadata": {},
   "outputs": [],
   "source": [
    "from sklearn.linear_model import LinearRegression\n",
    "lrm = LinearRegression()\n",
    "lrm.fit(X_train, y_train)\n",
    "print_eval(X_val, y_val, lrm)"
   ]
  },
  {
   "cell_type": "code",
   "execution_count": null,
   "metadata": {},
   "outputs": [],
   "source": [
    "from sklearn.linear_model import Lasso\n",
    "lsm = Lasso(alpha=0.3)\n",
    "lsm.fit(X_train, y_train)\n",
    "print_eval(X_val, y_val, lsm)"
   ]
  },
  {
   "cell_type": "code",
   "execution_count": null,
   "metadata": {},
   "outputs": [],
   "source": [
    "from sklearn.linear_model import Ridge\n",
    "rrm = Ridge(alpha=0.5)\n",
    "rrm.fit(X_train, y_train)\n",
    "print_eval(X_val, y_val, rrm)"
   ]
  },
  {
   "cell_type": "code",
   "execution_count": null,
   "metadata": {},
   "outputs": [],
   "source": [
    "from sklearn.linear_model import ElasticNet\n",
    "enm = ElasticNet(alpha=0.1, l1_ratio=0.5)\n",
    "enm.fit(X_train, y_train)\n",
    "print_eval(X_val, y_val, enm)"
   ]
  },
  {
   "cell_type": "code",
   "execution_count": null,
   "metadata": {},
   "outputs": [],
   "source": [
    "pd.DataFrame({\n",
    "    \"linear\": lrm.coef_,\n",
    "    \"ridge\": rrm.coef_,\n",
    "    \"lasso\": lsm.coef_\n",
    "}, index=X_train.columns)"
   ]
  },
  {
   "attachments": {},
   "cell_type": "markdown",
   "metadata": {},
   "source": [
    "#### Regressione Polinomiale"
   ]
  },
  {
   "cell_type": "code",
   "execution_count": null,
   "metadata": {},
   "outputs": [],
   "source": [
    "from sklearn.preprocessing import PolynomialFeatures\n",
    "from sklearn.pipeline import Pipeline"
   ]
  },
  {
   "cell_type": "code",
   "execution_count": null,
   "metadata": {},
   "outputs": [],
   "source": [
    "lrm_poly = Pipeline([\n",
    "    (\"poly\", PolynomialFeatures(degree=4, include_bias=False)),\n",
    "    (\"linear\", LinearRegression())\n",
    "])\n",
    "lrm_poly.fit(X_train, y_train)\n",
    "print_eval(X_val, y_val, lrm_poly)"
   ]
  },
  {
   "cell_type": "code",
   "execution_count": null,
   "metadata": {},
   "outputs": [],
   "source": [
    "lsm_poly = Pipeline([\n",
    "    (\"poly\", PolynomialFeatures(degree=2, include_bias=False)),\n",
    "    (\"lasso\", Lasso(alpha=0.7)) \n",
    "])\n",
    "lsm_poly.fit(X_train, y_train)\n",
    "print_eval(X_val, y_val, lsm_poly)"
   ]
  },
  {
   "cell_type": "code",
   "execution_count": null,
   "metadata": {},
   "outputs": [],
   "source": [
    "rrm_poly = Pipeline([\n",
    "    (\"poly\", PolynomialFeatures(degree=3, include_bias=False)),\n",
    "    (\"ridge\", Ridge(alpha=1))\n",
    "])\n",
    "rrm_poly.fit(X_train, y_train)\n",
    "print_eval(X_val, y_val, rrm_poly)"
   ]
  },
  {
   "cell_type": "code",
   "execution_count": null,
   "metadata": {},
   "outputs": [],
   "source": [
    "enm_poly = Pipeline([\n",
    "    (\"poly\", PolynomialFeatures(degree=2, include_bias=False)),\n",
    "    (\"elasticnet\", ElasticNet(alpha=0.1, l1_ratio=0.5))\n",
    "])\n",
    "enm_poly.fit(X_train, y_train)\n",
    "print_eval(X_val, y_val, enm_poly)"
   ]
  },
  {
   "attachments": {},
   "cell_type": "markdown",
   "metadata": {},
   "source": [
    "#### Regressione polinomiale con standardizzazione"
   ]
  },
  {
   "cell_type": "code",
   "execution_count": null,
   "metadata": {},
   "outputs": [],
   "source": [
    "from sklearn.preprocessing import StandardScaler\n",
    "\n",
    "lrm_poly_std = Pipeline([\n",
    "    (\"poly\", PolynomialFeatures(degree=3, include_bias=False)),\n",
    "    (\"std\", StandardScaler()),\n",
    "    (\"linear\", LinearRegression())\n",
    "])\n",
    "lrm_poly_std.fit(X_train, y_train)\n",
    "print_eval(X_val, y_val, lrm_poly_std)"
   ]
  },
  {
   "cell_type": "code",
   "execution_count": null,
   "metadata": {},
   "outputs": [],
   "source": [
    "lsm_poly_std = Pipeline([\n",
    "    (\"poly\", PolynomialFeatures(degree=3, include_bias=False)),\n",
    "    (\"std\", StandardScaler()),\n",
    "    (\"lasso\", Lasso(alpha=0.7))\n",
    "])\n",
    "lsm_poly_std.fit(X_train, y_train)\n",
    "print_eval(X_val, y_val, lsm_poly_std)"
   ]
  },
  {
   "cell_type": "code",
   "execution_count": null,
   "metadata": {},
   "outputs": [],
   "source": [
    "rrm_poly_std = Pipeline([\n",
    "    (\"poly\", PolynomialFeatures(degree=3, include_bias=False)),\n",
    "    (\"std\", StandardScaler()),\n",
    "    (\"ridge\", Ridge(alpha=1))\n",
    "])\n",
    "rrm_poly_std.fit(X_train, y_train)\n",
    "print_eval(X_val, y_val, rrm_poly_std)"
   ]
  },
  {
   "cell_type": "code",
   "execution_count": null,
   "metadata": {},
   "outputs": [],
   "source": [
    "enm_poly_std = Pipeline([\n",
    "    (\"poly\", PolynomialFeatures(degree=3, include_bias=False)),\n",
    "    (\"std\", StandardScaler()),\n",
    "    (\"elasticnet\", ElasticNet(alpha=0.1, l1_ratio=0.5))\n",
    "])\n",
    "enm_poly_std.fit(X_train, y_train)\n",
    "print_eval(X_val, y_val, enm_poly_std)"
   ]
  },
  {
   "attachments": {},
   "cell_type": "markdown",
   "metadata": {},
   "source": [
    "#### Regressione con funzioni kernel"
   ]
  },
  {
   "cell_type": "code",
   "execution_count": null,
   "metadata": {},
   "outputs": [],
   "source": [
    "from sklearn.kernel_ridge import KernelRidge"
   ]
  },
  {
   "cell_type": "code",
   "execution_count": null,
   "metadata": {},
   "outputs": [],
   "source": [
    "krm_poly = Pipeline([\n",
    "    (\"std\", StandardScaler()),\n",
    "    (\"kernel\", KernelRidge(alpha=20, kernel=\"poly\", degree=6))\n",
    "])\n",
    "krm_poly.fit(X_train, y_train)\n",
    "print_eval(X_val, y_val, krm_poly)"
   ]
  },
  {
   "cell_type": "code",
   "execution_count": null,
   "metadata": {},
   "outputs": [],
   "source": [
    "krm_rbf = Pipeline([\n",
    "    (\"std\", StandardScaler()),\n",
    "    (\"kernel\", KernelRidge(alpha=0.1, kernel=\"rbf\", gamma=0.1))\n",
    "])\n",
    "krm_rbf.fit(X_train, y_train)\n",
    "print_eval(X_val, y_val, krm_rbf)"
   ]
  },
  {
   "attachments": {},
   "cell_type": "markdown",
   "metadata": {},
   "source": []
  },
  {
   "cell_type": "code",
   "execution_count": null,
   "metadata": {},
   "outputs": [],
   "source": []
  }
 ],
 "metadata": {
  "kernelspec": {
   "display_name": "Python 3 (ipykernel)",
   "language": "python",
   "name": "python3"
  },
  "language_info": {
   "codemirror_mode": {
    "name": "ipython",
    "version": 3
   },
   "file_extension": ".py",
   "mimetype": "text/x-python",
   "name": "python",
   "nbconvert_exporter": "python",
   "pygments_lexer": "ipython3",
   "version": "3.10.9"
  }
 },
 "nbformat": 4,
 "nbformat_minor": 2
}
