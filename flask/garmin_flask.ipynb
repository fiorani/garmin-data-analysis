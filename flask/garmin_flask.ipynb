{
 "cells": [
  {
   "cell_type": "code",
   "execution_count": 11,
   "metadata": {},
   "outputs": [],
   "source": [
    "# %pip install numpy\n",
    "# %pip install pandas\n",
    "# %pip install matplotlib\n",
    "# %pip install scikit-learn\n",
    "# %pip install lightgbm\n",
    "# %pip install xgboost\n",
    "# %pip install flask\n",
    "# %pip install xlrd\n",
    "import numpy as np\n",
    "import pandas as pd\n",
    "import matplotlib.pyplot as plt\n",
    "import sklearn as sk\n",
    "import os.path\n",
    "import pickle\n",
    "from flask import Flask, request, render_template"
   ]
  },
  {
   "cell_type": "code",
   "execution_count": 12,
   "metadata": {},
   "outputs": [],
   "source": [
    "details = pd.read_csv(\"../garmin_edge_820/4557226804_ACTIVITY_data.csv\", sep=\";\")"
   ]
  },
  {
   "cell_type": "code",
   "execution_count": 13,
   "metadata": {},
   "outputs": [
    {
     "data": {
      "text/html": [
       "<div>\n",
       "<style scoped>\n",
       "    .dataframe tbody tr th:only-of-type {\n",
       "        vertical-align: middle;\n",
       "    }\n",
       "\n",
       "    .dataframe tbody tr th {\n",
       "        vertical-align: top;\n",
       "    }\n",
       "\n",
       "    .dataframe thead th {\n",
       "        text-align: right;\n",
       "    }\n",
       "</style>\n",
       "<table border=\"1\" class=\"dataframe\">\n",
       "  <thead>\n",
       "    <tr style=\"text-align: right;\">\n",
       "      <th></th>\n",
       "      <th>timestamp[s]</th>\n",
       "      <th>distance[m]</th>\n",
       "      <th>accumulated_power[watts]</th>\n",
       "      <th>altitude[m]</th>\n",
       "      <th>speed[m/s]</th>\n",
       "      <th>power[watts]</th>\n",
       "      <th>heart_rate[bpm]</th>\n",
       "      <th>cadence[rpm]</th>\n",
       "      <th>temperature[C]</th>\n",
       "      <th>left_right_balance</th>\n",
       "      <th>left_pco[mm]</th>\n",
       "      <th>right_pco[mm]</th>\n",
       "      <th>left_power_phase[degrees]</th>\n",
       "      <th>left_power_phase_peak[degrees]</th>\n",
       "      <th>right_power_phase[degrees]</th>\n",
       "      <th>right_power_phase_peak[degrees]</th>\n",
       "    </tr>\n",
       "  </thead>\n",
       "  <tbody>\n",
       "    <tr>\n",
       "      <th>0</th>\n",
       "      <td>950773438</td>\n",
       "      <td>55.44</td>\n",
       "      <td>587</td>\n",
       "      <td>23.6</td>\n",
       "      <td>3.97</td>\n",
       "      <td>145</td>\n",
       "      <td>107</td>\n",
       "      <td>61</td>\n",
       "      <td>6</td>\n",
       "      <td>180</td>\n",
       "      <td>1</td>\n",
       "      <td>0</td>\n",
       "      <td>1.687500026367188E-6|2.010937531420899E-5</td>\n",
       "      <td>7.5937501186523455E-6|1.265625019775391E-5</td>\n",
       "      <td>2.2500000351562503E-6|2.0250000316406255E-5</td>\n",
       "      <td>8.015625125244143E-6|1.2796875199951175E-5</td>\n",
       "    </tr>\n",
       "    <tr>\n",
       "      <th>1</th>\n",
       "      <td>950773439</td>\n",
       "      <td>59.86</td>\n",
       "      <td>587</td>\n",
       "      <td>23.6</td>\n",
       "      <td>4.41</td>\n",
       "      <td>46</td>\n",
       "      <td>109</td>\n",
       "      <td>61</td>\n",
       "      <td>6</td>\n",
       "      <td>180</td>\n",
       "      <td>1</td>\n",
       "      <td>1</td>\n",
       "      <td>2.2500000351562503E-6|2.0671875322998053E-5</td>\n",
       "      <td>8.578125134033205E-6|1.293750020214844E-5</td>\n",
       "      <td>2.2500000351562503E-6|1.982812530981446E-5</td>\n",
       "      <td>8.156250127441408E-6|1.293750020214844E-5</td>\n",
       "    </tr>\n",
       "    <tr>\n",
       "      <th>2</th>\n",
       "      <td>950773440</td>\n",
       "      <td>64.12</td>\n",
       "      <td>679</td>\n",
       "      <td>23.6</td>\n",
       "      <td>4.26</td>\n",
       "      <td>46</td>\n",
       "      <td>111</td>\n",
       "      <td>34</td>\n",
       "      <td>6</td>\n",
       "      <td>180</td>\n",
       "      <td>1</td>\n",
       "      <td>2</td>\n",
       "      <td>2.2500000351562503E-6|2.0671875322998053E-5</td>\n",
       "      <td>8.578125134033205E-6|1.293750020214844E-5</td>\n",
       "      <td>2.2500000351562503E-6|1.982812530981446E-5</td>\n",
       "      <td>8.156250127441408E-6|1.293750020214844E-5</td>\n",
       "    </tr>\n",
       "    <tr>\n",
       "      <th>3</th>\n",
       "      <td>950773441</td>\n",
       "      <td>68.46</td>\n",
       "      <td>809</td>\n",
       "      <td>23.6</td>\n",
       "      <td>4.34</td>\n",
       "      <td>130</td>\n",
       "      <td>112</td>\n",
       "      <td>67</td>\n",
       "      <td>6</td>\n",
       "      <td>180</td>\n",
       "      <td>-2</td>\n",
       "      <td>2</td>\n",
       "      <td>2.2500000351562503E-6|2.0671875322998053E-5</td>\n",
       "      <td>8.578125134033205E-6|1.293750020214844E-5</td>\n",
       "      <td>2.2500000351562503E-6|1.982812530981446E-5</td>\n",
       "      <td>8.156250127441408E-6|1.293750020214844E-5</td>\n",
       "    </tr>\n",
       "    <tr>\n",
       "      <th>4</th>\n",
       "      <td>950773442</td>\n",
       "      <td>72.92</td>\n",
       "      <td>901</td>\n",
       "      <td>23.6</td>\n",
       "      <td>4.46</td>\n",
       "      <td>92</td>\n",
       "      <td>114</td>\n",
       "      <td>66</td>\n",
       "      <td>6</td>\n",
       "      <td>194</td>\n",
       "      <td>-2</td>\n",
       "      <td>2</td>\n",
       "      <td>8.43750013183594E-7|2.109375032958985E-5</td>\n",
       "      <td>7.312500114257814E-6|1.2093750188964847E-5</td>\n",
       "      <td>8.43750013183594E-7|1.9968750312011722E-5</td>\n",
       "      <td>6.750000105468752E-6|1.1812500184570315E-5</td>\n",
       "    </tr>\n",
       "  </tbody>\n",
       "</table>\n",
       "</div>"
      ],
      "text/plain": [
       "   timestamp[s]  distance[m]  accumulated_power[watts]  altitude[m]   \n",
       "0     950773438        55.44                       587         23.6  \\\n",
       "1     950773439        59.86                       587         23.6   \n",
       "2     950773440        64.12                       679         23.6   \n",
       "3     950773441        68.46                       809         23.6   \n",
       "4     950773442        72.92                       901         23.6   \n",
       "\n",
       "   speed[m/s]  power[watts]  heart_rate[bpm]  cadence[rpm]  temperature[C]   \n",
       "0        3.97           145              107            61               6  \\\n",
       "1        4.41            46              109            61               6   \n",
       "2        4.26            46              111            34               6   \n",
       "3        4.34           130              112            67               6   \n",
       "4        4.46            92              114            66               6   \n",
       "\n",
       "   left_right_balance  left_pco[mm]  right_pco[mm]   \n",
       "0                 180             1              0  \\\n",
       "1                 180             1              1   \n",
       "2                 180             1              2   \n",
       "3                 180            -2              2   \n",
       "4                 194            -2              2   \n",
       "\n",
       "                     left_power_phase[degrees]   \n",
       "0    1.687500026367188E-6|2.010937531420899E-5  \\\n",
       "1  2.2500000351562503E-6|2.0671875322998053E-5   \n",
       "2  2.2500000351562503E-6|2.0671875322998053E-5   \n",
       "3  2.2500000351562503E-6|2.0671875322998053E-5   \n",
       "4     8.43750013183594E-7|2.109375032958985E-5   \n",
       "\n",
       "               left_power_phase_peak[degrees]   \n",
       "0  7.5937501186523455E-6|1.265625019775391E-5  \\\n",
       "1   8.578125134033205E-6|1.293750020214844E-5   \n",
       "2   8.578125134033205E-6|1.293750020214844E-5   \n",
       "3   8.578125134033205E-6|1.293750020214844E-5   \n",
       "4  7.312500114257814E-6|1.2093750188964847E-5   \n",
       "\n",
       "                    right_power_phase[degrees]   \n",
       "0  2.2500000351562503E-6|2.0250000316406255E-5  \\\n",
       "1   2.2500000351562503E-6|1.982812530981446E-5   \n",
       "2   2.2500000351562503E-6|1.982812530981446E-5   \n",
       "3   2.2500000351562503E-6|1.982812530981446E-5   \n",
       "4    8.43750013183594E-7|1.9968750312011722E-5   \n",
       "\n",
       "              right_power_phase_peak[degrees]  \n",
       "0  8.015625125244143E-6|1.2796875199951175E-5  \n",
       "1   8.156250127441408E-6|1.293750020214844E-5  \n",
       "2   8.156250127441408E-6|1.293750020214844E-5  \n",
       "3   8.156250127441408E-6|1.293750020214844E-5  \n",
       "4  6.750000105468752E-6|1.1812500184570315E-5  "
      ]
     },
     "execution_count": 13,
     "metadata": {},
     "output_type": "execute_result"
    }
   ],
   "source": [
    "details.head()"
   ]
  },
  {
   "cell_type": "code",
   "execution_count": 14,
   "metadata": {},
   "outputs": [
    {
     "name": "stdout",
     "output_type": "stream",
     "text": [
      "<class 'pandas.core.frame.DataFrame'>\n",
      "RangeIndex: 20070 entries, 0 to 20069\n",
      "Data columns (total 16 columns):\n",
      " #   Column                           Non-Null Count  Dtype  \n",
      "---  ------                           --------------  -----  \n",
      " 0   timestamp[s]                     20070 non-null  int64  \n",
      " 1   distance[m]                      20070 non-null  float64\n",
      " 2   accumulated_power[watts]         20070 non-null  int64  \n",
      " 3   altitude[m]                      20070 non-null  float64\n",
      " 4   speed[m/s]                       20069 non-null  float64\n",
      " 5   power[watts]                     20070 non-null  int64  \n",
      " 6   heart_rate[bpm]                  20070 non-null  int64  \n",
      " 7   cadence[rpm]                     20070 non-null  int64  \n",
      " 8   temperature[C]                   20070 non-null  int64  \n",
      " 9   left_right_balance               20070 non-null  int64  \n",
      " 10  left_pco[mm]                     20070 non-null  int64  \n",
      " 11  right_pco[mm]                    20070 non-null  int64  \n",
      " 12  left_power_phase[degrees]        20070 non-null  object \n",
      " 13  left_power_phase_peak[degrees]   20070 non-null  object \n",
      " 14  right_power_phase[degrees]       20070 non-null  object \n",
      " 15  right_power_phase_peak[degrees]  20070 non-null  object \n",
      "dtypes: float64(3), int64(9), object(4)\n",
      "memory usage: 2.5+ MB\n"
     ]
    }
   ],
   "source": [
    "details.info()"
   ]
  },
  {
   "cell_type": "code",
   "execution_count": 15,
   "metadata": {},
   "outputs": [],
   "source": [
    "import os\n",
    "if not os.path.isdir(\"templates\"):\n",
    "    os.mkdir(\"templates\")"
   ]
  },
  {
   "cell_type": "code",
   "execution_count": 16,
   "metadata": {},
   "outputs": [
    {
     "name": "stdout",
     "output_type": "stream",
     "text": [
      "Overwriting flsk.py\n"
     ]
    }
   ],
   "source": [
    "%%writefile flsk.py\n",
    "from flask import Flask, request, render_template\n",
    "\n",
    "app = Flask(__name__)\n",
    "app.debug = True"
   ]
  },
  {
   "cell_type": "code",
   "execution_count": 17,
   "metadata": {},
   "outputs": [
    {
     "name": "stdout",
     "output_type": "stream",
     "text": [
      "Appending to flsk.py\n"
     ]
    }
   ],
   "source": [
    "%%writefile -a  flsk.py\n",
    "\n",
    "@app.route(\"/\")\n",
    "def home():\n",
    "    return render_template(\"index.html\")"
   ]
  },
  {
   "cell_type": "code",
   "execution_count": 18,
   "metadata": {},
   "outputs": [],
   "source": [
    "from sklearn.pipeline import Pipeline\n",
    "from sklearn.preprocessing import StandardScaler\n",
    "from sklearn.linear_model import Perceptron\n",
    "X = details[[\"distance[m]\",\"altitude[m]\"]]\n",
    "y = details[\"heart_rate[bpm]\"]\n",
    "model = Pipeline([\n",
    "    (\"scaler\", StandardScaler()),\n",
    "    (\"model\",  Perceptron())\n",
    "])\n",
    "model.fit(X, y);\n",
    "with open(\"model.bin\", \"wb\") as f:\n",
    "    pickle.dump(model, f)"
   ]
  },
  {
   "cell_type": "code",
   "execution_count": 19,
   "metadata": {},
   "outputs": [
    {
     "name": "stdout",
     "output_type": "stream",
     "text": [
      "Writing templates/index.html\n"
     ]
    }
   ],
   "source": [
    "%%writefile templates/index.html\n",
    "<!DOCTYPE html>\n",
    "<head>\n",
    " <title>Predizione default carte</title>\n",
    "</head>\n",
    "<body>\n",
    " <h2>Default carte di credito</h2>\n",
    "</body>\n",
    "</html>"
   ]
  },
  {
   "cell_type": "code",
   "execution_count": 20,
   "metadata": {},
   "outputs": [
    {
     "name": "stdout",
     "output_type": "stream",
     "text": [
      "Appending to flsk.py\n"
     ]
    }
   ],
   "source": [
    "%%writefile -a  flsk.py\n",
    "\n",
    "if __name__ == '__main__':\n",
    "  app.run()"
   ]
  }
 ],
 "metadata": {
  "kernelspec": {
   "display_name": "Python 3",
   "language": "python",
   "name": "python3"
  },
  "language_info": {
   "codemirror_mode": {
    "name": "ipython",
    "version": 3
   },
   "file_extension": ".py",
   "mimetype": "text/x-python",
   "name": "python",
   "nbconvert_exporter": "python",
   "pygments_lexer": "ipython3",
   "version": "3.11.4"
  },
  "orig_nbformat": 4
 },
 "nbformat": 4,
 "nbformat_minor": 2
}
