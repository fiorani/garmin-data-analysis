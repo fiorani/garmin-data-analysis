{
 "cells": [
  {
   "cell_type": "code",
   "execution_count": null,
   "metadata": {},
   "outputs": [],
   "source": [
    "%pip install numpy\n",
    "%pip install pandas\n",
    "%pip install matplotlib\n",
    "%pip install scikit-learn\n",
    "import numpy as np\n",
    "import pandas as pd\n",
    "import matplotlib.pyplot as plt\n",
    "import sklearn as sk\n",
    "import cuml\n",
    "import cudf\n",
    "from cuml.model_selection._split import train_test_split\n",
    "from sklearn.model_selection import train_test_split"
   ]
  },
  {
   "cell_type": "code",
   "execution_count": null,
   "metadata": {},
   "outputs": [],
   "source": [
    "file_list = [\"garmin_edge_820/3993730634_ACTIVITY_data.csv\",\n",
    "             \"garmin_edge_820/4557226804_ACTIVITY_data.csv\",\n",
    "             \"garmin_edge_820/4593452980_ACTIVITY_data.csv\",\n",
    "             \"garmin_edge_820/5191513011_ACTIVITY_data.csv\",\n",
    "]\n",
    "combined_df = pd.concat([pd.read_csv(file, sep=\";\") for file in file_list], ignore_index=True)"
   ]
  },
  {
   "cell_type": "code",
   "execution_count": null,
   "metadata": {},
   "outputs": [],
   "source": [
    "def convert_brackets(string):\n",
    "    return string.replace('[', '(').replace(']', ')')\n",
    "\n",
    "combined_df.columns = [convert_brackets(col) for col in combined_df.columns]"
   ]
  },
  {
   "cell_type": "code",
   "execution_count": null,
   "metadata": {},
   "outputs": [],
   "source": [
    "combined_df['timestamp(s)'] = combined_df['timestamp(s)'] + 631065600\n",
    "combined_df['time'] = pd.to_datetime(combined_df.pop('timestamp(s)'), unit='s')\n",
    "combined_df.set_index(\"time\", inplace=True)"
   ]
  },
  {
   "cell_type": "code",
   "execution_count": null,
   "metadata": {},
   "outputs": [],
   "source": [
    "combined_df = combined_df[combined_df['speed(m/s)'] != 0]\n",
    "combined_df = combined_df.dropna(subset=['speed(m/s)'])"
   ]
  },
  {
   "cell_type": "code",
   "execution_count": null,
   "metadata": {},
   "outputs": [],
   "source": [
    "combined_df['time_since_start(s)'] = combined_df.groupby(pd.Grouper(freq='D')).cumcount() + 1"
   ]
  },
  {
   "cell_type": "code",
   "execution_count": null,
   "metadata": {},
   "outputs": [],
   "source": [
    "hr_zones = [(0, 128), (129, 146), (147, 156), (157, 165),(166, 174), (175, 179), (180, float('inf'))]\n",
    "power_zones = [(0, 157), (158, 186), (187, 200), (201, 218),(219, 247), (248, 287), (288, float('inf'))]\n",
    "\n",
    "def get_zone(rate, zones):\n",
    "    for zone, (lower, upper) in enumerate(zones, start=1):\n",
    "        if lower <= rate <= upper:\n",
    "            return zone\n",
    "        \n",
    "combined_df['hr_zone'] = combined_df['heart_rate(bpm)'].apply(get_zone, zones=hr_zones)\n",
    "combined_df['pwr_zone'] = combined_df['power(watts)'].apply(get_zone, zones=power_zones)"
   ]
  },
  {
   "cell_type": "code",
   "execution_count": null,
   "metadata": {},
   "outputs": [],
   "source": [
    "combined_df['altitude_diff(m)'] = combined_df['altitude(m)'] - combined_df['altitude(m)'].shift(1)\n",
    "combined_df['distance_diff(m)'] = combined_df['distance(m)'] - combined_df['distance(m)'].shift(1)\n",
    "combined_df[['altitude_diff(m)', 'distance_diff(m)']] = combined_df[['altitude_diff(m)', 'distance_diff(m)']].fillna(0)\n",
    "combined_df['slope_percent'] = np.where(combined_df['distance_diff(m)'] == 0, 0, combined_df['altitude_diff(m)'] / combined_df['distance_diff(m)'] * 100)"
   ]
  },
  {
   "cell_type": "code",
   "execution_count": null,
   "metadata": {},
   "outputs": [],
   "source": [
    "combined_df.drop(combined_df[combined_df['heart_rate(bpm)'] < 80].index, inplace=True)"
   ]
  },
  {
   "cell_type": "code",
   "execution_count": null,
   "metadata": {},
   "outputs": [],
   "source": [
    "window_size = 3 \n",
    "combined_df['avg_power(watts)'] = combined_df['power(watts)'].rolling(window=int(window_size), center=True).mean()\n",
    "combined_df['avg_power(watts)'] = combined_df['avg_power(watts)'].dropna()"
   ]
  },
  {
   "cell_type": "code",
   "execution_count": null,
   "metadata": {},
   "outputs": [],
   "source": [
    "combined_df['power_left(watts)'] = combined_df['left_right_balance'] - 128\n",
    "combined_df['power_right(watts)'] = 100 - combined_df['power_left(watts)']"
   ]
  },
  {
   "cell_type": "code",
   "execution_count": null,
   "metadata": {},
   "outputs": [],
   "source": [
    "# Pulizia dei dati\n",
    "details = details.drop(['left_power_phase[degrees]',\n",
    "                        'left_power_phase_peak[degrees]',\n",
    "                        'right_power_phase[degrees]',\n",
    "                        'right_power_phase_peak[degrees]',\n",
    "                        'left_right_balance'], axis=1)\n",
    "\n",
    "\n",
    "\n",
    "\n",
    "# Calcola la differenza di altitudine tra le righe adiacenti\n",
    "details['altitude_diff'] = details['altitude(m)'] - \\\n",
    "    details['altitude(m)'].shift(1)\n",
    "details['distance_diff'] = details['distance(m)'] - \\\n",
    "    details['distance(m)'].shift(1)\n",
    "details[['altitude_diff', 'distance_diff']] = details[[\n",
    "    'altitude_diff', 'distance_diff']].fillna(0)\n",
    "# Calcola la percentuale di pendenza\n",
    "details['slope_percent'] = np.where(\n",
    "    details['distance_diff'] == 0, 0, details['altitude_diff'] / details['distance_diff'] * 100)\n",
    "details['speed(m/s)'] = details['speed(m/s)'].fillna(details['speed(m/s)'].mean())"
   ]
  },
  {
   "cell_type": "code",
   "execution_count": null,
   "metadata": {},
   "outputs": [],
   "source": [
    "details = cudf.DataFrame(details)\n",
    "X = details.drop('heart_rate(bpm)', axis=1)\n",
    "y = details['heart_rate(bpm)']\n",
    "X_train, X_test, y_train, y_test = cuml.model_selection.train_test_split(X, y, test_size=1/3, train_size=0.75,  random_state=42)"
   ]
  },
  {
   "cell_type": "code",
   "execution_count": null,
   "metadata": {},
   "outputs": [],
   "source": [
    "X_cudf_train = cudf.DataFrame.from_pandas(X_train)\n",
    "X_cudf_test = cudf.DataFrame.from_pandas(X_test)\n",
    "\n",
    "y_cudf_train = cudf.Series(y_train.values)"
   ]
  },
  {
   "cell_type": "code",
   "execution_count": null,
   "metadata": {},
   "outputs": [],
   "source": [
    "lr = cuml.LinearRegression(algorithm='svd', fit_intercept=True, normalize=True)\n",
    "lr.fit(X_cudf_train,y_cudf_train)"
   ]
  }
 ],
 "metadata": {
  "kernelspec": {
   "display_name": "Python 3",
   "language": "python",
   "name": "python3"
  },
  "language_info": {
   "codemirror_mode": {
    "name": "ipython",
    "version": 3
   },
   "file_extension": ".py",
   "mimetype": "text/x-python",
   "name": "python",
   "nbconvert_exporter": "python",
   "pygments_lexer": "ipython3",
   "version": "3.10.6"
  },
  "orig_nbformat": 4
 },
 "nbformat": 4,
 "nbformat_minor": 2
}
