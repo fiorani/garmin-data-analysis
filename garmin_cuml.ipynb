{
 "cells": [
  {
   "cell_type": "markdown",
   "metadata": {},
   "source": [
    "# Rapids CUML"
   ]
  },
  {
   "cell_type": "markdown",
   "metadata": {},
   "source": [
    "Di seguito è riportato un tentativo (fallimentare) di utilizzare la GPU per l'addestramento di modelli, sfruttando le API di [Cuml](https://docs.rapids.ai/api/cuml/stable/).\n",
    "Sebbene Rapids garantisca il funzionamento su WSL2 con GPU Nvidia (grazie a [CUDA Toolkit](https://developer.nvidia.com/cuda-11-8-0-download-archive?target_os=Linux&target_arch=x86_64&Distribution=WSL-Ubuntu&target_version=2.0&target_type=deb_local)) di versione 6 o superiore, nessuno dei nostri tentativi (sia su GPU v6 che v7) è andato a buon fine. Infatti sebbene la GPU venga riconosciuta, il training dei modelli fallisce con il seguente errore\n",
    "\n",
    "```\n",
    "    RuntimeError: Fatal CUDA error encountered at: /__w/cudf/cudf/cpp/src/bitmask/null_mask.cu:93: 801 cudaErrorNotSupported operation not supported   \n",
    "```\n",
    "\n",
    "già nella funzione `cuml.model_selection.train_test_split`."
   ]
  },
  {
   "cell_type": "code",
   "execution_count": 1,
   "metadata": {},
   "outputs": [
    {
     "name": "stdout",
     "output_type": "stream",
     "text": [
      "Defaulting to user installation because normal site-packages is not writeable\n",
      "Requirement already satisfied: numpy in /home/panini/.local/lib/python3.10/site-packages (1.23.5)\n",
      "Note: you may need to restart the kernel to use updated packages.\n",
      "Defaulting to user installation because normal site-packages is not writeable\n",
      "Requirement already satisfied: pandas in /home/panini/.local/lib/python3.10/site-packages (1.5.3)\n",
      "Requirement already satisfied: python-dateutil>=2.8.1 in /home/panini/.local/lib/python3.10/site-packages (from pandas) (2.8.2)\n",
      "Requirement already satisfied: numpy>=1.21.0 in /home/panini/.local/lib/python3.10/site-packages (from pandas) (1.23.5)\n",
      "Requirement already satisfied: pytz>=2020.1 in /home/panini/.local/lib/python3.10/site-packages (from pandas) (2023.3)\n",
      "Requirement already satisfied: six>=1.5 in /usr/lib/python3/dist-packages (from python-dateutil>=2.8.1->pandas) (1.16.0)\n",
      "Note: you may need to restart the kernel to use updated packages.\n",
      "Defaulting to user installation because normal site-packages is not writeable\n",
      "Requirement already satisfied: matplotlib in /home/panini/.local/lib/python3.10/site-packages (3.7.1)\n",
      "Requirement already satisfied: cycler>=0.10 in /home/panini/.local/lib/python3.10/site-packages (from matplotlib) (0.11.0)\n",
      "Requirement already satisfied: python-dateutil>=2.7 in /home/panini/.local/lib/python3.10/site-packages (from matplotlib) (2.8.2)\n",
      "Requirement already satisfied: pyparsing>=2.3.1 in /usr/lib/python3/dist-packages (from matplotlib) (2.4.7)\n",
      "Requirement already satisfied: fonttools>=4.22.0 in /home/panini/.local/lib/python3.10/site-packages (from matplotlib) (4.40.0)\n",
      "Requirement already satisfied: kiwisolver>=1.0.1 in /home/panini/.local/lib/python3.10/site-packages (from matplotlib) (1.4.4)\n",
      "Requirement already satisfied: contourpy>=1.0.1 in /home/panini/.local/lib/python3.10/site-packages (from matplotlib) (1.1.0)\n",
      "Requirement already satisfied: pillow>=6.2.0 in /home/panini/.local/lib/python3.10/site-packages (from matplotlib) (9.5.0)\n",
      "Requirement already satisfied: packaging>=20.0 in /home/panini/.local/lib/python3.10/site-packages (from matplotlib) (23.1)\n",
      "Requirement already satisfied: numpy>=1.20 in /home/panini/.local/lib/python3.10/site-packages (from matplotlib) (1.23.5)\n",
      "Requirement already satisfied: six>=1.5 in /usr/lib/python3/dist-packages (from python-dateutil>=2.7->matplotlib) (1.16.0)\n",
      "Note: you may need to restart the kernel to use updated packages.\n",
      "Defaulting to user installation because normal site-packages is not writeable\n",
      "Requirement already satisfied: scikit-learn in /home/panini/.local/lib/python3.10/site-packages (1.3.0)\n",
      "Requirement already satisfied: joblib>=1.1.1 in /home/panini/.local/lib/python3.10/site-packages (from scikit-learn) (1.3.1)\n",
      "Requirement already satisfied: numpy>=1.17.3 in /home/panini/.local/lib/python3.10/site-packages (from scikit-learn) (1.23.5)\n",
      "Requirement already satisfied: threadpoolctl>=2.0.0 in /home/panini/.local/lib/python3.10/site-packages (from scikit-learn) (3.1.0)\n",
      "Requirement already satisfied: scipy>=1.5.0 in /home/panini/.local/lib/python3.10/site-packages (from scikit-learn) (1.11.1)\n",
      "Note: you may need to restart the kernel to use updated packages.\n"
     ]
    }
   ],
   "source": [
    "%pip install numpy\n",
    "%pip install pandas\n",
    "%pip install matplotlib\n",
    "%pip install scikit-learn\n",
    "import numpy as np\n",
    "import pandas as pd\n",
    "import matplotlib.pyplot as plt\n",
    "import sklearn as sk\n",
    "import cuml\n",
    "import cudf\n",
    "from cuml.model_selection._split import train_test_split\n",
    "from sklearn.model_selection import train_test_split"
   ]
  },
  {
   "cell_type": "code",
   "execution_count": 2,
   "metadata": {},
   "outputs": [],
   "source": [
    "file_list = [\"garmin_edge_820/3993730634_ACTIVITY_data.csv\",\n",
    "             \"garmin_edge_820/4557226804_ACTIVITY_data.csv\",\n",
    "             \"garmin_edge_820/4593452980_ACTIVITY_data.csv\",\n",
    "             \"garmin_edge_820/5191513011_ACTIVITY_data.csv\",\n",
    "]\n",
    "combined_df = pd.concat([pd.read_csv(file, sep=\";\") for file in file_list], ignore_index=True)"
   ]
  },
  {
   "cell_type": "code",
   "execution_count": 3,
   "metadata": {},
   "outputs": [],
   "source": [
    "def convert_brackets(string):\n",
    "    return string.replace('[', '(').replace(']', ')')\n",
    "\n",
    "combined_df.columns = [convert_brackets(col) for col in combined_df.columns]"
   ]
  },
  {
   "cell_type": "code",
   "execution_count": 4,
   "metadata": {},
   "outputs": [],
   "source": [
    "combined_df['timestamp(s)'] = combined_df['timestamp(s)'] + 631065600\n",
    "combined_df['time'] = pd.to_datetime(combined_df.pop('timestamp(s)'), unit='s')\n",
    "combined_df.set_index(\"time\", inplace=True)"
   ]
  },
  {
   "cell_type": "code",
   "execution_count": 5,
   "metadata": {},
   "outputs": [],
   "source": [
    "combined_df = combined_df[combined_df['speed(m/s)'] != 0]\n",
    "combined_df = combined_df.dropna(subset=['speed(m/s)'])"
   ]
  },
  {
   "cell_type": "code",
   "execution_count": 6,
   "metadata": {},
   "outputs": [],
   "source": [
    "combined_df['time_since_start(s)'] = combined_df.groupby(pd.Grouper(freq='D')).cumcount() + 1"
   ]
  },
  {
   "cell_type": "code",
   "execution_count": 7,
   "metadata": {},
   "outputs": [],
   "source": [
    "hr_zones = [(0, 128), (129, 146), (147, 156), (157, 165),(166, 174), (175, 179), (180, float('inf'))]\n",
    "power_zones = [(0, 157), (158, 186), (187, 200), (201, 218),(219, 247), (248, 287), (288, float('inf'))]\n",
    "\n",
    "def get_zone(rate, zones):\n",
    "    for zone, (lower, upper) in enumerate(zones, start=1):\n",
    "        if lower <= rate <= upper:\n",
    "            return zone\n",
    "        \n",
    "combined_df['hr_zone'] = combined_df['heart_rate(bpm)'].apply(get_zone, zones=hr_zones)\n",
    "combined_df['pwr_zone'] = combined_df['power(watts)'].apply(get_zone, zones=power_zones)"
   ]
  },
  {
   "cell_type": "code",
   "execution_count": 8,
   "metadata": {},
   "outputs": [],
   "source": [
    "combined_df['altitude_diff(m)'] = combined_df['altitude(m)'] - combined_df['altitude(m)'].shift(1)\n",
    "combined_df['distance_diff(m)'] = combined_df['distance(m)'] - combined_df['distance(m)'].shift(1)\n",
    "combined_df[['altitude_diff(m)', 'distance_diff(m)']] = combined_df[['altitude_diff(m)', 'distance_diff(m)']].fillna(0)\n",
    "combined_df['slope_percent'] = np.where(combined_df['distance_diff(m)'] == 0, 0, combined_df['altitude_diff(m)'] / combined_df['distance_diff(m)'] * 100)"
   ]
  },
  {
   "cell_type": "code",
   "execution_count": 9,
   "metadata": {},
   "outputs": [],
   "source": [
    "combined_df.drop(combined_df[combined_df['heart_rate(bpm)'] < 80].index, inplace=True)"
   ]
  },
  {
   "cell_type": "code",
   "execution_count": 10,
   "metadata": {},
   "outputs": [],
   "source": [
    "window_size = 3 \n",
    "combined_df['avg_power(watts)'] = combined_df['power(watts)'].rolling(window=int(window_size), center=True).mean()\n",
    "combined_df['avg_power(watts)'] = combined_df['avg_power(watts)'].dropna()"
   ]
  },
  {
   "cell_type": "code",
   "execution_count": 11,
   "metadata": {},
   "outputs": [],
   "source": [
    "combined_df['power_left(watts)'] = combined_df['left_right_balance'] - 128\n",
    "combined_df['power_right(watts)'] = 100 - combined_df['power_left(watts)']"
   ]
  },
  {
   "cell_type": "code",
   "execution_count": 12,
   "metadata": {},
   "outputs": [],
   "source": [
    "combined_df = combined_df.drop(['left_power_phase(degrees)',\n",
    "                            'left_power_phase_peak(degrees)',\n",
    "                            'right_power_phase(degrees)',\n",
    "                            'right_power_phase_peak(degrees)',\n",
    "                            'left_right_balance'], axis=1)"
   ]
  },
  {
   "cell_type": "code",
   "execution_count": 13,
   "metadata": {},
   "outputs": [],
   "source": [
    "combined_df['avg_power(watts)'] = combined_df['avg_power(watts)'].fillna(combined_df['avg_power(watts)'].mean())"
   ]
  },
  {
   "cell_type": "code",
   "execution_count": 14,
   "metadata": {},
   "outputs": [
    {
     "ename": "RuntimeError",
     "evalue": "Fatal CUDA error encountered at: /__w/cudf/cudf/cpp/src/bitmask/null_mask.cu:93: 801 cudaErrorNotSupported operation not supported",
     "output_type": "error",
     "traceback": [
      "\u001b[0;31m---------------------------------------------------------------------------\u001b[0m",
      "\u001b[0;31mRuntimeError\u001b[0m                              Traceback (most recent call last)",
      "Cell \u001b[0;32mIn[14], line 1\u001b[0m\n\u001b[0;32m----> 1\u001b[0m cuda_df \u001b[39m=\u001b[39m cudf\u001b[39m.\u001b[39;49mDataFrame(combined_df)\n\u001b[1;32m      2\u001b[0m X \u001b[39m=\u001b[39m cuda_df\u001b[39m.\u001b[39mdrop(\u001b[39m'\u001b[39m\u001b[39mheart_rate(bpm)\u001b[39m\u001b[39m'\u001b[39m, axis\u001b[39m=\u001b[39m\u001b[39m1\u001b[39m)\n\u001b[1;32m      3\u001b[0m y \u001b[39m=\u001b[39m cuda_df[\u001b[39m'\u001b[39m\u001b[39mheart_rate(bpm)\u001b[39m\u001b[39m'\u001b[39m]\n",
      "File \u001b[0;32m~/.local/lib/python3.10/site-packages/nvtx/nvtx.py:101\u001b[0m, in \u001b[0;36mannotate.__call__.<locals>.inner\u001b[0;34m(*args, **kwargs)\u001b[0m\n\u001b[1;32m     98\u001b[0m \u001b[39m@wraps\u001b[39m(func)\n\u001b[1;32m     99\u001b[0m \u001b[39mdef\u001b[39;00m \u001b[39minner\u001b[39m(\u001b[39m*\u001b[39margs, \u001b[39m*\u001b[39m\u001b[39m*\u001b[39mkwargs):\n\u001b[1;32m    100\u001b[0m     libnvtx_push_range(\u001b[39mself\u001b[39m\u001b[39m.\u001b[39mattributes, \u001b[39mself\u001b[39m\u001b[39m.\u001b[39mdomain\u001b[39m.\u001b[39mhandle)\n\u001b[0;32m--> 101\u001b[0m     result \u001b[39m=\u001b[39m func(\u001b[39m*\u001b[39;49margs, \u001b[39m*\u001b[39;49m\u001b[39m*\u001b[39;49mkwargs)\n\u001b[1;32m    102\u001b[0m     libnvtx_pop_range(\u001b[39mself\u001b[39m\u001b[39m.\u001b[39mdomain\u001b[39m.\u001b[39mhandle)\n\u001b[1;32m    103\u001b[0m     \u001b[39mreturn\u001b[39;00m result\n",
      "File \u001b[0;32m~/.local/lib/python3.10/site-packages/cudf/core/dataframe.py:616\u001b[0m, in \u001b[0;36mDataFrame.__init__\u001b[0;34m(self, data, index, columns, dtype, nan_as_null)\u001b[0m\n\u001b[1;32m    614\u001b[0m \u001b[39mif\u001b[39;00m \u001b[39misinstance\u001b[39m(data, (DataFrame, pd\u001b[39m.\u001b[39mDataFrame)):\n\u001b[1;32m    615\u001b[0m     \u001b[39mif\u001b[39;00m \u001b[39misinstance\u001b[39m(data, pd\u001b[39m.\u001b[39mDataFrame):\n\u001b[0;32m--> 616\u001b[0m         data \u001b[39m=\u001b[39m \u001b[39mself\u001b[39;49m\u001b[39m.\u001b[39;49mfrom_pandas(data, nan_as_null\u001b[39m=\u001b[39;49mnan_as_null)\n\u001b[1;32m    618\u001b[0m     \u001b[39mif\u001b[39;00m index \u001b[39mis\u001b[39;00m \u001b[39mnot\u001b[39;00m \u001b[39mNone\u001b[39;00m:\n\u001b[1;32m    619\u001b[0m         \u001b[39mif\u001b[39;00m \u001b[39mnot\u001b[39;00m data\u001b[39m.\u001b[39mindex\u001b[39m.\u001b[39mequals(index):\n",
      "File \u001b[0;32m~/.local/lib/python3.10/site-packages/nvtx/nvtx.py:101\u001b[0m, in \u001b[0;36mannotate.__call__.<locals>.inner\u001b[0;34m(*args, **kwargs)\u001b[0m\n\u001b[1;32m     98\u001b[0m \u001b[39m@wraps\u001b[39m(func)\n\u001b[1;32m     99\u001b[0m \u001b[39mdef\u001b[39;00m \u001b[39minner\u001b[39m(\u001b[39m*\u001b[39margs, \u001b[39m*\u001b[39m\u001b[39m*\u001b[39mkwargs):\n\u001b[1;32m    100\u001b[0m     libnvtx_push_range(\u001b[39mself\u001b[39m\u001b[39m.\u001b[39mattributes, \u001b[39mself\u001b[39m\u001b[39m.\u001b[39mdomain\u001b[39m.\u001b[39mhandle)\n\u001b[0;32m--> 101\u001b[0m     result \u001b[39m=\u001b[39m func(\u001b[39m*\u001b[39;49margs, \u001b[39m*\u001b[39;49m\u001b[39m*\u001b[39;49mkwargs)\n\u001b[1;32m    102\u001b[0m     libnvtx_pop_range(\u001b[39mself\u001b[39m\u001b[39m.\u001b[39mdomain\u001b[39m.\u001b[39mhandle)\n\u001b[1;32m    103\u001b[0m     \u001b[39mreturn\u001b[39;00m result\n",
      "File \u001b[0;32m~/.local/lib/python3.10/site-packages/cudf/core/dataframe.py:5119\u001b[0m, in \u001b[0;36mDataFrame.from_pandas\u001b[0;34m(cls, dataframe, nan_as_null)\u001b[0m\n\u001b[1;32m   5115\u001b[0m \u001b[39mfor\u001b[39;00m col_name, col_value \u001b[39min\u001b[39;00m dataframe\u001b[39m.\u001b[39mitems():\n\u001b[1;32m   5116\u001b[0m     \u001b[39m# necessary because multi-index can return multiple\u001b[39;00m\n\u001b[1;32m   5117\u001b[0m     \u001b[39m# columns for a single key\u001b[39;00m\n\u001b[1;32m   5118\u001b[0m     \u001b[39mif\u001b[39;00m \u001b[39mlen\u001b[39m(col_value\u001b[39m.\u001b[39mshape) \u001b[39m==\u001b[39m \u001b[39m1\u001b[39m:\n\u001b[0;32m-> 5119\u001b[0m         data[col_name] \u001b[39m=\u001b[39m column\u001b[39m.\u001b[39;49mas_column(\n\u001b[1;32m   5120\u001b[0m             col_value\u001b[39m.\u001b[39;49marray, nan_as_null\u001b[39m=\u001b[39;49mnan_as_null\n\u001b[1;32m   5121\u001b[0m         )\n\u001b[1;32m   5122\u001b[0m     \u001b[39melse\u001b[39;00m:\n\u001b[1;32m   5123\u001b[0m         vals \u001b[39m=\u001b[39m col_value\u001b[39m.\u001b[39mvalues\u001b[39m.\u001b[39mT\n",
      "File \u001b[0;32m~/.local/lib/python3.10/site-packages/cudf/core/column/column.py:2190\u001b[0m, in \u001b[0;36mas_column\u001b[0;34m(arbitrary, nan_as_null, dtype, length)\u001b[0m\n\u001b[1;32m   2188\u001b[0m     data \u001b[39m=\u001b[39m as_column(pa\u001b[39m.\u001b[39mArray\u001b[39m.\u001b[39mfrom_pandas(arbitrary), dtype\u001b[39m=\u001b[39marb_dtype)\n\u001b[1;32m   2189\u001b[0m \u001b[39melse\u001b[39;00m:\n\u001b[0;32m-> 2190\u001b[0m     data \u001b[39m=\u001b[39m as_column(\n\u001b[1;32m   2191\u001b[0m         pa\u001b[39m.\u001b[39;49marray(\n\u001b[1;32m   2192\u001b[0m             arbitrary,\n\u001b[1;32m   2193\u001b[0m             from_pandas\u001b[39m=\u001b[39;49m\u001b[39mTrue\u001b[39;49;00m \u001b[39mif\u001b[39;49;00m nan_as_null \u001b[39mis\u001b[39;49;00m \u001b[39mNone\u001b[39;49;00m \u001b[39melse\u001b[39;49;00m nan_as_null,\n\u001b[1;32m   2194\u001b[0m         ),\n\u001b[1;32m   2195\u001b[0m         nan_as_null\u001b[39m=\u001b[39;49mnan_as_null,\n\u001b[1;32m   2196\u001b[0m     )\n\u001b[1;32m   2197\u001b[0m \u001b[39mif\u001b[39;00m dtype \u001b[39mis\u001b[39;00m \u001b[39mnot\u001b[39;00m \u001b[39mNone\u001b[39;00m:\n\u001b[1;32m   2198\u001b[0m     data \u001b[39m=\u001b[39m data\u001b[39m.\u001b[39mastype(dtype)\n",
      "File \u001b[0;32m~/.local/lib/python3.10/site-packages/cudf/core/column/column.py:1976\u001b[0m, in \u001b[0;36mas_column\u001b[0;34m(arbitrary, nan_as_null, dtype, length)\u001b[0m\n\u001b[1;32m   1970\u001b[0m \u001b[39mif\u001b[39;00m \u001b[39misinstance\u001b[39m(arbitrary, pa\u001b[39m.\u001b[39mlib\u001b[39m.\u001b[39mHalfFloatArray):\n\u001b[1;32m   1971\u001b[0m     \u001b[39mraise\u001b[39;00m \u001b[39mNotImplementedError\u001b[39;00m(\n\u001b[1;32m   1972\u001b[0m         \u001b[39m\"\u001b[39m\u001b[39mType casting from `float16` to `float32` is not \u001b[39m\u001b[39m\"\u001b[39m\n\u001b[1;32m   1973\u001b[0m         \u001b[39m\"\u001b[39m\u001b[39myet supported in pyarrow, see: \u001b[39m\u001b[39m\"\u001b[39m\n\u001b[1;32m   1974\u001b[0m         \u001b[39m\"\u001b[39m\u001b[39mhttps://issues.apache.org/jira/browse/ARROW-3802\u001b[39m\u001b[39m\"\u001b[39m\n\u001b[1;32m   1975\u001b[0m     )\n\u001b[0;32m-> 1976\u001b[0m col \u001b[39m=\u001b[39m ColumnBase\u001b[39m.\u001b[39;49mfrom_arrow(arbitrary)\n\u001b[1;32m   1978\u001b[0m \u001b[39mif\u001b[39;00m \u001b[39misinstance\u001b[39m(arbitrary, pa\u001b[39m.\u001b[39mNullArray):\n\u001b[1;32m   1979\u001b[0m     new_dtype \u001b[39m=\u001b[39m cudf\u001b[39m.\u001b[39mdtype(arbitrary\u001b[39m.\u001b[39mtype\u001b[39m.\u001b[39mto_pandas_dtype())\n",
      "File \u001b[0;32m~/.local/lib/python3.10/site-packages/cudf/core/column/column.py:374\u001b[0m, in \u001b[0;36mColumnBase.from_arrow\u001b[0;34m(cls, array)\u001b[0m\n\u001b[1;32m    371\u001b[0m \u001b[39melif\u001b[39;00m \u001b[39misinstance\u001b[39m(array\u001b[39m.\u001b[39mtype, ArrowIntervalType):\n\u001b[1;32m    372\u001b[0m     \u001b[39mreturn\u001b[39;00m cudf\u001b[39m.\u001b[39mcore\u001b[39m.\u001b[39mcolumn\u001b[39m.\u001b[39mIntervalColumn\u001b[39m.\u001b[39mfrom_arrow(array)\n\u001b[0;32m--> 374\u001b[0m result \u001b[39m=\u001b[39m libcudf\u001b[39m.\u001b[39;49minterop\u001b[39m.\u001b[39;49mfrom_arrow(data)[\u001b[39m0\u001b[39m]\n\u001b[1;32m    376\u001b[0m \u001b[39mreturn\u001b[39;00m result\u001b[39m.\u001b[39m_with_type_metadata(cudf_dtype_from_pa_type(array\u001b[39m.\u001b[39mtype))\n",
      "File \u001b[0;32minterop.pyx:178\u001b[0m, in \u001b[0;36mcudf._lib.interop.from_arrow\u001b[0;34m()\u001b[0m\n",
      "\u001b[0;31mRuntimeError\u001b[0m: Fatal CUDA error encountered at: /__w/cudf/cudf/cpp/src/bitmask/null_mask.cu:93: 801 cudaErrorNotSupported operation not supported"
     ]
    }
   ],
   "source": [
    "cuda_df = cudf.DataFrame(combined_df)\n",
    "X = cuda_df.drop('heart_rate(bpm)', axis=1)\n",
    "y = cuda_df['heart_rate(bpm)']\n",
    "X_train, X_test, y_train, y_test = cuml.model_selection.train_test_split(X, y, test_size=1/3, train_size=0.75,  random_state=42)"
   ]
  },
  {
   "cell_type": "code",
   "execution_count": null,
   "metadata": {},
   "outputs": [],
   "source": [
    "X_cudf_train = cudf.DataFrame.from_pandas(X_train)\n",
    "X_cudf_test = cudf.DataFrame.from_pandas(X_test)\n",
    "\n",
    "y_cudf_train = cudf.Series(y_train.values)"
   ]
  },
  {
   "cell_type": "code",
   "execution_count": null,
   "metadata": {},
   "outputs": [],
   "source": [
    "lr = cuml.LinearRegression(algorithm='svd', fit_intercept=True, normalize=True)\n",
    "lr.fit(X_cudf_train,y_cudf_train)"
   ]
  }
 ],
 "metadata": {
  "kernelspec": {
   "display_name": "Python 3",
   "language": "python",
   "name": "python3"
  },
  "language_info": {
   "codemirror_mode": {
    "name": "ipython",
    "version": 3
   },
   "file_extension": ".py",
   "mimetype": "text/x-python",
   "name": "python",
   "nbconvert_exporter": "python",
   "pygments_lexer": "ipython3",
   "version": "3.10.6"
  },
  "orig_nbformat": 4
 },
 "nbformat": 4,
 "nbformat_minor": 2
}
